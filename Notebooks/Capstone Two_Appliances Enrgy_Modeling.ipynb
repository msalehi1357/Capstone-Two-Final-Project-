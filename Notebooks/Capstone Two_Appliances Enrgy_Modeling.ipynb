{
 "cells": [
  {
   "cell_type": "markdown",
   "id": "0e8337cc",
   "metadata": {},
   "source": [
    "## _Data Science Problem_\n",
    "\n",
    "The purpose of this data science project is to come up with a model to predict the applainces energy usage based on consumner's house temperature and humidity conditions plus outside enviromental conditions "
   ]
  },
  {
   "cell_type": "markdown",
   "id": "bfa99da1",
   "metadata": {},
   "source": [
    "###### This step focuses on creating and testing models for our data, as well as creating predictions and model performance evaluation. Hyperparameter tuning is also performed. \n"
   ]
  },
  {
   "cell_type": "markdown",
   "id": "15b2b333",
   "metadata": {},
   "source": [
    "# **_Importing libraries_**"
   ]
  },
  {
   "cell_type": "code",
   "execution_count": 8,
   "id": "353eee8a",
   "metadata": {},
   "outputs": [],
   "source": [
    "import os\n",
    "import numpy as np \n",
    "import pandas as pd \n",
    "import matplotlib.pyplot as plt \n",
    "import seaborn as sns \n",
    "from sklearn.metrics import mean_squared_error, r2_score, mean_absolute_error\n",
    "from sklearn.metrics import mean_absolute_percentage_error\n",
    "from sklearn.model_selection import train_test_split \n",
    "from sklearn import linear_model, preprocessing \n",
    "\n",
    "\n",
    "import warnings # For handling error messages. \n",
    "warnings.simplefilter(action=\"ignore\", category=FutureWarning)\n",
    "warnings.filterwarnings(action=\"ignore\", module=\"scipy\", message=\"^internal gelsd\")"
   ]
  },
  {
   "cell_type": "code",
   "execution_count": 9,
   "id": "613e7a23",
   "metadata": {},
   "outputs": [],
   "source": [
    "from sklearn.ensemble import GradientBoostingRegressor\n",
    "from sklearn.model_selection import cross_val_score\n",
    "from sklearn.model_selection import RepeatedKFold"
   ]
  },
  {
   "cell_type": "markdown",
   "id": "1d373e25",
   "metadata": {},
   "source": [
    "# Loading Cleaned Data  "
   ]
  },
  {
   "cell_type": "markdown",
   "id": "79528196",
   "metadata": {},
   "source": [
    "**_Loading Appliances Energy Usage Data_**"
   ]
  },
  {
   "cell_type": "code",
   "execution_count": 17,
   "id": "4a974f12",
   "metadata": {},
   "outputs": [],
   "source": [
    "df= pd.read_csv('C:/Users/msale/Documents/Springboard Data Science Track_Jan 2022/Springboard-Capstone-Two/Data_Files/appliances_clean_df.csv')"
   ]
  },
  {
   "cell_type": "code",
   "execution_count": 18,
   "id": "5e5d468f",
   "metadata": {},
   "outputs": [],
   "source": [
    "df['date'] = pd.to_datetime(df['date'])"
   ]
  },
  {
   "cell_type": "code",
   "execution_count": 19,
   "id": "725db6ad",
   "metadata": {},
   "outputs": [
    {
     "data": {
      "text/html": [
       "<div>\n",
       "<style scoped>\n",
       "    .dataframe tbody tr th:only-of-type {\n",
       "        vertical-align: middle;\n",
       "    }\n",
       "\n",
       "    .dataframe tbody tr th {\n",
       "        vertical-align: top;\n",
       "    }\n",
       "\n",
       "    .dataframe thead th {\n",
       "        text-align: right;\n",
       "    }\n",
       "</style>\n",
       "<table border=\"1\" class=\"dataframe\">\n",
       "  <thead>\n",
       "    <tr style=\"text-align: right;\">\n",
       "      <th></th>\n",
       "      <th>date</th>\n",
       "      <th>Appliances_E_Wh</th>\n",
       "      <th>Lights_E_Wh</th>\n",
       "      <th>T_Kitchen</th>\n",
       "      <th>H_Kitchen</th>\n",
       "      <th>T_Living</th>\n",
       "      <th>H_Living</th>\n",
       "      <th>T_Laundry</th>\n",
       "      <th>H_Laundry</th>\n",
       "      <th>T_Office</th>\n",
       "      <th>...</th>\n",
       "      <th>T_Teenager</th>\n",
       "      <th>H_Teenager</th>\n",
       "      <th>T_Parents</th>\n",
       "      <th>H_Parents</th>\n",
       "      <th>T_out</th>\n",
       "      <th>Press_out</th>\n",
       "      <th>H_out</th>\n",
       "      <th>Windspeed</th>\n",
       "      <th>Visibility</th>\n",
       "      <th>Tdewpoint</th>\n",
       "    </tr>\n",
       "  </thead>\n",
       "  <tbody>\n",
       "    <tr>\n",
       "      <th>0</th>\n",
       "      <td>2016-01-11 17:00:00</td>\n",
       "      <td>4.094345</td>\n",
       "      <td>30</td>\n",
       "      <td>19.89</td>\n",
       "      <td>47.596667</td>\n",
       "      <td>19.2</td>\n",
       "      <td>44.790000</td>\n",
       "      <td>19.79</td>\n",
       "      <td>44.730000</td>\n",
       "      <td>19.000000</td>\n",
       "      <td>...</td>\n",
       "      <td>18.2</td>\n",
       "      <td>48.900000</td>\n",
       "      <td>17.033333</td>\n",
       "      <td>45.53</td>\n",
       "      <td>6.600000</td>\n",
       "      <td>733.5</td>\n",
       "      <td>92.0</td>\n",
       "      <td>7.000000</td>\n",
       "      <td>63.000000</td>\n",
       "      <td>5.3</td>\n",
       "    </tr>\n",
       "    <tr>\n",
       "      <th>1</th>\n",
       "      <td>2016-01-11 17:10:00</td>\n",
       "      <td>4.094345</td>\n",
       "      <td>30</td>\n",
       "      <td>19.89</td>\n",
       "      <td>46.693333</td>\n",
       "      <td>19.2</td>\n",
       "      <td>44.722500</td>\n",
       "      <td>19.79</td>\n",
       "      <td>44.790000</td>\n",
       "      <td>19.000000</td>\n",
       "      <td>...</td>\n",
       "      <td>18.2</td>\n",
       "      <td>48.863333</td>\n",
       "      <td>17.066667</td>\n",
       "      <td>45.56</td>\n",
       "      <td>6.483333</td>\n",
       "      <td>733.6</td>\n",
       "      <td>92.0</td>\n",
       "      <td>6.666667</td>\n",
       "      <td>59.166667</td>\n",
       "      <td>5.2</td>\n",
       "    </tr>\n",
       "    <tr>\n",
       "      <th>2</th>\n",
       "      <td>2016-01-11 17:20:00</td>\n",
       "      <td>3.912023</td>\n",
       "      <td>30</td>\n",
       "      <td>19.89</td>\n",
       "      <td>46.300000</td>\n",
       "      <td>19.2</td>\n",
       "      <td>44.626667</td>\n",
       "      <td>19.79</td>\n",
       "      <td>44.933333</td>\n",
       "      <td>18.926667</td>\n",
       "      <td>...</td>\n",
       "      <td>18.2</td>\n",
       "      <td>48.730000</td>\n",
       "      <td>17.000000</td>\n",
       "      <td>45.50</td>\n",
       "      <td>6.366667</td>\n",
       "      <td>733.7</td>\n",
       "      <td>92.0</td>\n",
       "      <td>6.333333</td>\n",
       "      <td>55.333333</td>\n",
       "      <td>5.1</td>\n",
       "    </tr>\n",
       "    <tr>\n",
       "      <th>3</th>\n",
       "      <td>2016-01-11 17:30:00</td>\n",
       "      <td>3.912023</td>\n",
       "      <td>40</td>\n",
       "      <td>19.89</td>\n",
       "      <td>46.066667</td>\n",
       "      <td>19.2</td>\n",
       "      <td>44.590000</td>\n",
       "      <td>19.79</td>\n",
       "      <td>45.000000</td>\n",
       "      <td>18.890000</td>\n",
       "      <td>...</td>\n",
       "      <td>18.1</td>\n",
       "      <td>48.590000</td>\n",
       "      <td>17.000000</td>\n",
       "      <td>45.40</td>\n",
       "      <td>6.250000</td>\n",
       "      <td>733.8</td>\n",
       "      <td>92.0</td>\n",
       "      <td>6.000000</td>\n",
       "      <td>51.500000</td>\n",
       "      <td>5.0</td>\n",
       "    </tr>\n",
       "    <tr>\n",
       "      <th>4</th>\n",
       "      <td>2016-01-11 17:40:00</td>\n",
       "      <td>4.094345</td>\n",
       "      <td>40</td>\n",
       "      <td>19.89</td>\n",
       "      <td>46.333333</td>\n",
       "      <td>19.2</td>\n",
       "      <td>44.530000</td>\n",
       "      <td>19.79</td>\n",
       "      <td>45.000000</td>\n",
       "      <td>18.890000</td>\n",
       "      <td>...</td>\n",
       "      <td>18.1</td>\n",
       "      <td>48.590000</td>\n",
       "      <td>17.000000</td>\n",
       "      <td>45.40</td>\n",
       "      <td>6.133333</td>\n",
       "      <td>733.9</td>\n",
       "      <td>92.0</td>\n",
       "      <td>5.666667</td>\n",
       "      <td>47.666667</td>\n",
       "      <td>4.9</td>\n",
       "    </tr>\n",
       "  </tbody>\n",
       "</table>\n",
       "<p>5 rows × 27 columns</p>\n",
       "</div>"
      ],
      "text/plain": [
       "                 date  Appliances_E_Wh  Lights_E_Wh  T_Kitchen  H_Kitchen  \\\n",
       "0 2016-01-11 17:00:00         4.094345           30      19.89  47.596667   \n",
       "1 2016-01-11 17:10:00         4.094345           30      19.89  46.693333   \n",
       "2 2016-01-11 17:20:00         3.912023           30      19.89  46.300000   \n",
       "3 2016-01-11 17:30:00         3.912023           40      19.89  46.066667   \n",
       "4 2016-01-11 17:40:00         4.094345           40      19.89  46.333333   \n",
       "\n",
       "   T_Living   H_Living  T_Laundry  H_Laundry   T_Office  ...  T_Teenager  \\\n",
       "0      19.2  44.790000      19.79  44.730000  19.000000  ...        18.2   \n",
       "1      19.2  44.722500      19.79  44.790000  19.000000  ...        18.2   \n",
       "2      19.2  44.626667      19.79  44.933333  18.926667  ...        18.2   \n",
       "3      19.2  44.590000      19.79  45.000000  18.890000  ...        18.1   \n",
       "4      19.2  44.530000      19.79  45.000000  18.890000  ...        18.1   \n",
       "\n",
       "   H_Teenager  T_Parents  H_Parents     T_out  Press_out  H_out  Windspeed  \\\n",
       "0   48.900000  17.033333      45.53  6.600000      733.5   92.0   7.000000   \n",
       "1   48.863333  17.066667      45.56  6.483333      733.6   92.0   6.666667   \n",
       "2   48.730000  17.000000      45.50  6.366667      733.7   92.0   6.333333   \n",
       "3   48.590000  17.000000      45.40  6.250000      733.8   92.0   6.000000   \n",
       "4   48.590000  17.000000      45.40  6.133333      733.9   92.0   5.666667   \n",
       "\n",
       "   Visibility  Tdewpoint  \n",
       "0   63.000000        5.3  \n",
       "1   59.166667        5.2  \n",
       "2   55.333333        5.1  \n",
       "3   51.500000        5.0  \n",
       "4   47.666667        4.9  \n",
       "\n",
       "[5 rows x 27 columns]"
      ]
     },
     "execution_count": 19,
     "metadata": {},
     "output_type": "execute_result"
    }
   ],
   "source": [
    "df.head()"
   ]
  },
  {
   "cell_type": "markdown",
   "id": "57a4d6d9",
   "metadata": {},
   "source": [
    "# Exploring the correlations of features with the target variable"
   ]
  },
  {
   "cell_type": "code",
   "execution_count": 8,
   "id": "ec7d63ef",
   "metadata": {},
   "outputs": [],
   "source": [
    "def scatterplots(columns, ncol=None, figsize=(15, 8)):\n",
    "    if ncol is None:\n",
    "        ncol = len(columns)\n",
    "    nrow = int(np.ceil(len(columns) / ncol))\n",
    "    fig, axes = plt.subplots(nrow, ncol, figsize=figsize, squeeze=False)\n",
    "    fig.subplots_adjust(wspace=0.5, hspace=0.6)\n",
    "    for i, col in enumerate(columns):\n",
    "        ax = axes.flatten()[i]\n",
    "        ax.scatter(x = col, y = 'Appliances_E_Wh', data= df, alpha=0.5)\n",
    "        ax.set(xlabel=col, ylabel='Appliances_E_Wh')\n",
    "    nsubplots = nrow * ncol    \n",
    "    for empty in range(i+1, nsubplots):\n",
    "        axes.flatten()[empty].set_visible(False)"
   ]
  },
  {
   "cell_type": "code",
   "execution_count": 9,
   "id": "04384d05",
   "metadata": {},
   "outputs": [],
   "source": [
    "features = [column for column in df.columns if column not in ['date', 'Appliances_E_Wh']]"
   ]
  },
  {
   "cell_type": "code",
   "execution_count": 10,
   "id": "343cf22f",
   "metadata": {},
   "outputs": [
    {
     "data": {
      "image/png": "[encoded data removed]",
      "text/plain": [
       "<Figure size 1080x1080 with 28 Axes>"
      ]
     },
     "metadata": {
      "needs_background": "light"
     },
     "output_type": "display_data"
    }
   ],
   "source": [
    "scatterplots(features, ncol=4, figsize=(15, 15))"
   ]
  },
  {
   "cell_type": "markdown",
   "id": "3b566a3d",
   "metadata": {},
   "source": [
    "## Defining features (X ) and target variables (y)"
   ]
  },
  {
   "cell_type": "code",
   "execution_count": 40,
   "id": "6595fedd",
   "metadata": {},
   "outputs": [],
   "source": [
    "y = df['Appliances_E_Wh']  \n",
    "\n",
    "X = df.drop([\"Appliances_E_Wh\", \"date\"], axis=1)  # considering all the numeric variables  "
   ]
  },
  {
   "cell_type": "code",
   "execution_count": 41,
   "id": "d0af1a7f",
   "metadata": {},
   "outputs": [
    {
     "data": {
      "text/html": [
       "<div>\n",
       "<style scoped>\n",
       "    .dataframe tbody tr th:only-of-type {\n",
       "        vertical-align: middle;\n",
       "    }\n",
       "\n",
       "    .dataframe tbody tr th {\n",
       "        vertical-align: top;\n",
       "    }\n",
       "\n",
       "    .dataframe thead th {\n",
       "        text-align: right;\n",
       "    }\n",
       "</style>\n",
       "<table border=\"1\" class=\"dataframe\">\n",
       "  <thead>\n",
       "    <tr style=\"text-align: right;\">\n",
       "      <th></th>\n",
       "      <th>Lights_E_Wh</th>\n",
       "      <th>T_Kitchen</th>\n",
       "      <th>H_Kitchen</th>\n",
       "      <th>T_Living</th>\n",
       "      <th>H_Living</th>\n",
       "      <th>T_Laundry</th>\n",
       "      <th>H_Laundry</th>\n",
       "      <th>T_Office</th>\n",
       "      <th>H_Office</th>\n",
       "      <th>T_Bathroom</th>\n",
       "      <th>...</th>\n",
       "      <th>T_Teenager</th>\n",
       "      <th>H_Teenager</th>\n",
       "      <th>T_Parents</th>\n",
       "      <th>H_Parents</th>\n",
       "      <th>T_out</th>\n",
       "      <th>Press_out</th>\n",
       "      <th>H_out</th>\n",
       "      <th>Windspeed</th>\n",
       "      <th>Visibility</th>\n",
       "      <th>Tdewpoint</th>\n",
       "    </tr>\n",
       "  </thead>\n",
       "  <tbody>\n",
       "    <tr>\n",
       "      <th>0</th>\n",
       "      <td>30</td>\n",
       "      <td>19.89</td>\n",
       "      <td>47.596667</td>\n",
       "      <td>19.2</td>\n",
       "      <td>44.790000</td>\n",
       "      <td>19.79</td>\n",
       "      <td>44.730000</td>\n",
       "      <td>19.000000</td>\n",
       "      <td>45.566667</td>\n",
       "      <td>17.166667</td>\n",
       "      <td>...</td>\n",
       "      <td>18.2</td>\n",
       "      <td>48.900000</td>\n",
       "      <td>17.033333</td>\n",
       "      <td>45.53</td>\n",
       "      <td>6.600000</td>\n",
       "      <td>733.5</td>\n",
       "      <td>92.0</td>\n",
       "      <td>7.000000</td>\n",
       "      <td>63.000000</td>\n",
       "      <td>5.3</td>\n",
       "    </tr>\n",
       "    <tr>\n",
       "      <th>1</th>\n",
       "      <td>30</td>\n",
       "      <td>19.89</td>\n",
       "      <td>46.693333</td>\n",
       "      <td>19.2</td>\n",
       "      <td>44.722500</td>\n",
       "      <td>19.79</td>\n",
       "      <td>44.790000</td>\n",
       "      <td>19.000000</td>\n",
       "      <td>45.992500</td>\n",
       "      <td>17.166667</td>\n",
       "      <td>...</td>\n",
       "      <td>18.2</td>\n",
       "      <td>48.863333</td>\n",
       "      <td>17.066667</td>\n",
       "      <td>45.56</td>\n",
       "      <td>6.483333</td>\n",
       "      <td>733.6</td>\n",
       "      <td>92.0</td>\n",
       "      <td>6.666667</td>\n",
       "      <td>59.166667</td>\n",
       "      <td>5.2</td>\n",
       "    </tr>\n",
       "    <tr>\n",
       "      <th>2</th>\n",
       "      <td>30</td>\n",
       "      <td>19.89</td>\n",
       "      <td>46.300000</td>\n",
       "      <td>19.2</td>\n",
       "      <td>44.626667</td>\n",
       "      <td>19.79</td>\n",
       "      <td>44.933333</td>\n",
       "      <td>18.926667</td>\n",
       "      <td>45.890000</td>\n",
       "      <td>17.166667</td>\n",
       "      <td>...</td>\n",
       "      <td>18.2</td>\n",
       "      <td>48.730000</td>\n",
       "      <td>17.000000</td>\n",
       "      <td>45.50</td>\n",
       "      <td>6.366667</td>\n",
       "      <td>733.7</td>\n",
       "      <td>92.0</td>\n",
       "      <td>6.333333</td>\n",
       "      <td>55.333333</td>\n",
       "      <td>5.1</td>\n",
       "    </tr>\n",
       "    <tr>\n",
       "      <th>3</th>\n",
       "      <td>40</td>\n",
       "      <td>19.89</td>\n",
       "      <td>46.066667</td>\n",
       "      <td>19.2</td>\n",
       "      <td>44.590000</td>\n",
       "      <td>19.79</td>\n",
       "      <td>45.000000</td>\n",
       "      <td>18.890000</td>\n",
       "      <td>45.723333</td>\n",
       "      <td>17.166667</td>\n",
       "      <td>...</td>\n",
       "      <td>18.1</td>\n",
       "      <td>48.590000</td>\n",
       "      <td>17.000000</td>\n",
       "      <td>45.40</td>\n",
       "      <td>6.250000</td>\n",
       "      <td>733.8</td>\n",
       "      <td>92.0</td>\n",
       "      <td>6.000000</td>\n",
       "      <td>51.500000</td>\n",
       "      <td>5.0</td>\n",
       "    </tr>\n",
       "    <tr>\n",
       "      <th>4</th>\n",
       "      <td>40</td>\n",
       "      <td>19.89</td>\n",
       "      <td>46.333333</td>\n",
       "      <td>19.2</td>\n",
       "      <td>44.530000</td>\n",
       "      <td>19.79</td>\n",
       "      <td>45.000000</td>\n",
       "      <td>18.890000</td>\n",
       "      <td>45.530000</td>\n",
       "      <td>17.200000</td>\n",
       "      <td>...</td>\n",
       "      <td>18.1</td>\n",
       "      <td>48.590000</td>\n",
       "      <td>17.000000</td>\n",
       "      <td>45.40</td>\n",
       "      <td>6.133333</td>\n",
       "      <td>733.9</td>\n",
       "      <td>92.0</td>\n",
       "      <td>5.666667</td>\n",
       "      <td>47.666667</td>\n",
       "      <td>4.9</td>\n",
       "    </tr>\n",
       "  </tbody>\n",
       "</table>\n",
       "<p>5 rows × 25 columns</p>\n",
       "</div>"
      ],
      "text/plain": [
       "   Lights_E_Wh  T_Kitchen  H_Kitchen  T_Living   H_Living  T_Laundry  \\\n",
       "0           30      19.89  47.596667      19.2  44.790000      19.79   \n",
       "1           30      19.89  46.693333      19.2  44.722500      19.79   \n",
       "2           30      19.89  46.300000      19.2  44.626667      19.79   \n",
       "3           40      19.89  46.066667      19.2  44.590000      19.79   \n",
       "4           40      19.89  46.333333      19.2  44.530000      19.79   \n",
       "\n",
       "   H_Laundry   T_Office   H_Office  T_Bathroom  ...  T_Teenager  H_Teenager  \\\n",
       "0  44.730000  19.000000  45.566667   17.166667  ...        18.2   48.900000   \n",
       "1  44.790000  19.000000  45.992500   17.166667  ...        18.2   48.863333   \n",
       "2  44.933333  18.926667  45.890000   17.166667  ...        18.2   48.730000   \n",
       "3  45.000000  18.890000  45.723333   17.166667  ...        18.1   48.590000   \n",
       "4  45.000000  18.890000  45.530000   17.200000  ...        18.1   48.590000   \n",
       "\n",
       "   T_Parents  H_Parents     T_out  Press_out  H_out  Windspeed  Visibility  \\\n",
       "0  17.033333      45.53  6.600000      733.5   92.0   7.000000   63.000000   \n",
       "1  17.066667      45.56  6.483333      733.6   92.0   6.666667   59.166667   \n",
       "2  17.000000      45.50  6.366667      733.7   92.0   6.333333   55.333333   \n",
       "3  17.000000      45.40  6.250000      733.8   92.0   6.000000   51.500000   \n",
       "4  17.000000      45.40  6.133333      733.9   92.0   5.666667   47.666667   \n",
       "\n",
       "   Tdewpoint  \n",
       "0        5.3  \n",
       "1        5.2  \n",
       "2        5.1  \n",
       "3        5.0  \n",
       "4        4.9  \n",
       "\n",
       "[5 rows x 25 columns]"
      ]
     },
     "execution_count": 41,
     "metadata": {},
     "output_type": "execute_result"
    }
   ],
   "source": [
    "X.head()"
   ]
  },
  {
   "cell_type": "code",
   "execution_count": 13,
   "id": "37516537",
   "metadata": {},
   "outputs": [
    {
     "data": {
      "text/plain": [
       "0    4.094345\n",
       "1    4.094345\n",
       "2    3.912023\n",
       "3    3.912023\n",
       "4    4.094345\n",
       "Name: Appliances_E_Wh, dtype: float64"
      ]
     },
     "execution_count": 13,
     "metadata": {},
     "output_type": "execute_result"
    }
   ],
   "source": [
    "y.head()"
   ]
  },
  {
   "cell_type": "code",
   "execution_count": 92,
   "id": "09d23f08",
   "metadata": {},
   "outputs": [
    {
     "data": {
      "text/plain": [
       "count    19735.000000\n",
       "mean         4.303707\n",
       "std          0.656307\n",
       "min          2.302585\n",
       "25%          3.912023\n",
       "50%          4.094345\n",
       "75%          4.605170\n",
       "max          6.984716\n",
       "Name: Appliances_E_Wh, dtype: float64"
      ]
     },
     "execution_count": 92,
     "metadata": {},
     "output_type": "execute_result"
    }
   ],
   "source": [
    "y.describe()"
   ]
  },
  {
   "cell_type": "markdown",
   "id": "860bcb21",
   "metadata": {},
   "source": [
    "## _Creating a 70/30 train and test split_"
   ]
  },
  {
   "cell_type": "code",
   "execution_count": 43,
   "id": "e5df7316",
   "metadata": {},
   "outputs": [],
   "source": [
    "X_train, X_test, y_train, y_test = train_test_split(X, y, test_size = 0.30, random_state = 42)"
   ]
  },
  {
   "cell_type": "code",
   "execution_count": 44,
   "id": "dfbc45c2",
   "metadata": {},
   "outputs": [
    {
     "data": {
      "text/plain": [
       "((13814, 25), (5921, 25), (13814,), (5921,))"
      ]
     },
     "execution_count": 44,
     "metadata": {},
     "output_type": "execute_result"
    }
   ],
   "source": [
    "X_train.shape, X_test.shape, y_train.shape, y_test.shape"
   ]
  },
  {
   "cell_type": "markdown",
   "id": "c70b42c4",
   "metadata": {},
   "source": [
    "## Using Sklearn, standarizing the magnitude of the features by scaling the values.\n",
    "\n",
    "_Note: We need to fit() our scaler on X_train and then use that fitted scaler to transform() X_test. This is to avoid data leakage while we standardize our data_"
   ]
  },
  {
   "cell_type": "code",
   "execution_count": 45,
   "id": "61e515bc",
   "metadata": {},
   "outputs": [],
   "source": [
    "from sklearn.preprocessing import StandardScaler\n",
    "scaler = StandardScaler()\n",
    "X_train_scaled = scaler.fit_transform(X_train)\n",
    "X_test_scaled = scaler.transform(X_test)"
   ]
  },
  {
   "cell_type": "code",
   "execution_count": 17,
   "id": "b9641349",
   "metadata": {},
   "outputs": [
    {
     "data": {
      "text/plain": [
       "((13814, 25), (5921, 25))"
      ]
     },
     "execution_count": 17,
     "metadata": {},
     "output_type": "execute_result"
    }
   ],
   "source": [
    "X_train_scaled.shape, X_test_scaled.shape"
   ]
  },
  {
   "cell_type": "code",
   "execution_count": 18,
   "id": "a67295b3",
   "metadata": {},
   "outputs": [
    {
     "data": {
      "text/plain": [
       "((13814,), (5921,))"
      ]
     },
     "execution_count": 18,
     "metadata": {},
     "output_type": "execute_result"
    }
   ],
   "source": [
    "y_train.shape, y_test.shape"
   ]
  },
  {
   "cell_type": "code",
   "execution_count": 19,
   "id": "0d550d2e",
   "metadata": {},
   "outputs": [
    {
     "data": {
      "text/plain": [
       "dtype('float64')"
      ]
     },
     "execution_count": 19,
     "metadata": {},
     "output_type": "execute_result"
    }
   ],
   "source": [
    "y_train.dtypes"
   ]
  },
  {
   "cell_type": "code",
   "execution_count": 20,
   "id": "9334c0b0",
   "metadata": {},
   "outputs": [
    {
     "data": {
      "text/plain": [
       "(1.6068738283730658e-16, 1.0000000000000002)"
      ]
     },
     "execution_count": 20,
     "metadata": {},
     "output_type": "execute_result"
    }
   ],
   "source": [
    "X_train_scaled.mean(), X_train_scaled.std() # verifying scaling: mean should be zero, std would be one"
   ]
  },
  {
   "cell_type": "markdown",
   "id": "1ea2312e",
   "metadata": {},
   "source": [
    "# Modeling "
   ]
  },
  {
   "attachments": {
    "image.png": {
     "image/png": "[encoded data removed]"
    }
   },
   "cell_type": "markdown",
   "id": "fc15b941",
   "metadata": {},
   "source": [
    "**Performance Summary**\n",
    " \n",
    "\n",
    "![image.png](attachment:image.png)\n"
   ]
  },
  {
   "cell_type": "markdown",
   "id": "7976aaeb",
   "metadata": {},
   "source": [
    "##    1) Linear Regression Model "
   ]
  },
  {
   "cell_type": "code",
   "execution_count": 46,
   "id": "673d73f2",
   "metadata": {},
   "outputs": [],
   "source": [
    "lm = linear_model.LinearRegression()"
   ]
  },
  {
   "cell_type": "code",
   "execution_count": 47,
   "id": "076871ce",
   "metadata": {},
   "outputs": [
    {
     "data": {
      "text/plain": [
       "LinearRegression()"
      ]
     },
     "execution_count": 47,
     "metadata": {},
     "output_type": "execute_result"
    }
   ],
   "source": [
    "lm.fit(X_train_scaled, y_train)"
   ]
  },
  {
   "cell_type": "code",
   "execution_count": 48,
   "id": "34639d3c",
   "metadata": {},
   "outputs": [],
   "source": [
    "y_tr_pred = lm.predict(X_train_scaled)"
   ]
  },
  {
   "cell_type": "code",
   "execution_count": 49,
   "id": "381b07cf",
   "metadata": {},
   "outputs": [],
   "source": [
    "y_pred_lm = lm.predict(X_test_scaled)"
   ]
  },
  {
   "cell_type": "code",
   "execution_count": 50,
   "id": "264abe8b",
   "metadata": {},
   "outputs": [
    {
     "data": {
      "text/plain": [
       "4.304241074952765"
      ]
     },
     "execution_count": 50,
     "metadata": {},
     "output_type": "execute_result"
    }
   ],
   "source": [
    "lm.intercept_"
   ]
  },
  {
   "cell_type": "code",
   "execution_count": 51,
   "id": "30a7923a",
   "metadata": {},
   "outputs": [
    {
     "data": {
      "text/plain": [
       "{'copy_X': True,\n",
       " 'fit_intercept': True,\n",
       " 'n_jobs': None,\n",
       " 'normalize': False,\n",
       " 'positive': False}"
      ]
     },
     "execution_count": 51,
     "metadata": {},
     "output_type": "execute_result"
    }
   ],
   "source": [
    "lm.get_params(deep=True)"
   ]
  },
  {
   "cell_type": "markdown",
   "id": "78844eeb",
   "metadata": {},
   "source": [
    "### 1.1) Feature Importance"
   ]
  },
  {
   "cell_type": "code",
   "execution_count": 52,
   "id": "2c31d4ec",
   "metadata": {
    "scrolled": true
   },
   "outputs": [
    {
     "data": {
      "text/plain": [
       "array([ 0.13074235,  0.02672969,  0.43116503, -0.21311231, -0.33607356,\n",
       "        0.30683661,  0.08140753, -0.04651039, -0.0162244 ,  0.00732276,\n",
       "        0.02673439,  0.32004103,  0.08621609, -0.05276893, -0.0285307 ,\n",
       "        0.19720284, -0.23585263, -0.22133185, -0.05529019, -0.40074226,\n",
       "       -0.0007652 , -0.13195244,  0.03486214,  0.01165166,  0.17638895])"
      ]
     },
     "execution_count": 52,
     "metadata": {},
     "output_type": "execute_result"
    }
   ],
   "source": [
    "lm.coef_"
   ]
  },
  {
   "cell_type": "code",
   "execution_count": 53,
   "id": "61087920",
   "metadata": {},
   "outputs": [
    {
     "data": {
      "text/html": [
       "<div>\n",
       "<style scoped>\n",
       "    .dataframe tbody tr th:only-of-type {\n",
       "        vertical-align: middle;\n",
       "    }\n",
       "\n",
       "    .dataframe tbody tr th {\n",
       "        vertical-align: top;\n",
       "    }\n",
       "\n",
       "    .dataframe thead th {\n",
       "        text-align: right;\n",
       "    }\n",
       "</style>\n",
       "<table border=\"1\" class=\"dataframe\">\n",
       "  <thead>\n",
       "    <tr style=\"text-align: right;\">\n",
       "      <th></th>\n",
       "      <th>Coef</th>\n",
       "    </tr>\n",
       "  </thead>\n",
       "  <tbody>\n",
       "    <tr>\n",
       "      <th>H_Kitchen</th>\n",
       "      <td>0.431165</td>\n",
       "    </tr>\n",
       "    <tr>\n",
       "      <th>T_out</th>\n",
       "      <td>0.400742</td>\n",
       "    </tr>\n",
       "    <tr>\n",
       "      <th>H_Living</th>\n",
       "      <td>0.336074</td>\n",
       "    </tr>\n",
       "    <tr>\n",
       "      <th>T_Building_out_NS</th>\n",
       "      <td>0.320041</td>\n",
       "    </tr>\n",
       "    <tr>\n",
       "      <th>T_Laundry</th>\n",
       "      <td>0.306837</td>\n",
       "    </tr>\n",
       "    <tr>\n",
       "      <th>H_Teenager</th>\n",
       "      <td>0.235853</td>\n",
       "    </tr>\n",
       "    <tr>\n",
       "      <th>T_Parents</th>\n",
       "      <td>0.221332</td>\n",
       "    </tr>\n",
       "    <tr>\n",
       "      <th>T_Living</th>\n",
       "      <td>0.213112</td>\n",
       "    </tr>\n",
       "    <tr>\n",
       "      <th>T_Teenager</th>\n",
       "      <td>0.197203</td>\n",
       "    </tr>\n",
       "    <tr>\n",
       "      <th>Tdewpoint</th>\n",
       "      <td>0.176389</td>\n",
       "    </tr>\n",
       "    <tr>\n",
       "      <th>H_out</th>\n",
       "      <td>0.131952</td>\n",
       "    </tr>\n",
       "    <tr>\n",
       "      <th>Lights_E_Wh</th>\n",
       "      <td>0.130742</td>\n",
       "    </tr>\n",
       "    <tr>\n",
       "      <th>H_Building_out_NS</th>\n",
       "      <td>0.086216</td>\n",
       "    </tr>\n",
       "    <tr>\n",
       "      <th>H_Laundry</th>\n",
       "      <td>0.081408</td>\n",
       "    </tr>\n",
       "    <tr>\n",
       "      <th>H_Parents</th>\n",
       "      <td>0.055290</td>\n",
       "    </tr>\n",
       "    <tr>\n",
       "      <th>T_Ironning</th>\n",
       "      <td>0.052769</td>\n",
       "    </tr>\n",
       "    <tr>\n",
       "      <th>T_Office</th>\n",
       "      <td>0.046510</td>\n",
       "    </tr>\n",
       "    <tr>\n",
       "      <th>Windspeed</th>\n",
       "      <td>0.034862</td>\n",
       "    </tr>\n",
       "    <tr>\n",
       "      <th>H_Ironing</th>\n",
       "      <td>0.028531</td>\n",
       "    </tr>\n",
       "    <tr>\n",
       "      <th>H_Bathroom</th>\n",
       "      <td>0.026734</td>\n",
       "    </tr>\n",
       "    <tr>\n",
       "      <th>T_Kitchen</th>\n",
       "      <td>0.026730</td>\n",
       "    </tr>\n",
       "    <tr>\n",
       "      <th>H_Office</th>\n",
       "      <td>0.016224</td>\n",
       "    </tr>\n",
       "    <tr>\n",
       "      <th>Visibility</th>\n",
       "      <td>0.011652</td>\n",
       "    </tr>\n",
       "    <tr>\n",
       "      <th>T_Bathroom</th>\n",
       "      <td>0.007323</td>\n",
       "    </tr>\n",
       "    <tr>\n",
       "      <th>Press_out</th>\n",
       "      <td>0.000765</td>\n",
       "    </tr>\n",
       "  </tbody>\n",
       "</table>\n",
       "</div>"
      ],
      "text/plain": [
       "                       Coef\n",
       "H_Kitchen          0.431165\n",
       "T_out              0.400742\n",
       "H_Living           0.336074\n",
       "T_Building_out_NS  0.320041\n",
       "T_Laundry          0.306837\n",
       "H_Teenager         0.235853\n",
       "T_Parents          0.221332\n",
       "T_Living           0.213112\n",
       "T_Teenager         0.197203\n",
       "Tdewpoint          0.176389\n",
       "H_out              0.131952\n",
       "Lights_E_Wh        0.130742\n",
       "H_Building_out_NS  0.086216\n",
       "H_Laundry          0.081408\n",
       "H_Parents          0.055290\n",
       "T_Ironning         0.052769\n",
       "T_Office           0.046510\n",
       "Windspeed          0.034862\n",
       "H_Ironing          0.028531\n",
       "H_Bathroom         0.026734\n",
       "T_Kitchen          0.026730\n",
       "H_Office           0.016224\n",
       "Visibility         0.011652\n",
       "T_Bathroom         0.007323\n",
       "Press_out          0.000765"
      ]
     },
     "execution_count": 53,
     "metadata": {},
     "output_type": "execute_result"
    }
   ],
   "source": [
    "coef = pd.DataFrame(lm.coef_ , index = X_train.columns, columns = ['Coef'])\n",
    "coef.abs().sort_values(by = ['Coef'], ascending = False)"
   ]
  },
  {
   "cell_type": "code",
   "execution_count": 54,
   "id": "05cb3348",
   "metadata": {},
   "outputs": [
    {
     "data": {
      "image/png": "[encoded data removed]",
      "text/plain": [
       "<Figure size 432x288 with 1 Axes>"
      ]
     },
     "metadata": {
      "needs_background": "light"
     },
     "output_type": "display_data"
    }
   ],
   "source": [
    "pd.Series(lm.coef_, index=X_train.columns).abs().sort_values(ascending= False).plot(kind='bar')\n",
    "plt.xlabel('features')\n",
    "plt.ylabel('abs importance')\n",
    "plt.title('Linear regressor feature importances');"
   ]
  },
  {
   "cell_type": "markdown",
   "id": "c0cafd59",
   "metadata": {},
   "source": [
    "#### The top six features from Linear model are: \n",
    "\n",
    "H_Kitchen, T_out, H_Living, T_Building_out_NS, T_Laundry, H_Teenager"
   ]
  },
  {
   "cell_type": "markdown",
   "id": "484425f9",
   "metadata": {},
   "source": [
    "### 1.2) Comparing Prediction and Actual Values from Linear Model "
   ]
  },
  {
   "cell_type": "code",
   "execution_count": 55,
   "id": "ee3b7e26",
   "metadata": {},
   "outputs": [
    {
     "data": {
      "image/png": "[encoded data removed]",
      "text/plain": [
       "<Figure size 432x288 with 1 Axes>"
      ]
     },
     "metadata": {
      "needs_background": "light"
     },
     "output_type": "display_data"
    }
   ],
   "source": [
    "plt.scatter(y_test,y_pred_lm)\n",
    "plt.title(\"Linear Model predictions vs. the actual values\")\n",
    "plt.xlabel('Actual  E Wh')\n",
    "plt.ylabel('Predicted E Wh');"
   ]
  },
  {
   "cell_type": "code",
   "execution_count": 56,
   "id": "c8090af2",
   "metadata": {
    "scrolled": true
   },
   "outputs": [
    {
     "data": {
      "image/png": "[encoded data removed]",
      "text/plain": [
       "<Figure size 432x288 with 1 Axes>"
      ]
     },
     "metadata": {
      "needs_background": "light"
     },
     "output_type": "display_data"
    }
   ],
   "source": [
    "bins = np.linspace(2, 7, 15)\n",
    "plt.title(\"Linear Model prediction vs. the actual values\")\n",
    "plt.hist(y_pred_lm , bins, alpha=0.5, label='Predicted')\n",
    "plt.hist(y_test, bins, alpha=0.5, label='Actual')\n",
    "plt.legend(loc='upper right')\n",
    "plt.show()"
   ]
  },
  {
   "cell_type": "markdown",
   "id": "f785f6c7",
   "metadata": {},
   "source": [
    "#### Linear model underestimates the smaller values and tend to overestimate the middle range target values"
   ]
  },
  {
   "cell_type": "markdown",
   "id": "93c5d638",
   "metadata": {},
   "source": [
    "### 1.3) Model Performance"
   ]
  },
  {
   "cell_type": "code",
   "execution_count": 57,
   "id": "ea925fa6",
   "metadata": {},
   "outputs": [
    {
     "data": {
      "text/plain": [
       "0.27122441785249796"
      ]
     },
     "execution_count": 57,
     "metadata": {},
     "output_type": "execute_result"
    }
   ],
   "source": [
    "lm.score(X_train_scaled, y_train)  # training set accuracy "
   ]
  },
  {
   "cell_type": "code",
   "execution_count": 58,
   "id": "5238dc89",
   "metadata": {},
   "outputs": [
    {
     "data": {
      "text/plain": [
       "0.27122441785249796"
      ]
     },
     "execution_count": 58,
     "metadata": {},
     "output_type": "execute_result"
    }
   ],
   "source": [
    "r2_score(y_train, y_tr_pred) # confirming training set accuracy using r2_score function"
   ]
  },
  {
   "cell_type": "markdown",
   "id": "12bdb1c6",
   "metadata": {},
   "source": [
    "###### The above score is called R-Squared coefficient, or the \"coefficient of determination\". It's basically a measure of how successfully our model predicts the variations in the data away from the mean: 1 would mean a perfect model that explains 100% of the variation. Zero means that model is not doing better than estimating just the average. At the moment, our model explains only about 27% of the variation from the mean. There's more work to do!"
   ]
  },
  {
   "cell_type": "code",
   "execution_count": 59,
   "id": "3e21c8fa",
   "metadata": {
    "scrolled": true
   },
   "outputs": [
    {
     "data": {
      "text/plain": [
       "0.28012300902707965"
      ]
     },
     "execution_count": 59,
     "metadata": {},
     "output_type": "execute_result"
    }
   ],
   "source": [
    "lm.score(X_test_scaled, y_test) # test set accuracy "
   ]
  },
  {
   "cell_type": "code",
   "execution_count": 60,
   "id": "2270cde4",
   "metadata": {},
   "outputs": [
    {
     "data": {
      "text/plain": [
       "0.28012300902707965"
      ]
     },
     "execution_count": 60,
     "metadata": {},
     "output_type": "execute_result"
    }
   ],
   "source": [
    "r2_score(y_test, y_pred_lm) # confirming test set accuracy using r2_score"
   ]
  },
  {
   "cell_type": "code",
   "execution_count": 61,
   "id": "d1647087",
   "metadata": {},
   "outputs": [
    {
     "data": {
      "text/plain": [
       "0.3953955328312127"
      ]
     },
     "execution_count": 61,
     "metadata": {},
     "output_type": "execute_result"
    }
   ],
   "source": [
    "mae_lm = mean_absolute_error(y_test, y_pred_lm)  # MAE on the test set\n",
    "mae_lm"
   ]
  },
  {
   "cell_type": "code",
   "execution_count": 62,
   "id": "fbea063f",
   "metadata": {},
   "outputs": [
    {
     "data": {
      "text/plain": [
       "0.08983428057623849"
      ]
     },
     "execution_count": 62,
     "metadata": {},
     "output_type": "execute_result"
    }
   ],
   "source": [
    "mape_lm = mean_absolute_percentage_error(y_test, y_pred_lm)  # 8.98 % error\n",
    "mape_lm"
   ]
  },
  {
   "cell_type": "markdown",
   "id": "e5e2a970",
   "metadata": {},
   "source": [
    "## 2) RandomForest"
   ]
  },
  {
   "cell_type": "code",
   "execution_count": 67,
   "id": "399b87d4",
   "metadata": {},
   "outputs": [],
   "source": [
    "from sklearn.ensemble import RandomForestRegressor"
   ]
  },
  {
   "cell_type": "code",
   "execution_count": 68,
   "id": "944613a7",
   "metadata": {},
   "outputs": [],
   "source": [
    "rf = RandomForestRegressor(random_state=42)"
   ]
  },
  {
   "cell_type": "code",
   "execution_count": 69,
   "id": "1a33400f",
   "metadata": {},
   "outputs": [
    {
     "data": {
      "text/plain": [
       "RandomForestRegressor(random_state=42)"
      ]
     },
     "execution_count": 69,
     "metadata": {},
     "output_type": "execute_result"
    }
   ],
   "source": [
    "rf.fit(X_train_scaled, y_train)"
   ]
  },
  {
   "cell_type": "code",
   "execution_count": 70,
   "id": "38a5a37a",
   "metadata": {},
   "outputs": [],
   "source": [
    "y_pred_rf= rf.predict(X_test_scaled)"
   ]
  },
  {
   "cell_type": "code",
   "execution_count": 71,
   "id": "6df639f4",
   "metadata": {},
   "outputs": [
    {
     "data": {
      "text/plain": [
       "DecisionTreeRegressor()"
      ]
     },
     "execution_count": 71,
     "metadata": {},
     "output_type": "execute_result"
    }
   ],
   "source": [
    "rf.base_estimator_"
   ]
  },
  {
   "cell_type": "code",
   "execution_count": 72,
   "id": "64e20eb6",
   "metadata": {},
   "outputs": [
    {
     "data": {
      "text/plain": [
       "{'bootstrap': True,\n",
       " 'ccp_alpha': 0.0,\n",
       " 'criterion': 'mse',\n",
       " 'max_depth': None,\n",
       " 'max_features': 'auto',\n",
       " 'max_leaf_nodes': None,\n",
       " 'max_samples': None,\n",
       " 'min_impurity_decrease': 0.0,\n",
       " 'min_impurity_split': None,\n",
       " 'min_samples_leaf': 1,\n",
       " 'min_samples_split': 2,\n",
       " 'min_weight_fraction_leaf': 0.0,\n",
       " 'n_estimators': 100,\n",
       " 'n_jobs': None,\n",
       " 'oob_score': False,\n",
       " 'random_state': 42,\n",
       " 'verbose': 0,\n",
       " 'warm_start': False}"
      ]
     },
     "execution_count": 72,
     "metadata": {},
     "output_type": "execute_result"
    }
   ],
   "source": [
    "rf.get_params(deep=True)"
   ]
  },
  {
   "cell_type": "markdown",
   "id": "09229053",
   "metadata": {},
   "source": [
    "### 2.1) Feature Importance"
   ]
  },
  {
   "cell_type": "code",
   "execution_count": 73,
   "id": "45624133",
   "metadata": {},
   "outputs": [
    {
     "data": {
      "text/plain": [
       "array([0.07401926, 0.02302623, 0.06475373, 0.04607848, 0.03929353,\n",
       "       0.04162365, 0.04148919, 0.03141293, 0.03010233, 0.03688736,\n",
       "       0.04024956, 0.03100159, 0.03915831, 0.02214954, 0.03215455,\n",
       "       0.04389885, 0.06467653, 0.02792083, 0.03943254, 0.02404528,\n",
       "       0.04887636, 0.07704397, 0.02872469, 0.01914757, 0.03283312])"
      ]
     },
     "execution_count": 73,
     "metadata": {},
     "output_type": "execute_result"
    }
   ],
   "source": [
    "rf.feature_importances_"
   ]
  },
  {
   "cell_type": "code",
   "execution_count": 74,
   "id": "c3c95beb",
   "metadata": {
    "scrolled": true
   },
   "outputs": [
    {
     "data": {
      "text/html": [
       "<div>\n",
       "<style scoped>\n",
       "    .dataframe tbody tr th:only-of-type {\n",
       "        vertical-align: middle;\n",
       "    }\n",
       "\n",
       "    .dataframe tbody tr th {\n",
       "        vertical-align: top;\n",
       "    }\n",
       "\n",
       "    .dataframe thead th {\n",
       "        text-align: right;\n",
       "    }\n",
       "</style>\n",
       "<table border=\"1\" class=\"dataframe\">\n",
       "  <thead>\n",
       "    <tr style=\"text-align: right;\">\n",
       "      <th></th>\n",
       "      <th>Coef</th>\n",
       "    </tr>\n",
       "  </thead>\n",
       "  <tbody>\n",
       "    <tr>\n",
       "      <th>H_out</th>\n",
       "      <td>0.077044</td>\n",
       "    </tr>\n",
       "    <tr>\n",
       "      <th>Lights_E_Wh</th>\n",
       "      <td>0.074019</td>\n",
       "    </tr>\n",
       "    <tr>\n",
       "      <th>H_Kitchen</th>\n",
       "      <td>0.064754</td>\n",
       "    </tr>\n",
       "    <tr>\n",
       "      <th>H_Teenager</th>\n",
       "      <td>0.064677</td>\n",
       "    </tr>\n",
       "    <tr>\n",
       "      <th>Press_out</th>\n",
       "      <td>0.048876</td>\n",
       "    </tr>\n",
       "    <tr>\n",
       "      <th>T_Living</th>\n",
       "      <td>0.046078</td>\n",
       "    </tr>\n",
       "    <tr>\n",
       "      <th>T_Teenager</th>\n",
       "      <td>0.043899</td>\n",
       "    </tr>\n",
       "    <tr>\n",
       "      <th>T_Laundry</th>\n",
       "      <td>0.041624</td>\n",
       "    </tr>\n",
       "    <tr>\n",
       "      <th>H_Laundry</th>\n",
       "      <td>0.041489</td>\n",
       "    </tr>\n",
       "    <tr>\n",
       "      <th>H_Bathroom</th>\n",
       "      <td>0.040250</td>\n",
       "    </tr>\n",
       "    <tr>\n",
       "      <th>H_Parents</th>\n",
       "      <td>0.039433</td>\n",
       "    </tr>\n",
       "    <tr>\n",
       "      <th>H_Living</th>\n",
       "      <td>0.039294</td>\n",
       "    </tr>\n",
       "    <tr>\n",
       "      <th>H_Building_out_NS</th>\n",
       "      <td>0.039158</td>\n",
       "    </tr>\n",
       "    <tr>\n",
       "      <th>T_Bathroom</th>\n",
       "      <td>0.036887</td>\n",
       "    </tr>\n",
       "    <tr>\n",
       "      <th>Tdewpoint</th>\n",
       "      <td>0.032833</td>\n",
       "    </tr>\n",
       "    <tr>\n",
       "      <th>H_Ironing</th>\n",
       "      <td>0.032155</td>\n",
       "    </tr>\n",
       "    <tr>\n",
       "      <th>T_Office</th>\n",
       "      <td>0.031413</td>\n",
       "    </tr>\n",
       "    <tr>\n",
       "      <th>T_Building_out_NS</th>\n",
       "      <td>0.031002</td>\n",
       "    </tr>\n",
       "    <tr>\n",
       "      <th>H_Office</th>\n",
       "      <td>0.030102</td>\n",
       "    </tr>\n",
       "    <tr>\n",
       "      <th>Windspeed</th>\n",
       "      <td>0.028725</td>\n",
       "    </tr>\n",
       "    <tr>\n",
       "      <th>T_Parents</th>\n",
       "      <td>0.027921</td>\n",
       "    </tr>\n",
       "    <tr>\n",
       "      <th>T_out</th>\n",
       "      <td>0.024045</td>\n",
       "    </tr>\n",
       "    <tr>\n",
       "      <th>T_Kitchen</th>\n",
       "      <td>0.023026</td>\n",
       "    </tr>\n",
       "    <tr>\n",
       "      <th>T_Ironning</th>\n",
       "      <td>0.022150</td>\n",
       "    </tr>\n",
       "    <tr>\n",
       "      <th>Visibility</th>\n",
       "      <td>0.019148</td>\n",
       "    </tr>\n",
       "  </tbody>\n",
       "</table>\n",
       "</div>"
      ],
      "text/plain": [
       "                       Coef\n",
       "H_out              0.077044\n",
       "Lights_E_Wh        0.074019\n",
       "H_Kitchen          0.064754\n",
       "H_Teenager         0.064677\n",
       "Press_out          0.048876\n",
       "T_Living           0.046078\n",
       "T_Teenager         0.043899\n",
       "T_Laundry          0.041624\n",
       "H_Laundry          0.041489\n",
       "H_Bathroom         0.040250\n",
       "H_Parents          0.039433\n",
       "H_Living           0.039294\n",
       "H_Building_out_NS  0.039158\n",
       "T_Bathroom         0.036887\n",
       "Tdewpoint          0.032833\n",
       "H_Ironing          0.032155\n",
       "T_Office           0.031413\n",
       "T_Building_out_NS  0.031002\n",
       "H_Office           0.030102\n",
       "Windspeed          0.028725\n",
       "T_Parents          0.027921\n",
       "T_out              0.024045\n",
       "T_Kitchen          0.023026\n",
       "T_Ironning         0.022150\n",
       "Visibility         0.019148"
      ]
     },
     "execution_count": 74,
     "metadata": {},
     "output_type": "execute_result"
    }
   ],
   "source": [
    "rf_coef= pd.DataFrame(rf.feature_importances_ , index = X.columns, columns = ['Coef'])\n",
    "rf_coef.sort_values(by = ['Coef'], ascending = False)"
   ]
  },
  {
   "cell_type": "code",
   "execution_count": 75,
   "id": "354e039e",
   "metadata": {},
   "outputs": [
    {
     "data": {
      "image/png": "[encoded data removed]",
      "text/plain": [
       "<Figure size 432x288 with 1 Axes>"
      ]
     },
     "metadata": {
      "needs_background": "light"
     },
     "output_type": "display_data"
    }
   ],
   "source": [
    "pd.Series(rf.feature_importances_, index=X_train.columns).abs().sort_values(ascending= False).plot(kind='bar')\n",
    "plt.xlabel('features')\n",
    "plt.ylabel('importance')\n",
    "plt.title('Base RF model feature importances');"
   ]
  },
  {
   "cell_type": "markdown",
   "id": "995ae50a",
   "metadata": {},
   "source": [
    "#### The top six features from RF model are:\n",
    "\n",
    "H_out, Lights_E_Wh, H_Kitchen, H_Teenager, Press_out, and T_Living. "
   ]
  },
  {
   "cell_type": "markdown",
   "id": "a4b56db2",
   "metadata": {},
   "source": [
    "### 2.2) Comparing Prediction and Actual Values from RF Model"
   ]
  },
  {
   "cell_type": "code",
   "execution_count": 208,
   "id": "7f758e43",
   "metadata": {
    "scrolled": true
   },
   "outputs": [
    {
     "data": {
      "image/png": "[encoded data removed]",
      "text/plain": [
       "<Figure size 432x288 with 1 Axes>"
      ]
     },
     "metadata": {
      "needs_background": "light"
     },
     "output_type": "display_data"
    }
   ],
   "source": [
    "plt.scatter(y_test,y_pred_rf)\n",
    "plt.title(\"RF Model predictions vs. the actual values on test set\")\n",
    "plt.xlabel('Actual  E Wh')\n",
    "plt.ylabel('Predicted E Wh');"
   ]
  },
  {
   "cell_type": "code",
   "execution_count": 209,
   "id": "a1379e2b",
   "metadata": {},
   "outputs": [
    {
     "data": {
      "image/png": "[encoded data removed]",
      "text/plain": [
       "<Figure size 432x288 with 1 Axes>"
      ]
     },
     "metadata": {
      "needs_background": "light"
     },
     "output_type": "display_data"
    }
   ],
   "source": [
    "bins = np.linspace(2, 7, 15)\n",
    "plt.title(\"RF Model predictions vs. the actual values on test set\")\n",
    "plt.hist(y_pred_rf , bins, alpha=0.5, label='Predicted')\n",
    "plt.hist(y_test, bins, alpha=0.5, label='Actual')\n",
    "plt.legend(loc='upper right')\n",
    "plt.show()"
   ]
  },
  {
   "cell_type": "markdown",
   "id": "0bb1f9f6",
   "metadata": {},
   "source": [
    "#### RF model performs much better than the linear model, as expected. "
   ]
  },
  {
   "cell_type": "markdown",
   "id": "d1c309a8",
   "metadata": {},
   "source": [
    "### 2.3) Model Performance"
   ]
  },
  {
   "cell_type": "code",
   "execution_count": 206,
   "id": "1294cfd4",
   "metadata": {
    "scrolled": true
   },
   "outputs": [
    {
     "data": {
      "text/plain": [
       "0.9524085408005647"
      ]
     },
     "execution_count": 206,
     "metadata": {},
     "output_type": "execute_result"
    }
   ],
   "source": [
    "rf_tr_score = rf.score(X_train_scaled, y_train)  # training set accuracy \n",
    "rf_tr_score"
   ]
  },
  {
   "cell_type": "code",
   "execution_count": 207,
   "id": "5a42bd29",
   "metadata": {},
   "outputs": [
    {
     "data": {
      "text/plain": [
       "0.6705514605411975"
      ]
     },
     "execution_count": 207,
     "metadata": {},
     "output_type": "execute_result"
    }
   ],
   "source": [
    "rf_te_score =rf.score(X_test_scaled, y_test)  # test set accuracy \n",
    "rf_te_score"
   ]
  },
  {
   "cell_type": "code",
   "execution_count": 210,
   "id": "5bfa615a",
   "metadata": {},
   "outputs": [
    {
     "data": {
      "text/plain": [
       "0.2496448159904414"
      ]
     },
     "execution_count": 210,
     "metadata": {},
     "output_type": "execute_result"
    }
   ],
   "source": [
    "mae_rf = mean_absolute_error(y_test, y_pred_rf)\n",
    "mae_rf"
   ]
  },
  {
   "cell_type": "code",
   "execution_count": 211,
   "id": "2c2e73f1",
   "metadata": {},
   "outputs": [
    {
     "data": {
      "text/plain": [
       "0.056918705750176296"
      ]
     },
     "execution_count": 211,
     "metadata": {},
     "output_type": "execute_result"
    }
   ],
   "source": [
    "mape_rf = mean_absolute_percentage_error(y_test, y_pred_rf)\n",
    "mape_rf"
   ]
  },
  {
   "cell_type": "markdown",
   "id": "26beb5fd",
   "metadata": {},
   "source": [
    "## 3) Tuned RandomForest (After Hyperparameter tunning)"
   ]
  },
  {
   "cell_type": "code",
   "execution_count": 17,
   "id": "58de8c91",
   "metadata": {},
   "outputs": [],
   "source": [
    "rf_tuned = RandomForestRegressor(n_estimators= 400, min_samples_split = 2, min_samples_leaf =1, max_features ='sqrt',\n",
    " max_depth= None, bootstrap= False)"
   ]
  },
  {
   "cell_type": "code",
   "execution_count": 56,
   "id": "79612e22",
   "metadata": {},
   "outputs": [
    {
     "data": {
      "text/plain": [
       "RandomForestRegressor(bootstrap=False, max_features='sqrt', n_estimators=400)"
      ]
     },
     "execution_count": 56,
     "metadata": {},
     "output_type": "execute_result"
    }
   ],
   "source": [
    "rf_tuned.fit(X_train_scaled, y_train)"
   ]
  },
  {
   "cell_type": "code",
   "execution_count": 57,
   "id": "b726cea0",
   "metadata": {},
   "outputs": [],
   "source": [
    "y_pred_rf_tuned= rf_tuned.predict(X_test_scaled)"
   ]
  },
  {
   "cell_type": "code",
   "execution_count": 62,
   "id": "8d756ce0",
   "metadata": {},
   "outputs": [
    {
     "data": {
      "text/plain": [
       "{'bootstrap': False,\n",
       " 'ccp_alpha': 0.0,\n",
       " 'criterion': 'mse',\n",
       " 'max_depth': None,\n",
       " 'max_features': 'sqrt',\n",
       " 'max_leaf_nodes': None,\n",
       " 'max_samples': None,\n",
       " 'min_impurity_decrease': 0.0,\n",
       " 'min_impurity_split': None,\n",
       " 'min_samples_leaf': 1,\n",
       " 'min_samples_split': 2,\n",
       " 'min_weight_fraction_leaf': 0.0,\n",
       " 'n_estimators': 400,\n",
       " 'n_jobs': None,\n",
       " 'oob_score': False,\n",
       " 'random_state': None,\n",
       " 'verbose': 0,\n",
       " 'warm_start': False}"
      ]
     },
     "execution_count": 62,
     "metadata": {},
     "output_type": "execute_result"
    }
   ],
   "source": [
    "rf_tuned.get_params(deep=True)"
   ]
  },
  {
   "cell_type": "markdown",
   "id": "b4029843",
   "metadata": {},
   "source": [
    "### 3.1) Feature Importance"
   ]
  },
  {
   "cell_type": "code",
   "execution_count": 58,
   "id": "e9dadea2",
   "metadata": {},
   "outputs": [
    {
     "data": {
      "text/plain": [
       "array([0.05936674, 0.03072522, 0.0502082 , 0.05141714, 0.03760705,\n",
       "       0.04092757, 0.04268389, 0.03454305, 0.03625803, 0.03574743,\n",
       "       0.04071512, 0.04092013, 0.04565937, 0.03107983, 0.03951834,\n",
       "       0.04148396, 0.05685315, 0.03113621, 0.04368975, 0.03458313,\n",
       "       0.04506668, 0.04796709, 0.02795244, 0.01802472, 0.03586575])"
      ]
     },
     "execution_count": 58,
     "metadata": {},
     "output_type": "execute_result"
    }
   ],
   "source": [
    "rf_tuned.feature_importances_"
   ]
  },
  {
   "cell_type": "code",
   "execution_count": 59,
   "id": "0798f16b",
   "metadata": {},
   "outputs": [
    {
     "data": {
      "text/html": [
       "<div>\n",
       "<style scoped>\n",
       "    .dataframe tbody tr th:only-of-type {\n",
       "        vertical-align: middle;\n",
       "    }\n",
       "\n",
       "    .dataframe tbody tr th {\n",
       "        vertical-align: top;\n",
       "    }\n",
       "\n",
       "    .dataframe thead th {\n",
       "        text-align: right;\n",
       "    }\n",
       "</style>\n",
       "<table border=\"1\" class=\"dataframe\">\n",
       "  <thead>\n",
       "    <tr style=\"text-align: right;\">\n",
       "      <th></th>\n",
       "      <th>Coef</th>\n",
       "    </tr>\n",
       "  </thead>\n",
       "  <tbody>\n",
       "    <tr>\n",
       "      <th>Lights_E_Wh</th>\n",
       "      <td>0.059367</td>\n",
       "    </tr>\n",
       "    <tr>\n",
       "      <th>H_Teenager</th>\n",
       "      <td>0.056853</td>\n",
       "    </tr>\n",
       "    <tr>\n",
       "      <th>T_Living</th>\n",
       "      <td>0.051417</td>\n",
       "    </tr>\n",
       "    <tr>\n",
       "      <th>H_Kitchen</th>\n",
       "      <td>0.050208</td>\n",
       "    </tr>\n",
       "    <tr>\n",
       "      <th>H_out</th>\n",
       "      <td>0.047967</td>\n",
       "    </tr>\n",
       "    <tr>\n",
       "      <th>H_Building_out_NS</th>\n",
       "      <td>0.045659</td>\n",
       "    </tr>\n",
       "    <tr>\n",
       "      <th>Press_out</th>\n",
       "      <td>0.045067</td>\n",
       "    </tr>\n",
       "    <tr>\n",
       "      <th>H_Parents</th>\n",
       "      <td>0.043690</td>\n",
       "    </tr>\n",
       "    <tr>\n",
       "      <th>H_Laundry</th>\n",
       "      <td>0.042684</td>\n",
       "    </tr>\n",
       "    <tr>\n",
       "      <th>T_Teenager</th>\n",
       "      <td>0.041484</td>\n",
       "    </tr>\n",
       "    <tr>\n",
       "      <th>T_Laundry</th>\n",
       "      <td>0.040928</td>\n",
       "    </tr>\n",
       "    <tr>\n",
       "      <th>T_Building_out_NS</th>\n",
       "      <td>0.040920</td>\n",
       "    </tr>\n",
       "    <tr>\n",
       "      <th>H_Bathroom</th>\n",
       "      <td>0.040715</td>\n",
       "    </tr>\n",
       "    <tr>\n",
       "      <th>H_Ironing</th>\n",
       "      <td>0.039518</td>\n",
       "    </tr>\n",
       "    <tr>\n",
       "      <th>H_Living</th>\n",
       "      <td>0.037607</td>\n",
       "    </tr>\n",
       "    <tr>\n",
       "      <th>H_Office</th>\n",
       "      <td>0.036258</td>\n",
       "    </tr>\n",
       "    <tr>\n",
       "      <th>Tdewpoint</th>\n",
       "      <td>0.035866</td>\n",
       "    </tr>\n",
       "    <tr>\n",
       "      <th>T_Bathroom</th>\n",
       "      <td>0.035747</td>\n",
       "    </tr>\n",
       "    <tr>\n",
       "      <th>T_out</th>\n",
       "      <td>0.034583</td>\n",
       "    </tr>\n",
       "    <tr>\n",
       "      <th>T_Office</th>\n",
       "      <td>0.034543</td>\n",
       "    </tr>\n",
       "    <tr>\n",
       "      <th>T_Parents</th>\n",
       "      <td>0.031136</td>\n",
       "    </tr>\n",
       "    <tr>\n",
       "      <th>T_Ironning</th>\n",
       "      <td>0.031080</td>\n",
       "    </tr>\n",
       "    <tr>\n",
       "      <th>T_Kitchen</th>\n",
       "      <td>0.030725</td>\n",
       "    </tr>\n",
       "    <tr>\n",
       "      <th>Windspeed</th>\n",
       "      <td>0.027952</td>\n",
       "    </tr>\n",
       "    <tr>\n",
       "      <th>Visibility</th>\n",
       "      <td>0.018025</td>\n",
       "    </tr>\n",
       "  </tbody>\n",
       "</table>\n",
       "</div>"
      ],
      "text/plain": [
       "                       Coef\n",
       "Lights_E_Wh        0.059367\n",
       "H_Teenager         0.056853\n",
       "T_Living           0.051417\n",
       "H_Kitchen          0.050208\n",
       "H_out              0.047967\n",
       "H_Building_out_NS  0.045659\n",
       "Press_out          0.045067\n",
       "H_Parents          0.043690\n",
       "H_Laundry          0.042684\n",
       "T_Teenager         0.041484\n",
       "T_Laundry          0.040928\n",
       "T_Building_out_NS  0.040920\n",
       "H_Bathroom         0.040715\n",
       "H_Ironing          0.039518\n",
       "H_Living           0.037607\n",
       "H_Office           0.036258\n",
       "Tdewpoint          0.035866\n",
       "T_Bathroom         0.035747\n",
       "T_out              0.034583\n",
       "T_Office           0.034543\n",
       "T_Parents          0.031136\n",
       "T_Ironning         0.031080\n",
       "T_Kitchen          0.030725\n",
       "Windspeed          0.027952\n",
       "Visibility         0.018025"
      ]
     },
     "execution_count": 59,
     "metadata": {},
     "output_type": "execute_result"
    }
   ],
   "source": [
    "rf_tuned_coef= pd.DataFrame(rf_tuned.feature_importances_ , index = X.columns, columns = ['Coef'])\n",
    "rf_tuned_coef.sort_values(by = ['Coef'], ascending = False)"
   ]
  },
  {
   "cell_type": "code",
   "execution_count": 61,
   "id": "c473731c",
   "metadata": {},
   "outputs": [
    {
     "data": {
      "image/png": "[encoded data removed]",
      "text/plain": [
       "<Figure size 432x288 with 1 Axes>"
      ]
     },
     "metadata": {
      "needs_background": "light"
     },
     "output_type": "display_data"
    }
   ],
   "source": [
    "pd.Series(rf_tuned.feature_importances_, index=X_train.columns).abs().sort_values(ascending= False).plot(kind='bar')\n",
    "plt.xlabel('features')\n",
    "plt.ylabel('importance')\n",
    "plt.title('Tuned RF model feature importances');"
   ]
  },
  {
   "cell_type": "markdown",
   "id": "a92a65eb",
   "metadata": {},
   "source": [
    "#### The top six features from Tuned RF model are:\n",
    "\n",
    "Lights_E_Wh, H_Teenager, T_Living, H_Kitchen, H_out, and H_Building_out_NS. "
   ]
  },
  {
   "cell_type": "markdown",
   "id": "952d79af",
   "metadata": {},
   "source": [
    "##### We get better results from the tuned model"
   ]
  },
  {
   "cell_type": "markdown",
   "id": "29d30241",
   "metadata": {},
   "source": [
    "### 3.2) Comparing Prediction and Actual Values from Tuned RF model"
   ]
  },
  {
   "cell_type": "code",
   "execution_count": 219,
   "id": "2c865dc4",
   "metadata": {
    "scrolled": true
   },
   "outputs": [
    {
     "data": {
      "image/png": "[encoded data removed]",
      "text/plain": [
       "<Figure size 432x288 with 1 Axes>"
      ]
     },
     "metadata": {
      "needs_background": "light"
     },
     "output_type": "display_data"
    }
   ],
   "source": [
    "sns.regplot(y_test,y_pred_rf_tuned)\n",
    "plt.title(\"Tuned RF Model predictions vs. the actual values\")\n",
    "plt.xlabel('Actual  E Wh')\n",
    "plt.ylabel('Predicted E Wh');"
   ]
  },
  {
   "cell_type": "code",
   "execution_count": 223,
   "id": "463bd587",
   "metadata": {},
   "outputs": [
    {
     "data": {
      "image/png": "[encoded data removed]",
      "text/plain": [
       "<Figure size 432x288 with 1 Axes>"
      ]
     },
     "metadata": {
      "needs_background": "light"
     },
     "output_type": "display_data"
    }
   ],
   "source": [
    "bins = np.linspace(2, 7, 15)\n",
    "plt.title(\"Tuned RF Model predictions vs. the actual values\")\n",
    "plt.hist(y_pred_rf_tuned , bins, alpha=0.5, label='Predicted')\n",
    "plt.hist(y_test, bins, alpha=0.5, label='Actual')\n",
    "plt.legend(loc='upper right')\n",
    "plt.show()"
   ]
  },
  {
   "cell_type": "markdown",
   "id": "93ed3e89",
   "metadata": {},
   "source": [
    "### 3.3) Model Performance and Comparision to Base RF Model "
   ]
  },
  {
   "cell_type": "code",
   "execution_count": 63,
   "id": "6f6f5296",
   "metadata": {},
   "outputs": [
    {
     "data": {
      "text/plain": [
       "1.0"
      ]
     },
     "execution_count": 63,
     "metadata": {},
     "output_type": "execute_result"
    }
   ],
   "source": [
    "rf_tuned_tr_score = rf_tuned.score(X_train_scaled, y_train)  # training set accuracy \n",
    "rf_tuned_tr_score"
   ]
  },
  {
   "cell_type": "code",
   "execution_count": 65,
   "id": "d9603c65",
   "metadata": {},
   "outputs": [
    {
     "data": {
      "text/plain": [
       "0.7240074971288133"
      ]
     },
     "execution_count": 65,
     "metadata": {},
     "output_type": "execute_result"
    }
   ],
   "source": [
    "rf_tuned_te_score = rf_tuned.score(X_test_scaled, y_test)  # test set accuracy \n",
    "rf_tuned_te_score"
   ]
  },
  {
   "cell_type": "code",
   "execution_count": 64,
   "id": "7c145da9",
   "metadata": {
    "scrolled": true
   },
   "outputs": [
    {
     "data": {
      "text/plain": [
       "4.996958464844448"
      ]
     },
     "execution_count": 64,
     "metadata": {},
     "output_type": "execute_result"
    }
   ],
   "source": [
    "100*(rf_tuned_tr_score - rf_tr_score)/ rf_tr_score  # 5% improvement in R2 score on training set"
   ]
  },
  {
   "cell_type": "code",
   "execution_count": 66,
   "id": "d321673a",
   "metadata": {},
   "outputs": [
    {
     "data": {
      "text/plain": [
       "7.971951406156325"
      ]
     },
     "execution_count": 66,
     "metadata": {},
     "output_type": "execute_result"
    }
   ],
   "source": [
    "100*(rf_tuned_te_score - rf_te_score)/rf_te_score # 7.97% improvement in R2 score on test set"
   ]
  },
  {
   "cell_type": "code",
   "execution_count": 69,
   "id": "c645862d",
   "metadata": {},
   "outputs": [
    {
     "data": {
      "text/plain": [
       "0.22729910896023908"
      ]
     },
     "execution_count": 69,
     "metadata": {},
     "output_type": "execute_result"
    }
   ],
   "source": [
    "mae_rf_tuned = mean_absolute_error(y_test, y_pred_rf_tuned)\n",
    "mae_rf_tuned"
   ]
  },
  {
   "cell_type": "code",
   "execution_count": 70,
   "id": "e32999d6",
   "metadata": {},
   "outputs": [
    {
     "data": {
      "text/plain": [
       "8.950999820103574"
      ]
     },
     "execution_count": 70,
     "metadata": {},
     "output_type": "execute_result"
    }
   ],
   "source": [
    "100 * (mae_rf-mae_rf_tuned)/ mae_rf  # about 8.95% improvement in MAE score "
   ]
  },
  {
   "cell_type": "code",
   "execution_count": 71,
   "id": "ff92ac06",
   "metadata": {},
   "outputs": [
    {
     "data": {
      "text/plain": [
       "0.05205280321972776"
      ]
     },
     "execution_count": 71,
     "metadata": {},
     "output_type": "execute_result"
    }
   ],
   "source": [
    "mape_rf_tuned = mean_absolute_percentage_error(y_test, y_pred_rf_tuned)\n",
    "mape_rf_tuned"
   ]
  },
  {
   "cell_type": "code",
   "execution_count": 72,
   "id": "a5657b5d",
   "metadata": {},
   "outputs": [
    {
     "data": {
      "text/plain": [
       "8.548863622805523"
      ]
     },
     "execution_count": 72,
     "metadata": {},
     "output_type": "execute_result"
    }
   ],
   "source": [
    "100 * (mape_rf-mape_rf_tuned)/ mape_rf # about 8.5% improvement in MAPE score"
   ]
  },
  {
   "cell_type": "markdown",
   "id": "54a74c85",
   "metadata": {},
   "source": [
    "# 4) GradientBoosting"
   ]
  },
  {
   "cell_type": "code",
   "execution_count": 4,
   "id": "e45a14d5",
   "metadata": {},
   "outputs": [],
   "source": [
    "from sklearn.ensemble import GradientBoostingRegressor\n",
    "from sklearn.model_selection import cross_val_score\n",
    "from sklearn.model_selection import RepeatedKFold"
   ]
  },
  {
   "cell_type": "code",
   "execution_count": 5,
   "id": "3ba96a81",
   "metadata": {},
   "outputs": [],
   "source": [
    "gb = GradientBoostingRegressor(random_state = 42)"
   ]
  },
  {
   "cell_type": "code",
   "execution_count": 75,
   "id": "93a0dbad",
   "metadata": {},
   "outputs": [
    {
     "data": {
      "text/plain": [
       "GradientBoostingRegressor(random_state=42)"
      ]
     },
     "execution_count": 75,
     "metadata": {},
     "output_type": "execute_result"
    }
   ],
   "source": [
    "gb.fit(X_train_scaled, y_train.values.ravel())"
   ]
  },
  {
   "cell_type": "code",
   "execution_count": 76,
   "id": "7dac8ca7",
   "metadata": {},
   "outputs": [],
   "source": [
    "y_pred_gb = gb.predict(X_test_scaled) "
   ]
  },
  {
   "cell_type": "code",
   "execution_count": 77,
   "id": "eaf2ae6a",
   "metadata": {
    "scrolled": true
   },
   "outputs": [
    {
     "data": {
      "text/plain": [
       "{'alpha': 0.9,\n",
       " 'ccp_alpha': 0.0,\n",
       " 'criterion': 'friedman_mse',\n",
       " 'init': None,\n",
       " 'learning_rate': 0.1,\n",
       " 'loss': 'ls',\n",
       " 'max_depth': 3,\n",
       " 'max_features': None,\n",
       " 'max_leaf_nodes': None,\n",
       " 'min_impurity_decrease': 0.0,\n",
       " 'min_impurity_split': None,\n",
       " 'min_samples_leaf': 1,\n",
       " 'min_samples_split': 2,\n",
       " 'min_weight_fraction_leaf': 0.0,\n",
       " 'n_estimators': 100,\n",
       " 'n_iter_no_change': None,\n",
       " 'random_state': 42,\n",
       " 'subsample': 1.0,\n",
       " 'tol': 0.0001,\n",
       " 'validation_fraction': 0.1,\n",
       " 'verbose': 0,\n",
       " 'warm_start': False}"
      ]
     },
     "execution_count": 77,
     "metadata": {},
     "output_type": "execute_result"
    }
   ],
   "source": [
    "gb.get_params(deep=True)"
   ]
  },
  {
   "cell_type": "markdown",
   "id": "9becad2f",
   "metadata": {},
   "source": [
    "### 4.1) Feature Importance"
   ]
  },
  {
   "cell_type": "code",
   "execution_count": 78,
   "id": "83e40dc9",
   "metadata": {},
   "outputs": [
    {
     "data": {
      "text/html": [
       "<div>\n",
       "<style scoped>\n",
       "    .dataframe tbody tr th:only-of-type {\n",
       "        vertical-align: middle;\n",
       "    }\n",
       "\n",
       "    .dataframe tbody tr th {\n",
       "        vertical-align: top;\n",
       "    }\n",
       "\n",
       "    .dataframe thead th {\n",
       "        text-align: right;\n",
       "    }\n",
       "</style>\n",
       "<table border=\"1\" class=\"dataframe\">\n",
       "  <thead>\n",
       "    <tr style=\"text-align: right;\">\n",
       "      <th></th>\n",
       "      <th>Coef</th>\n",
       "    </tr>\n",
       "  </thead>\n",
       "  <tbody>\n",
       "    <tr>\n",
       "      <th>Lights_E_Wh</th>\n",
       "      <td>0.152708</td>\n",
       "    </tr>\n",
       "    <tr>\n",
       "      <th>H_out</th>\n",
       "      <td>0.092066</td>\n",
       "    </tr>\n",
       "    <tr>\n",
       "      <th>H_Teenager</th>\n",
       "      <td>0.081191</td>\n",
       "    </tr>\n",
       "    <tr>\n",
       "      <th>H_Kitchen</th>\n",
       "      <td>0.072817</td>\n",
       "    </tr>\n",
       "    <tr>\n",
       "      <th>T_Living</th>\n",
       "      <td>0.071424</td>\n",
       "    </tr>\n",
       "    <tr>\n",
       "      <th>T_Laundry</th>\n",
       "      <td>0.055518</td>\n",
       "    </tr>\n",
       "    <tr>\n",
       "      <th>H_Parents</th>\n",
       "      <td>0.047459</td>\n",
       "    </tr>\n",
       "    <tr>\n",
       "      <th>H_Laundry</th>\n",
       "      <td>0.042837</td>\n",
       "    </tr>\n",
       "    <tr>\n",
       "      <th>T_Parents</th>\n",
       "      <td>0.042569</td>\n",
       "    </tr>\n",
       "    <tr>\n",
       "      <th>T_Teenager</th>\n",
       "      <td>0.040289</td>\n",
       "    </tr>\n",
       "    <tr>\n",
       "      <th>H_Ironing</th>\n",
       "      <td>0.033495</td>\n",
       "    </tr>\n",
       "    <tr>\n",
       "      <th>H_Living</th>\n",
       "      <td>0.030591</td>\n",
       "    </tr>\n",
       "    <tr>\n",
       "      <th>H_Building_out_NS</th>\n",
       "      <td>0.029007</td>\n",
       "    </tr>\n",
       "    <tr>\n",
       "      <th>H_Bathroom</th>\n",
       "      <td>0.028514</td>\n",
       "    </tr>\n",
       "    <tr>\n",
       "      <th>Press_out</th>\n",
       "      <td>0.028440</td>\n",
       "    </tr>\n",
       "    <tr>\n",
       "      <th>T_Bathroom</th>\n",
       "      <td>0.026940</td>\n",
       "    </tr>\n",
       "    <tr>\n",
       "      <th>T_Office</th>\n",
       "      <td>0.023640</td>\n",
       "    </tr>\n",
       "    <tr>\n",
       "      <th>Windspeed</th>\n",
       "      <td>0.021588</td>\n",
       "    </tr>\n",
       "    <tr>\n",
       "      <th>T_Building_out_NS</th>\n",
       "      <td>0.017829</td>\n",
       "    </tr>\n",
       "    <tr>\n",
       "      <th>T_Ironning</th>\n",
       "      <td>0.016299</td>\n",
       "    </tr>\n",
       "    <tr>\n",
       "      <th>H_Office</th>\n",
       "      <td>0.015591</td>\n",
       "    </tr>\n",
       "    <tr>\n",
       "      <th>Tdewpoint</th>\n",
       "      <td>0.013340</td>\n",
       "    </tr>\n",
       "    <tr>\n",
       "      <th>T_out</th>\n",
       "      <td>0.006187</td>\n",
       "    </tr>\n",
       "    <tr>\n",
       "      <th>T_Kitchen</th>\n",
       "      <td>0.006024</td>\n",
       "    </tr>\n",
       "    <tr>\n",
       "      <th>Visibility</th>\n",
       "      <td>0.003637</td>\n",
       "    </tr>\n",
       "  </tbody>\n",
       "</table>\n",
       "</div>"
      ],
      "text/plain": [
       "                       Coef\n",
       "Lights_E_Wh        0.152708\n",
       "H_out              0.092066\n",
       "H_Teenager         0.081191\n",
       "H_Kitchen          0.072817\n",
       "T_Living           0.071424\n",
       "T_Laundry          0.055518\n",
       "H_Parents          0.047459\n",
       "H_Laundry          0.042837\n",
       "T_Parents          0.042569\n",
       "T_Teenager         0.040289\n",
       "H_Ironing          0.033495\n",
       "H_Living           0.030591\n",
       "H_Building_out_NS  0.029007\n",
       "H_Bathroom         0.028514\n",
       "Press_out          0.028440\n",
       "T_Bathroom         0.026940\n",
       "T_Office           0.023640\n",
       "Windspeed          0.021588\n",
       "T_Building_out_NS  0.017829\n",
       "T_Ironning         0.016299\n",
       "H_Office           0.015591\n",
       "Tdewpoint          0.013340\n",
       "T_out              0.006187\n",
       "T_Kitchen          0.006024\n",
       "Visibility         0.003637"
      ]
     },
     "execution_count": 78,
     "metadata": {},
     "output_type": "execute_result"
    }
   ],
   "source": [
    "gb_coef= pd.DataFrame(gb.feature_importances_ , index = X.columns, columns = ['Coef'])\n",
    "gb_coef.sort_values(by = ['Coef'], ascending = False)"
   ]
  },
  {
   "cell_type": "code",
   "execution_count": 92,
   "id": "ee8a1698",
   "metadata": {},
   "outputs": [
    {
     "data": {
      "image/png": "[encoded data removed]",
      "text/plain": [
       "<Figure size 432x288 with 1 Axes>"
      ]
     },
     "metadata": {
      "needs_background": "light"
     },
     "output_type": "display_data"
    }
   ],
   "source": [
    "pd.Series(gb.feature_importances_, index=X_train.columns).abs().sort_values(ascending= False).plot(kind='bar')\n",
    "plt.xlabel('features')\n",
    "plt.ylabel('importance')\n",
    "plt.title('GB model feature importances');"
   ]
  },
  {
   "cell_type": "markdown",
   "id": "5591e12d",
   "metadata": {},
   "source": [
    "#### The top six features from GB model are:\n",
    "\n",
    "Lights_E_Wh, H_out, H_Teenager, H_Kitchen, T_Living, T_Laundry\t"
   ]
  },
  {
   "cell_type": "markdown",
   "id": "a20c75ca",
   "metadata": {},
   "source": [
    "### 4.2) Comparing Prediction and Actual Values from GB model"
   ]
  },
  {
   "cell_type": "code",
   "execution_count": 82,
   "id": "76f1cba2",
   "metadata": {},
   "outputs": [
    {
     "data": {
      "image/png": "[encoded data removed]",
      "text/plain": [
       "<Figure size 432x288 with 1 Axes>"
      ]
     },
     "metadata": {
      "needs_background": "light"
     },
     "output_type": "display_data"
    }
   ],
   "source": [
    "plt.scatter(y_test,y_pred_gb)\n",
    "plt.title(\"GB Model predictions vs. the actual values\")\n",
    "plt.xlabel('Actual  E Wh')\n",
    "plt.ylabel('Predicted E Wh');"
   ]
  },
  {
   "cell_type": "code",
   "execution_count": 83,
   "id": "2fade6bb",
   "metadata": {},
   "outputs": [
    {
     "data": {
      "image/png": "[encoded data removed]",
      "text/plain": [
       "<Figure size 432x288 with 1 Axes>"
      ]
     },
     "metadata": {
      "needs_background": "light"
     },
     "output_type": "display_data"
    }
   ],
   "source": [
    "bins = np.linspace(2, 7, 15)\n",
    "plt.title(\"GB Model predictions vs. the actual values on test set\")\n",
    "plt.hist(y_pred_gb , bins, alpha=0.5, label='Predicted')\n",
    "plt.hist(y_test, bins, alpha=0.5, label='Actual')\n",
    "plt.legend(loc='upper right')\n",
    "plt.show()"
   ]
  },
  {
   "cell_type": "markdown",
   "id": "bc642db6",
   "metadata": {},
   "source": [
    "### 4.3) Model Performance"
   ]
  },
  {
   "cell_type": "code",
   "execution_count": 80,
   "id": "23cdf8a2",
   "metadata": {},
   "outputs": [
    {
     "data": {
      "text/plain": [
       "0.43122818115474304"
      ]
     },
     "execution_count": 80,
     "metadata": {},
     "output_type": "execute_result"
    }
   ],
   "source": [
    "gb_tr_score = gb.score(X_train_scaled, y_train)  # training set accuracy \n",
    "gb_tr_score "
   ]
  },
  {
   "cell_type": "code",
   "execution_count": 81,
   "id": "fb7ffaa8",
   "metadata": {
    "scrolled": true
   },
   "outputs": [
    {
     "data": {
      "text/plain": [
       "0.3792700091093829"
      ]
     },
     "execution_count": 81,
     "metadata": {},
     "output_type": "execute_result"
    }
   ],
   "source": [
    "gb_te_score = gb.score(X_test_scaled, y_test) # test set accuracy \n",
    "gb_te_score "
   ]
  },
  {
   "cell_type": "markdown",
   "id": "828d8239",
   "metadata": {},
   "source": [
    "##### The accuracy of GB model increased compared to the linear model, but lower than the RF model"
   ]
  },
  {
   "cell_type": "code",
   "execution_count": 84,
   "id": "bf546275",
   "metadata": {},
   "outputs": [
    {
     "data": {
      "text/plain": [
       "0.35967068025746507"
      ]
     },
     "execution_count": 84,
     "metadata": {},
     "output_type": "execute_result"
    }
   ],
   "source": [
    "mae_gb = mean_absolute_error(y_test, y_pred_gb)\n",
    "mae_gb"
   ]
  },
  {
   "cell_type": "code",
   "execution_count": 85,
   "id": "2440629a",
   "metadata": {},
   "outputs": [
    {
     "data": {
      "text/plain": [
       "0.0815995130182195"
      ]
     },
     "execution_count": 85,
     "metadata": {},
     "output_type": "execute_result"
    }
   ],
   "source": [
    "mape_gb = mean_absolute_percentage_error(y_test, y_pred_gb)\n",
    "mape_gb"
   ]
  },
  {
   "cell_type": "markdown",
   "id": "7c41f906",
   "metadata": {},
   "source": [
    "## 5) Tuned GradientBoosting (After Hyperparameter tunning)"
   ]
  },
  {
   "cell_type": "code",
   "execution_count": 6,
   "id": "eb0e37da",
   "metadata": {},
   "outputs": [],
   "source": [
    "gb_tuned= GradientBoostingRegressor(n_estimators = 1200, min_samples_split= 10, min_samples_leaf = 4,\n",
    " max_features = 'sqrt', max_depth = 60, learning_rate = 0.1)"
   ]
  },
  {
   "cell_type": "code",
   "execution_count": 87,
   "id": "5670732f",
   "metadata": {},
   "outputs": [
    {
     "data": {
      "text/plain": [
       "GradientBoostingRegressor(max_depth=60, max_features='sqrt', min_samples_leaf=4,\n",
       "                          min_samples_split=10, n_estimators=1200)"
      ]
     },
     "execution_count": 87,
     "metadata": {},
     "output_type": "execute_result"
    }
   ],
   "source": [
    "gb_tuned.fit(X_train_scaled, y_train)"
   ]
  },
  {
   "cell_type": "code",
   "execution_count": 88,
   "id": "dacc98a0",
   "metadata": {},
   "outputs": [],
   "source": [
    "y_pred_gb_tuned= gb_tuned.predict(X_test_scaled)"
   ]
  },
  {
   "cell_type": "code",
   "execution_count": 94,
   "id": "eeca6a0f",
   "metadata": {},
   "outputs": [
    {
     "data": {
      "text/plain": [
       "{'alpha': 0.9,\n",
       " 'ccp_alpha': 0.0,\n",
       " 'criterion': 'friedman_mse',\n",
       " 'init': None,\n",
       " 'learning_rate': 0.1,\n",
       " 'loss': 'ls',\n",
       " 'max_depth': 60,\n",
       " 'max_features': 'sqrt',\n",
       " 'max_leaf_nodes': None,\n",
       " 'min_impurity_decrease': 0.0,\n",
       " 'min_impurity_split': None,\n",
       " 'min_samples_leaf': 4,\n",
       " 'min_samples_split': 10,\n",
       " 'min_weight_fraction_leaf': 0.0,\n",
       " 'n_estimators': 1200,\n",
       " 'n_iter_no_change': None,\n",
       " 'random_state': None,\n",
       " 'subsample': 1.0,\n",
       " 'tol': 0.0001,\n",
       " 'validation_fraction': 0.1,\n",
       " 'verbose': 0,\n",
       " 'warm_start': False}"
      ]
     },
     "execution_count": 94,
     "metadata": {},
     "output_type": "execute_result"
    }
   ],
   "source": [
    "gb_tuned.get_params(deep=True)"
   ]
  },
  {
   "cell_type": "markdown",
   "id": "fc36ea3d",
   "metadata": {},
   "source": [
    "### 5.1) Feature Importance"
   ]
  },
  {
   "cell_type": "code",
   "execution_count": 89,
   "id": "254b115a",
   "metadata": {},
   "outputs": [
    {
     "data": {
      "text/plain": [
       "array([0.05294629, 0.03049133, 0.04780371, 0.05127204, 0.03485793,\n",
       "       0.03872649, 0.05008419, 0.034206  , 0.03929444, 0.03715602,\n",
       "       0.04540692, 0.04153393, 0.0485156 , 0.03227144, 0.04164081,\n",
       "       0.0359191 , 0.07176153, 0.02890583, 0.04216676, 0.03890559,\n",
       "       0.04094645, 0.03704826, 0.02620145, 0.02051596, 0.03142193])"
      ]
     },
     "execution_count": 89,
     "metadata": {},
     "output_type": "execute_result"
    }
   ],
   "source": [
    "gb_tuned.feature_importances_"
   ]
  },
  {
   "cell_type": "code",
   "execution_count": 90,
   "id": "410a185a",
   "metadata": {},
   "outputs": [
    {
     "data": {
      "text/html": [
       "<div>\n",
       "<style scoped>\n",
       "    .dataframe tbody tr th:only-of-type {\n",
       "        vertical-align: middle;\n",
       "    }\n",
       "\n",
       "    .dataframe tbody tr th {\n",
       "        vertical-align: top;\n",
       "    }\n",
       "\n",
       "    .dataframe thead th {\n",
       "        text-align: right;\n",
       "    }\n",
       "</style>\n",
       "<table border=\"1\" class=\"dataframe\">\n",
       "  <thead>\n",
       "    <tr style=\"text-align: right;\">\n",
       "      <th></th>\n",
       "      <th>Coef</th>\n",
       "    </tr>\n",
       "  </thead>\n",
       "  <tbody>\n",
       "    <tr>\n",
       "      <th>H_Teenager</th>\n",
       "      <td>0.071762</td>\n",
       "    </tr>\n",
       "    <tr>\n",
       "      <th>Lights_E_Wh</th>\n",
       "      <td>0.052946</td>\n",
       "    </tr>\n",
       "    <tr>\n",
       "      <th>T_Living</th>\n",
       "      <td>0.051272</td>\n",
       "    </tr>\n",
       "    <tr>\n",
       "      <th>H_Laundry</th>\n",
       "      <td>0.050084</td>\n",
       "    </tr>\n",
       "    <tr>\n",
       "      <th>H_Building_out_NS</th>\n",
       "      <td>0.048516</td>\n",
       "    </tr>\n",
       "    <tr>\n",
       "      <th>H_Kitchen</th>\n",
       "      <td>0.047804</td>\n",
       "    </tr>\n",
       "    <tr>\n",
       "      <th>H_Bathroom</th>\n",
       "      <td>0.045407</td>\n",
       "    </tr>\n",
       "    <tr>\n",
       "      <th>H_Parents</th>\n",
       "      <td>0.042167</td>\n",
       "    </tr>\n",
       "    <tr>\n",
       "      <th>H_Ironing</th>\n",
       "      <td>0.041641</td>\n",
       "    </tr>\n",
       "    <tr>\n",
       "      <th>T_Building_out_NS</th>\n",
       "      <td>0.041534</td>\n",
       "    </tr>\n",
       "    <tr>\n",
       "      <th>Press_out</th>\n",
       "      <td>0.040946</td>\n",
       "    </tr>\n",
       "    <tr>\n",
       "      <th>H_Office</th>\n",
       "      <td>0.039294</td>\n",
       "    </tr>\n",
       "    <tr>\n",
       "      <th>T_out</th>\n",
       "      <td>0.038906</td>\n",
       "    </tr>\n",
       "    <tr>\n",
       "      <th>T_Laundry</th>\n",
       "      <td>0.038726</td>\n",
       "    </tr>\n",
       "    <tr>\n",
       "      <th>T_Bathroom</th>\n",
       "      <td>0.037156</td>\n",
       "    </tr>\n",
       "    <tr>\n",
       "      <th>H_out</th>\n",
       "      <td>0.037048</td>\n",
       "    </tr>\n",
       "    <tr>\n",
       "      <th>T_Teenager</th>\n",
       "      <td>0.035919</td>\n",
       "    </tr>\n",
       "    <tr>\n",
       "      <th>H_Living</th>\n",
       "      <td>0.034858</td>\n",
       "    </tr>\n",
       "    <tr>\n",
       "      <th>T_Office</th>\n",
       "      <td>0.034206</td>\n",
       "    </tr>\n",
       "    <tr>\n",
       "      <th>T_Ironning</th>\n",
       "      <td>0.032271</td>\n",
       "    </tr>\n",
       "    <tr>\n",
       "      <th>Tdewpoint</th>\n",
       "      <td>0.031422</td>\n",
       "    </tr>\n",
       "    <tr>\n",
       "      <th>T_Kitchen</th>\n",
       "      <td>0.030491</td>\n",
       "    </tr>\n",
       "    <tr>\n",
       "      <th>T_Parents</th>\n",
       "      <td>0.028906</td>\n",
       "    </tr>\n",
       "    <tr>\n",
       "      <th>Windspeed</th>\n",
       "      <td>0.026201</td>\n",
       "    </tr>\n",
       "    <tr>\n",
       "      <th>Visibility</th>\n",
       "      <td>0.020516</td>\n",
       "    </tr>\n",
       "  </tbody>\n",
       "</table>\n",
       "</div>"
      ],
      "text/plain": [
       "                       Coef\n",
       "H_Teenager         0.071762\n",
       "Lights_E_Wh        0.052946\n",
       "T_Living           0.051272\n",
       "H_Laundry          0.050084\n",
       "H_Building_out_NS  0.048516\n",
       "H_Kitchen          0.047804\n",
       "H_Bathroom         0.045407\n",
       "H_Parents          0.042167\n",
       "H_Ironing          0.041641\n",
       "T_Building_out_NS  0.041534\n",
       "Press_out          0.040946\n",
       "H_Office           0.039294\n",
       "T_out              0.038906\n",
       "T_Laundry          0.038726\n",
       "T_Bathroom         0.037156\n",
       "H_out              0.037048\n",
       "T_Teenager         0.035919\n",
       "H_Living           0.034858\n",
       "T_Office           0.034206\n",
       "T_Ironning         0.032271\n",
       "Tdewpoint          0.031422\n",
       "T_Kitchen          0.030491\n",
       "T_Parents          0.028906\n",
       "Windspeed          0.026201\n",
       "Visibility         0.020516"
      ]
     },
     "execution_count": 90,
     "metadata": {},
     "output_type": "execute_result"
    }
   ],
   "source": [
    "gb_tuned_coef= pd.DataFrame(gb_tuned.feature_importances_ , index = X.columns, columns = ['Coef'])\n",
    "gb_tuned_coef.sort_values(by = ['Coef'], ascending = False)"
   ]
  },
  {
   "cell_type": "code",
   "execution_count": 93,
   "id": "a738b532",
   "metadata": {},
   "outputs": [
    {
     "data": {
      "image/png": "[encoded data removed]",
      "text/plain": [
       "<Figure size 432x288 with 1 Axes>"
      ]
     },
     "metadata": {
      "needs_background": "light"
     },
     "output_type": "display_data"
    }
   ],
   "source": [
    "pd.Series(gb_tuned.feature_importances_, index=X_train.columns).abs().sort_values(ascending= False).plot(kind='bar')\n",
    "plt.xlabel('features')\n",
    "plt.ylabel('importance')\n",
    "plt.title('Tuned GB model feature importances');"
   ]
  },
  {
   "cell_type": "markdown",
   "id": "f1e4a8e8",
   "metadata": {},
   "source": [
    "#### The top six features from Tuned GB model are:\n",
    "\n",
    "H_Teenager, Lights_E_Wh, T_Living, H_Laundry, H_Building_out_NS, H_Kitchen. "
   ]
  },
  {
   "cell_type": "markdown",
   "id": "7b222300",
   "metadata": {},
   "source": [
    "### 5.2) Comparing Prediction and Actual Values from Tuned GB model"
   ]
  },
  {
   "cell_type": "code",
   "execution_count": 218,
   "id": "cfb12d1c",
   "metadata": {
    "scrolled": true
   },
   "outputs": [
    {
     "data": {
      "image/png": "[encoded data removed]",
      "text/plain": [
       "<Figure size 432x288 with 1 Axes>"
      ]
     },
     "metadata": {
      "needs_background": "light"
     },
     "output_type": "display_data"
    }
   ],
   "source": [
    "sns.regplot(y_test,y_pred_gb_tuned)\n",
    "plt.title(\"Tuned GB Model predictions vs. the actual values\")\n",
    "plt.xlabel('Actual  E Wh')\n",
    "plt.ylabel('Predicted E Wh');"
   ]
  },
  {
   "cell_type": "code",
   "execution_count": 102,
   "id": "c0226301",
   "metadata": {},
   "outputs": [
    {
     "data": {
      "image/png": "[encoded data removed]",
      "text/plain": [
       "<Figure size 432x288 with 1 Axes>"
      ]
     },
     "metadata": {
      "needs_background": "light"
     },
     "output_type": "display_data"
    }
   ],
   "source": [
    "bins = np.linspace(2, 7, 15)\n",
    "plt.title(\"Best RF Model predictions vs. the actual values\")\n",
    "plt.hist(y_pred_gb_tuned , bins, alpha=0.5, label='Predicted')\n",
    "plt.hist(y_test, bins, alpha=0.5, label='Actual')\n",
    "plt.legend(loc='upper right')\n",
    "plt.show()"
   ]
  },
  {
   "cell_type": "markdown",
   "id": "c6e9cbff",
   "metadata": {},
   "source": [
    "#### We get much better results from the tuned model"
   ]
  },
  {
   "cell_type": "markdown",
   "id": "2bb6189c",
   "metadata": {},
   "source": [
    "### 5.3) Model Performance and Comparision to Base GB Model"
   ]
  },
  {
   "cell_type": "code",
   "execution_count": 95,
   "id": "86d582ae",
   "metadata": {},
   "outputs": [
    {
     "data": {
      "text/plain": [
       "0.9999999999999806"
      ]
     },
     "execution_count": 95,
     "metadata": {},
     "output_type": "execute_result"
    }
   ],
   "source": [
    "gb_tuned_tr_score = gb_tuned.score(X_train_scaled, y_train)  # training set accuracy \n",
    "gb_tuned_tr_score"
   ]
  },
  {
   "cell_type": "code",
   "execution_count": 97,
   "id": "a04e6950",
   "metadata": {},
   "outputs": [
    {
     "data": {
      "text/plain": [
       "0.7135923439360479"
      ]
     },
     "execution_count": 97,
     "metadata": {},
     "output_type": "execute_result"
    }
   ],
   "source": [
    "gb_tuned_te_score = gb_tuned.score(X_test_scaled, y_test)  # test set accuracy \n",
    "gb_tuned_te_score"
   ]
  },
  {
   "cell_type": "code",
   "execution_count": 96,
   "id": "553b8e13",
   "metadata": {},
   "outputs": [
    {
     "data": {
      "text/plain": [
       "131.89579060491363"
      ]
     },
     "execution_count": 96,
     "metadata": {},
     "output_type": "execute_result"
    }
   ],
   "source": [
    "100*(gb_tuned_tr_score - gb_tr_score)/ gb_tr_score  # 132% improvement in R2 score on training set!!!"
   ]
  },
  {
   "cell_type": "code",
   "execution_count": 98,
   "id": "6b3ebcca",
   "metadata": {},
   "outputs": [
    {
     "data": {
      "text/plain": [
       "88.1488983565387"
      ]
     },
     "execution_count": 98,
     "metadata": {},
     "output_type": "execute_result"
    }
   ],
   "source": [
    "100*(gb_tuned_te_score - gb_te_score)/gb_te_score # 88% improvement in R2 score on test set!!!"
   ]
  },
  {
   "cell_type": "code",
   "execution_count": 103,
   "id": "24bfe273",
   "metadata": {},
   "outputs": [
    {
     "data": {
      "text/plain": [
       "0.2347823801885913"
      ]
     },
     "execution_count": 103,
     "metadata": {},
     "output_type": "execute_result"
    }
   ],
   "source": [
    "mae_gb_tuned = mean_absolute_error(y_test, y_pred_gb_tuned)\n",
    "mae_gb_tuned"
   ]
  },
  {
   "cell_type": "code",
   "execution_count": 104,
   "id": "5fa1700e",
   "metadata": {},
   "outputs": [
    {
     "data": {
      "text/plain": [
       "34.72295822930974"
      ]
     },
     "execution_count": 104,
     "metadata": {},
     "output_type": "execute_result"
    }
   ],
   "source": [
    "100 * (mae_gb- mae_gb_tuned)/ mae_gb  # about 35% improvement in MAE score "
   ]
  },
  {
   "cell_type": "code",
   "execution_count": 105,
   "id": "e817208c",
   "metadata": {},
   "outputs": [
    {
     "data": {
      "text/plain": [
       "0.053734452667502014"
      ]
     },
     "execution_count": 105,
     "metadata": {},
     "output_type": "execute_result"
    }
   ],
   "source": [
    "mape_gb_tuned = mean_absolute_percentage_error(y_test, y_pred_gb_tuned)\n",
    "mape_gb_tuned"
   ]
  },
  {
   "cell_type": "code",
   "execution_count": 106,
   "id": "f0c92415",
   "metadata": {},
   "outputs": [
    {
     "data": {
      "text/plain": [
       "34.14856206861894"
      ]
     },
     "execution_count": 106,
     "metadata": {},
     "output_type": "execute_result"
    }
   ],
   "source": [
    "100 * (mape_gb-mape_gb_tuned)/ mape_gb # about 34% improvement in MAPE score"
   ]
  },
  {
   "cell_type": "markdown",
   "id": "90f7666d",
   "metadata": {},
   "source": [
    "# 6) Extreme Gradient Boosting"
   ]
  },
  {
   "cell_type": "code",
   "execution_count": 12,
   "id": "695aed94",
   "metadata": {},
   "outputs": [
    {
     "name": "stdout",
     "output_type": "stream",
     "text": [
      "1.6.0\n"
     ]
    }
   ],
   "source": [
    "import xgboost\n",
    "print(xgboost.__version__)"
   ]
  },
  {
   "cell_type": "code",
   "execution_count": 13,
   "id": "2173c298",
   "metadata": {},
   "outputs": [],
   "source": [
    "from xgboost import XGBRegressor"
   ]
  },
  {
   "cell_type": "code",
   "execution_count": 14,
   "id": "c85a8953",
   "metadata": {},
   "outputs": [],
   "source": [
    "xgb = XGBRegressor()"
   ]
  },
  {
   "cell_type": "code",
   "execution_count": 110,
   "id": "7abe790f",
   "metadata": {},
   "outputs": [
    {
     "data": {
      "text/plain": [
       "XGBRegressor(base_score=0.5, booster='gbtree', callbacks=None,\n",
       "             colsample_bylevel=1, colsample_bynode=1, colsample_bytree=1,\n",
       "             early_stopping_rounds=None, enable_categorical=False,\n",
       "             eval_metric=None, gamma=0, gpu_id=-1, grow_policy='depthwise',\n",
       "             importance_type=None, interaction_constraints='',\n",
       "             learning_rate=0.300000012, max_bin=256, max_cat_to_onehot=4,\n",
       "             max_delta_step=0, max_depth=6, max_leaves=0, min_child_weight=1,\n",
       "             missing=nan, monotone_constraints='()', n_estimators=100, n_jobs=0,\n",
       "             num_parallel_tree=1, predictor='auto', random_state=0, reg_alpha=0,\n",
       "             reg_lambda=1, ...)"
      ]
     },
     "execution_count": 110,
     "metadata": {},
     "output_type": "execute_result"
    }
   ],
   "source": [
    "xgb.fit(X_train_scaled, y_train)"
   ]
  },
  {
   "cell_type": "code",
   "execution_count": 111,
   "id": "4fd1a79b",
   "metadata": {},
   "outputs": [],
   "source": [
    "y_pred_xgb = xgb.predict(X_test_scaled)"
   ]
  },
  {
   "cell_type": "code",
   "execution_count": 112,
   "id": "fdfdad1d",
   "metadata": {},
   "outputs": [
    {
     "data": {
      "text/plain": [
       "{'objective': 'reg:squarederror',\n",
       " 'base_score': 0.5,\n",
       " 'booster': 'gbtree',\n",
       " 'callbacks': None,\n",
       " 'colsample_bylevel': 1,\n",
       " 'colsample_bynode': 1,\n",
       " 'colsample_bytree': 1,\n",
       " 'early_stopping_rounds': None,\n",
       " 'enable_categorical': False,\n",
       " 'eval_metric': None,\n",
       " 'gamma': 0,\n",
       " 'gpu_id': -1,\n",
       " 'grow_policy': 'depthwise',\n",
       " 'importance_type': None,\n",
       " 'interaction_constraints': '',\n",
       " 'learning_rate': 0.300000012,\n",
       " 'max_bin': 256,\n",
       " 'max_cat_to_onehot': 4,\n",
       " 'max_delta_step': 0,\n",
       " 'max_depth': 6,\n",
       " 'max_leaves': 0,\n",
       " 'min_child_weight': 1,\n",
       " 'missing': nan,\n",
       " 'monotone_constraints': '()',\n",
       " 'n_estimators': 100,\n",
       " 'n_jobs': 0,\n",
       " 'num_parallel_tree': 1,\n",
       " 'predictor': 'auto',\n",
       " 'random_state': 0,\n",
       " 'reg_alpha': 0,\n",
       " 'reg_lambda': 1,\n",
       " 'sampling_method': 'uniform',\n",
       " 'scale_pos_weight': 1,\n",
       " 'subsample': 1,\n",
       " 'tree_method': 'exact',\n",
       " 'validate_parameters': 1,\n",
       " 'verbosity': None}"
      ]
     },
     "execution_count": 112,
     "metadata": {},
     "output_type": "execute_result"
    }
   ],
   "source": [
    "xgb.get_params(deep=True)"
   ]
  },
  {
   "cell_type": "markdown",
   "id": "22ecee6d",
   "metadata": {},
   "source": [
    "### 6.1) Feature Importance"
   ]
  },
  {
   "cell_type": "code",
   "execution_count": 113,
   "id": "a70a0e15",
   "metadata": {},
   "outputs": [
    {
     "data": {
      "text/plain": [
       "array([0.10376264, 0.01125558, 0.03450962, 0.04581163, 0.02847147,\n",
       "       0.04394444, 0.03193397, 0.03795356, 0.02234082, 0.04831047,\n",
       "       0.03205042, 0.03141147, 0.02993861, 0.04744106, 0.03208712,\n",
       "       0.04782281, 0.04731055, 0.05622199, 0.04207338, 0.02383097,\n",
       "       0.03523534, 0.07704584, 0.0338928 , 0.02040991, 0.03493351],\n",
       "      dtype=float32)"
      ]
     },
     "execution_count": 113,
     "metadata": {},
     "output_type": "execute_result"
    }
   ],
   "source": [
    "feature_importance = xgb.feature_importances_\n",
    "feature_importance"
   ]
  },
  {
   "cell_type": "code",
   "execution_count": 114,
   "id": "8b14b149",
   "metadata": {
    "scrolled": false
   },
   "outputs": [
    {
     "data": {
      "text/html": [
       "<div>\n",
       "<style scoped>\n",
       "    .dataframe tbody tr th:only-of-type {\n",
       "        vertical-align: middle;\n",
       "    }\n",
       "\n",
       "    .dataframe tbody tr th {\n",
       "        vertical-align: top;\n",
       "    }\n",
       "\n",
       "    .dataframe thead th {\n",
       "        text-align: right;\n",
       "    }\n",
       "</style>\n",
       "<table border=\"1\" class=\"dataframe\">\n",
       "  <thead>\n",
       "    <tr style=\"text-align: right;\">\n",
       "      <th></th>\n",
       "      <th>Coef</th>\n",
       "    </tr>\n",
       "  </thead>\n",
       "  <tbody>\n",
       "    <tr>\n",
       "      <th>Lights_E_Wh</th>\n",
       "      <td>0.103763</td>\n",
       "    </tr>\n",
       "    <tr>\n",
       "      <th>H_out</th>\n",
       "      <td>0.077046</td>\n",
       "    </tr>\n",
       "    <tr>\n",
       "      <th>T_Parents</th>\n",
       "      <td>0.056222</td>\n",
       "    </tr>\n",
       "    <tr>\n",
       "      <th>T_Bathroom</th>\n",
       "      <td>0.048310</td>\n",
       "    </tr>\n",
       "    <tr>\n",
       "      <th>T_Teenager</th>\n",
       "      <td>0.047823</td>\n",
       "    </tr>\n",
       "    <tr>\n",
       "      <th>T_Ironning</th>\n",
       "      <td>0.047441</td>\n",
       "    </tr>\n",
       "    <tr>\n",
       "      <th>H_Teenager</th>\n",
       "      <td>0.047311</td>\n",
       "    </tr>\n",
       "    <tr>\n",
       "      <th>T_Living</th>\n",
       "      <td>0.045812</td>\n",
       "    </tr>\n",
       "    <tr>\n",
       "      <th>T_Laundry</th>\n",
       "      <td>0.043944</td>\n",
       "    </tr>\n",
       "    <tr>\n",
       "      <th>H_Parents</th>\n",
       "      <td>0.042073</td>\n",
       "    </tr>\n",
       "    <tr>\n",
       "      <th>T_Office</th>\n",
       "      <td>0.037954</td>\n",
       "    </tr>\n",
       "    <tr>\n",
       "      <th>Press_out</th>\n",
       "      <td>0.035235</td>\n",
       "    </tr>\n",
       "    <tr>\n",
       "      <th>Tdewpoint</th>\n",
       "      <td>0.034934</td>\n",
       "    </tr>\n",
       "    <tr>\n",
       "      <th>H_Kitchen</th>\n",
       "      <td>0.034510</td>\n",
       "    </tr>\n",
       "    <tr>\n",
       "      <th>Windspeed</th>\n",
       "      <td>0.033893</td>\n",
       "    </tr>\n",
       "    <tr>\n",
       "      <th>H_Ironing</th>\n",
       "      <td>0.032087</td>\n",
       "    </tr>\n",
       "    <tr>\n",
       "      <th>H_Bathroom</th>\n",
       "      <td>0.032050</td>\n",
       "    </tr>\n",
       "    <tr>\n",
       "      <th>H_Laundry</th>\n",
       "      <td>0.031934</td>\n",
       "    </tr>\n",
       "    <tr>\n",
       "      <th>T_Building_out_NS</th>\n",
       "      <td>0.031411</td>\n",
       "    </tr>\n",
       "    <tr>\n",
       "      <th>H_Building_out_NS</th>\n",
       "      <td>0.029939</td>\n",
       "    </tr>\n",
       "    <tr>\n",
       "      <th>H_Living</th>\n",
       "      <td>0.028471</td>\n",
       "    </tr>\n",
       "    <tr>\n",
       "      <th>T_out</th>\n",
       "      <td>0.023831</td>\n",
       "    </tr>\n",
       "    <tr>\n",
       "      <th>H_Office</th>\n",
       "      <td>0.022341</td>\n",
       "    </tr>\n",
       "    <tr>\n",
       "      <th>Visibility</th>\n",
       "      <td>0.020410</td>\n",
       "    </tr>\n",
       "    <tr>\n",
       "      <th>T_Kitchen</th>\n",
       "      <td>0.011256</td>\n",
       "    </tr>\n",
       "  </tbody>\n",
       "</table>\n",
       "</div>"
      ],
      "text/plain": [
       "                       Coef\n",
       "Lights_E_Wh        0.103763\n",
       "H_out              0.077046\n",
       "T_Parents          0.056222\n",
       "T_Bathroom         0.048310\n",
       "T_Teenager         0.047823\n",
       "T_Ironning         0.047441\n",
       "H_Teenager         0.047311\n",
       "T_Living           0.045812\n",
       "T_Laundry          0.043944\n",
       "H_Parents          0.042073\n",
       "T_Office           0.037954\n",
       "Press_out          0.035235\n",
       "Tdewpoint          0.034934\n",
       "H_Kitchen          0.034510\n",
       "Windspeed          0.033893\n",
       "H_Ironing          0.032087\n",
       "H_Bathroom         0.032050\n",
       "H_Laundry          0.031934\n",
       "T_Building_out_NS  0.031411\n",
       "H_Building_out_NS  0.029939\n",
       "H_Living           0.028471\n",
       "T_out              0.023831\n",
       "H_Office           0.022341\n",
       "Visibility         0.020410\n",
       "T_Kitchen          0.011256"
      ]
     },
     "execution_count": 114,
     "metadata": {},
     "output_type": "execute_result"
    }
   ],
   "source": [
    "xgb_coef= pd.DataFrame(feature_importance , index = X.columns, columns = ['Coef'])\n",
    "\n",
    "xgb_coef.sort_values(by = ['Coef'], ascending = False)"
   ]
  },
  {
   "cell_type": "code",
   "execution_count": 124,
   "id": "beeb1cc3",
   "metadata": {},
   "outputs": [
    {
     "data": {
      "image/png": "[encoded data removed]",
      "text/plain": [
       "<Figure size 432x288 with 1 Axes>"
      ]
     },
     "metadata": {
      "needs_background": "light"
     },
     "output_type": "display_data"
    }
   ],
   "source": [
    "pd.Series(xgb.feature_importances_, index=X_train.columns).abs().sort_values(ascending= False).plot(kind='bar')\n",
    "plt.xlabel('features')\n",
    "plt.ylabel('importance')\n",
    "plt.title('XGB model feature importances');"
   ]
  },
  {
   "cell_type": "markdown",
   "id": "6ecc8adf",
   "metadata": {},
   "source": [
    "#### The top six features from XGB model are:\n",
    "\n",
    "Lights_E_Wh, H_out, T_Parents, T_Bathroom, T_Teenager, and T_Ironning. \t"
   ]
  },
  {
   "cell_type": "markdown",
   "id": "9a3cf808",
   "metadata": {},
   "source": [
    "### 6.2) Comparing Prediction and Actual Values from XGB model"
   ]
  },
  {
   "cell_type": "code",
   "execution_count": 119,
   "id": "22e853b6",
   "metadata": {
    "scrolled": true
   },
   "outputs": [
    {
     "data": {
      "image/png": "[encoded data removed]",
      "text/plain": [
       "<Figure size 432x288 with 1 Axes>"
      ]
     },
     "metadata": {
      "needs_background": "light"
     },
     "output_type": "display_data"
    }
   ],
   "source": [
    "plt.scatter(y_test,y_pred_xgb)\n",
    "plt.title(\"XGB Model predictions vs. the actual values\")\n",
    "plt.xlabel('Actual  E Wh')\n",
    "plt.ylabel('Predicted E Wh');"
   ]
  },
  {
   "cell_type": "code",
   "execution_count": 120,
   "id": "c36bf450",
   "metadata": {},
   "outputs": [
    {
     "data": {
      "image/png": "[encoded data removed]",
      "text/plain": [
       "<Figure size 432x288 with 1 Axes>"
      ]
     },
     "metadata": {
      "needs_background": "light"
     },
     "output_type": "display_data"
    }
   ],
   "source": [
    "bins = np.linspace(2, 7, 15)\n",
    "plt.title(\"XGB Model predictions vs. the actual values on test set\")\n",
    "plt.hist(y_pred_xgb , bins, alpha=0.5, label='Predicted')\n",
    "plt.hist(y_test, bins, alpha=0.5, label='Actual')\n",
    "plt.legend(loc='upper right')\n",
    "plt.show()"
   ]
  },
  {
   "cell_type": "markdown",
   "id": "37690e3d",
   "metadata": {},
   "source": [
    "#### GB underestimates the smaller values and tend to overestimate the middle range target values"
   ]
  },
  {
   "cell_type": "markdown",
   "id": "b8612f6b",
   "metadata": {},
   "source": [
    "### 6.3) Model Performance"
   ]
  },
  {
   "cell_type": "code",
   "execution_count": 116,
   "id": "c12dd0b2",
   "metadata": {},
   "outputs": [
    {
     "data": {
      "text/plain": [
       "0.8498276825837924"
      ]
     },
     "execution_count": 116,
     "metadata": {},
     "output_type": "execute_result"
    }
   ],
   "source": [
    "xgb_tr_score = xgb.score(X_train_scaled, y_train)  # training set accuracy \n",
    "xgb_tr_score "
   ]
  },
  {
   "cell_type": "code",
   "execution_count": 117,
   "id": "87dff31c",
   "metadata": {
    "scrolled": true
   },
   "outputs": [
    {
     "data": {
      "text/plain": [
       "0.6184469688532104"
      ]
     },
     "execution_count": 117,
     "metadata": {},
     "output_type": "execute_result"
    }
   ],
   "source": [
    "xgb_te_score = xgb.score(X_test_scaled, y_test) # test set accuracy \n",
    "xgb_te_score "
   ]
  },
  {
   "cell_type": "markdown",
   "id": "d079e3f3",
   "metadata": {},
   "source": [
    "##### The accuracy of XGB model is higher compared to the linear and GB model, but lower than the RF model"
   ]
  },
  {
   "cell_type": "code",
   "execution_count": 121,
   "id": "707dacf6",
   "metadata": {},
   "outputs": [
    {
     "data": {
      "text/plain": [
       "0.27391658663318746"
      ]
     },
     "execution_count": 121,
     "metadata": {},
     "output_type": "execute_result"
    }
   ],
   "source": [
    "mae_xgb = mean_absolute_error(y_test, y_pred_xgb) # MAE\n",
    "mae_xgb"
   ]
  },
  {
   "cell_type": "code",
   "execution_count": 122,
   "id": "e7dbff65",
   "metadata": {},
   "outputs": [
    {
     "data": {
      "text/plain": [
       "0.06263141667808997"
      ]
     },
     "execution_count": 122,
     "metadata": {},
     "output_type": "execute_result"
    }
   ],
   "source": [
    "mape_xgb= mean_absolute_percentage_error(y_test, y_pred_xgb)  #MAPE\n",
    "mape_xgb"
   ]
  },
  {
   "cell_type": "markdown",
   "id": "aa3b2c7b",
   "metadata": {},
   "source": [
    "##### The accuracy of GB model increased compared to the linear model, but lower than the RF model"
   ]
  },
  {
   "cell_type": "markdown",
   "id": "23502c1f",
   "metadata": {},
   "source": [
    "## 7) Tuned XGradientBoosting (After Hyperparameter tunning)"
   ]
  },
  {
   "cell_type": "code",
   "execution_count": 31,
   "id": "3caf6151",
   "metadata": {},
   "outputs": [],
   "source": [
    "xgb_tuned= XGBRegressor(n_estimators = 1800, max_depth = 20, learning_rate = 0.01, colsample_bytree = 0.7,\n",
    " colsample_bylevel = 0.4, )"
   ]
  },
  {
   "cell_type": "code",
   "execution_count": 125,
   "id": "04631b55",
   "metadata": {},
   "outputs": [
    {
     "data": {
      "text/plain": [
       "XGBRegressor(base_score=0.5, booster='gbtree', callbacks=None,\n",
       "             colsample_bylevel=0.4, colsample_bynode=1, colsample_bytree=0.7,\n",
       "             early_stopping_rounds=None, enable_categorical=False,\n",
       "             eval_metric=None, gamma=0, gpu_id=-1, grow_policy='depthwise',\n",
       "             importance_type=None, interaction_constraints='',\n",
       "             learning_rate=0.01, max_bin=256, max_cat_to_onehot=4,\n",
       "             max_delta_step=0, max_depth=20, max_leaves=0, min_child_weight=1,\n",
       "             missing=nan, monotone_constraints='()', n_estimators=1800,\n",
       "             n_jobs=0, num_parallel_tree=1, predictor='auto', random_state=0,\n",
       "             reg_alpha=0, reg_lambda=1, ...)"
      ]
     },
     "execution_count": 125,
     "metadata": {},
     "output_type": "execute_result"
    }
   ],
   "source": [
    "xgb_tuned.fit(X_train_scaled, y_train)"
   ]
  },
  {
   "cell_type": "code",
   "execution_count": 126,
   "id": "cd182968",
   "metadata": {},
   "outputs": [],
   "source": [
    "y_pred_xgb_tuned= xgb_tuned.predict(X_test_scaled)"
   ]
  },
  {
   "cell_type": "code",
   "execution_count": 127,
   "id": "ea264622",
   "metadata": {},
   "outputs": [
    {
     "data": {
      "text/plain": [
       "{'objective': 'reg:squarederror',\n",
       " 'base_score': 0.5,\n",
       " 'booster': 'gbtree',\n",
       " 'callbacks': None,\n",
       " 'colsample_bylevel': 0.4,\n",
       " 'colsample_bynode': 1,\n",
       " 'colsample_bytree': 0.7,\n",
       " 'early_stopping_rounds': None,\n",
       " 'enable_categorical': False,\n",
       " 'eval_metric': None,\n",
       " 'gamma': 0,\n",
       " 'gpu_id': -1,\n",
       " 'grow_policy': 'depthwise',\n",
       " 'importance_type': None,\n",
       " 'interaction_constraints': '',\n",
       " 'learning_rate': 0.01,\n",
       " 'max_bin': 256,\n",
       " 'max_cat_to_onehot': 4,\n",
       " 'max_delta_step': 0,\n",
       " 'max_depth': 20,\n",
       " 'max_leaves': 0,\n",
       " 'min_child_weight': 1,\n",
       " 'missing': nan,\n",
       " 'monotone_constraints': '()',\n",
       " 'n_estimators': 1800,\n",
       " 'n_jobs': 0,\n",
       " 'num_parallel_tree': 1,\n",
       " 'predictor': 'auto',\n",
       " 'random_state': 0,\n",
       " 'reg_alpha': 0,\n",
       " 'reg_lambda': 1,\n",
       " 'sampling_method': 'uniform',\n",
       " 'scale_pos_weight': 1,\n",
       " 'subsample': 1,\n",
       " 'tree_method': 'exact',\n",
       " 'validate_parameters': 1,\n",
       " 'verbosity': None}"
      ]
     },
     "execution_count": 127,
     "metadata": {},
     "output_type": "execute_result"
    }
   ],
   "source": [
    "xgb_tuned.get_params(deep=True)"
   ]
  },
  {
   "cell_type": "markdown",
   "id": "290f8ea6",
   "metadata": {},
   "source": [
    "### 7.1) Feature Importance"
   ]
  },
  {
   "cell_type": "code",
   "execution_count": 128,
   "id": "6edf6792",
   "metadata": {},
   "outputs": [
    {
     "data": {
      "text/plain": [
       "array([0.16761008, 0.01474894, 0.02433363, 0.03539318, 0.01973659,\n",
       "       0.0314878 , 0.02622608, 0.03041401, 0.02502832, 0.03712509,\n",
       "       0.02701176, 0.02892811, 0.03699753, 0.03888744, 0.03400956,\n",
       "       0.05169448, 0.05317457, 0.05864563, 0.04095198, 0.02838651,\n",
       "       0.04008189, 0.05735622, 0.0390273 , 0.02004135, 0.03270193],\n",
       "      dtype=float32)"
      ]
     },
     "execution_count": 128,
     "metadata": {},
     "output_type": "execute_result"
    }
   ],
   "source": [
    "xgb_tuned.feature_importances_"
   ]
  },
  {
   "cell_type": "code",
   "execution_count": 131,
   "id": "25f91322",
   "metadata": {
    "scrolled": true
   },
   "outputs": [
    {
     "data": {
      "text/html": [
       "<div>\n",
       "<style scoped>\n",
       "    .dataframe tbody tr th:only-of-type {\n",
       "        vertical-align: middle;\n",
       "    }\n",
       "\n",
       "    .dataframe tbody tr th {\n",
       "        vertical-align: top;\n",
       "    }\n",
       "\n",
       "    .dataframe thead th {\n",
       "        text-align: right;\n",
       "    }\n",
       "</style>\n",
       "<table border=\"1\" class=\"dataframe\">\n",
       "  <thead>\n",
       "    <tr style=\"text-align: right;\">\n",
       "      <th></th>\n",
       "      <th>Coef</th>\n",
       "    </tr>\n",
       "  </thead>\n",
       "  <tbody>\n",
       "    <tr>\n",
       "      <th>Lights_E_Wh</th>\n",
       "      <td>0.167610</td>\n",
       "    </tr>\n",
       "    <tr>\n",
       "      <th>T_Parents</th>\n",
       "      <td>0.058646</td>\n",
       "    </tr>\n",
       "    <tr>\n",
       "      <th>H_out</th>\n",
       "      <td>0.057356</td>\n",
       "    </tr>\n",
       "    <tr>\n",
       "      <th>H_Teenager</th>\n",
       "      <td>0.053175</td>\n",
       "    </tr>\n",
       "    <tr>\n",
       "      <th>T_Teenager</th>\n",
       "      <td>0.051694</td>\n",
       "    </tr>\n",
       "    <tr>\n",
       "      <th>H_Parents</th>\n",
       "      <td>0.040952</td>\n",
       "    </tr>\n",
       "    <tr>\n",
       "      <th>Press_out</th>\n",
       "      <td>0.040082</td>\n",
       "    </tr>\n",
       "    <tr>\n",
       "      <th>Windspeed</th>\n",
       "      <td>0.039027</td>\n",
       "    </tr>\n",
       "    <tr>\n",
       "      <th>T_Ironning</th>\n",
       "      <td>0.038887</td>\n",
       "    </tr>\n",
       "    <tr>\n",
       "      <th>T_Bathroom</th>\n",
       "      <td>0.037125</td>\n",
       "    </tr>\n",
       "    <tr>\n",
       "      <th>H_Building_out_NS</th>\n",
       "      <td>0.036998</td>\n",
       "    </tr>\n",
       "    <tr>\n",
       "      <th>T_Living</th>\n",
       "      <td>0.035393</td>\n",
       "    </tr>\n",
       "    <tr>\n",
       "      <th>H_Ironing</th>\n",
       "      <td>0.034010</td>\n",
       "    </tr>\n",
       "    <tr>\n",
       "      <th>Tdewpoint</th>\n",
       "      <td>0.032702</td>\n",
       "    </tr>\n",
       "    <tr>\n",
       "      <th>T_Laundry</th>\n",
       "      <td>0.031488</td>\n",
       "    </tr>\n",
       "    <tr>\n",
       "      <th>T_Office</th>\n",
       "      <td>0.030414</td>\n",
       "    </tr>\n",
       "    <tr>\n",
       "      <th>T_Building_out_NS</th>\n",
       "      <td>0.028928</td>\n",
       "    </tr>\n",
       "    <tr>\n",
       "      <th>T_out</th>\n",
       "      <td>0.028387</td>\n",
       "    </tr>\n",
       "    <tr>\n",
       "      <th>H_Bathroom</th>\n",
       "      <td>0.027012</td>\n",
       "    </tr>\n",
       "    <tr>\n",
       "      <th>H_Laundry</th>\n",
       "      <td>0.026226</td>\n",
       "    </tr>\n",
       "    <tr>\n",
       "      <th>H_Office</th>\n",
       "      <td>0.025028</td>\n",
       "    </tr>\n",
       "    <tr>\n",
       "      <th>H_Kitchen</th>\n",
       "      <td>0.024334</td>\n",
       "    </tr>\n",
       "    <tr>\n",
       "      <th>Visibility</th>\n",
       "      <td>0.020041</td>\n",
       "    </tr>\n",
       "    <tr>\n",
       "      <th>H_Living</th>\n",
       "      <td>0.019737</td>\n",
       "    </tr>\n",
       "    <tr>\n",
       "      <th>T_Kitchen</th>\n",
       "      <td>0.014749</td>\n",
       "    </tr>\n",
       "  </tbody>\n",
       "</table>\n",
       "</div>"
      ],
      "text/plain": [
       "                       Coef\n",
       "Lights_E_Wh        0.167610\n",
       "T_Parents          0.058646\n",
       "H_out              0.057356\n",
       "H_Teenager         0.053175\n",
       "T_Teenager         0.051694\n",
       "H_Parents          0.040952\n",
       "Press_out          0.040082\n",
       "Windspeed          0.039027\n",
       "T_Ironning         0.038887\n",
       "T_Bathroom         0.037125\n",
       "H_Building_out_NS  0.036998\n",
       "T_Living           0.035393\n",
       "H_Ironing          0.034010\n",
       "Tdewpoint          0.032702\n",
       "T_Laundry          0.031488\n",
       "T_Office           0.030414\n",
       "T_Building_out_NS  0.028928\n",
       "T_out              0.028387\n",
       "H_Bathroom         0.027012\n",
       "H_Laundry          0.026226\n",
       "H_Office           0.025028\n",
       "H_Kitchen          0.024334\n",
       "Visibility         0.020041\n",
       "H_Living           0.019737\n",
       "T_Kitchen          0.014749"
      ]
     },
     "execution_count": 131,
     "metadata": {},
     "output_type": "execute_result"
    }
   ],
   "source": [
    "xgb_tuned_coef= pd.DataFrame(xgb_tuned.feature_importances_ , index = X.columns, columns = ['Coef'])\n",
    "xgb_tuned_coef.sort_values(by = ['Coef'], ascending = False)"
   ]
  },
  {
   "cell_type": "code",
   "execution_count": 224,
   "id": "2b310e66",
   "metadata": {},
   "outputs": [
    {
     "data": {
      "image/png": "[encoded data removed]",
      "text/plain": [
       "<Figure size 432x288 with 1 Axes>"
      ]
     },
     "metadata": {
      "needs_background": "light"
     },
     "output_type": "display_data"
    }
   ],
   "source": [
    "pd.Series(xgb_tuned.feature_importances_, index=X_train.columns).abs().sort_values(ascending= False).plot(kind='bar')\n",
    "plt.xlabel('features')\n",
    "plt.ylabel('importance')\n",
    "plt.title('Tuned XGB model feature importances');"
   ]
  },
  {
   "cell_type": "markdown",
   "id": "8539b0c8",
   "metadata": {},
   "source": [
    "#### The top six features from Tuned GB model are:\n",
    "\n",
    "Lights_E_Wh, T_Parents, H_out, H_Teenager, T_Teenager, and H_Parents.  "
   ]
  },
  {
   "cell_type": "markdown",
   "id": "da68e5ad",
   "metadata": {},
   "source": [
    "### 7.2) Comparing Prediction and Actual Values from Tuned XGB model"
   ]
  },
  {
   "cell_type": "code",
   "execution_count": 220,
   "id": "17682f58",
   "metadata": {
    "scrolled": true
   },
   "outputs": [
    {
     "data": {
      "image/png": "[encoded data removed]",
      "text/plain": [
       "<Figure size 432x288 with 1 Axes>"
      ]
     },
     "metadata": {
      "needs_background": "light"
     },
     "output_type": "display_data"
    }
   ],
   "source": [
    "sns.regplot(y_test,y_pred_xgb_tuned)\n",
    "plt.title(\"Tuned XGB Model predictions vs. the actual values\")\n",
    "plt.xlabel('Actual  E Wh')\n",
    "plt.ylabel('Predicted E Wh');"
   ]
  },
  {
   "cell_type": "code",
   "execution_count": 222,
   "id": "5997ddf4",
   "metadata": {},
   "outputs": [
    {
     "data": {
      "image/png": "[encoded data removed]",
      "text/plain": [
       "<Figure size 432x288 with 1 Axes>"
      ]
     },
     "metadata": {
      "needs_background": "light"
     },
     "output_type": "display_data"
    }
   ],
   "source": [
    "bins = np.linspace(2, 7, 15)\n",
    "plt.title(\"Tuned XGB Model predictions vs. the actual values\")\n",
    "plt.hist(y_pred_xgb_tuned , bins, alpha=0.5, label='Predicted')\n",
    "plt.hist(y_test, bins, alpha=0.5, label='Actual')\n",
    "plt.legend(loc='upper right')\n",
    "plt.show()"
   ]
  },
  {
   "cell_type": "markdown",
   "id": "b539de72",
   "metadata": {},
   "source": [
    "### 7.3) Model Performance and Comparision to Base XGB Model"
   ]
  },
  {
   "cell_type": "code",
   "execution_count": 133,
   "id": "7bc7036e",
   "metadata": {},
   "outputs": [
    {
     "data": {
      "text/plain": [
       "0.9997351566249438"
      ]
     },
     "execution_count": 133,
     "metadata": {},
     "output_type": "execute_result"
    }
   ],
   "source": [
    "xgb_tuned_tr_score = xgb_tuned.score(X_train_scaled, y_train)  # training set accuracy \n",
    "xgb_tuned_tr_score"
   ]
  },
  {
   "cell_type": "code",
   "execution_count": 135,
   "id": "162f4db4",
   "metadata": {},
   "outputs": [
    {
     "data": {
      "text/plain": [
       "0.7283321563889109"
      ]
     },
     "execution_count": 135,
     "metadata": {},
     "output_type": "execute_result"
    }
   ],
   "source": [
    "xgb_tuned_te_score = xgb_tuned.score(X_test_scaled, y_test)  # test set accuracy \n",
    "xgb_tuned_te_score"
   ]
  },
  {
   "cell_type": "markdown",
   "id": "3a937f3b",
   "metadata": {},
   "source": [
    "#### We get better results from the tuned XGB model"
   ]
  },
  {
   "cell_type": "code",
   "execution_count": 134,
   "id": "4ae5153f",
   "metadata": {},
   "outputs": [
    {
     "data": {
      "text/plain": [
       "17.63974945901703"
      ]
     },
     "execution_count": 134,
     "metadata": {},
     "output_type": "execute_result"
    }
   ],
   "source": [
    "100*(xgb_tuned_tr_score - xgb_tr_score)/ xgb_tr_score  # 17% improvement in R2 score on training set!!!"
   ]
  },
  {
   "cell_type": "code",
   "execution_count": 136,
   "id": "4183213d",
   "metadata": {},
   "outputs": [
    {
     "data": {
      "text/plain": [
       "17.767924020949"
      ]
     },
     "execution_count": 136,
     "metadata": {},
     "output_type": "execute_result"
    }
   ],
   "source": [
    "100*(xgb_tuned_te_score - xgb_te_score)/xgb_te_score # 18% improvement in R2 score on test set!!!"
   ]
  },
  {
   "cell_type": "code",
   "execution_count": 505,
   "id": "5d8e6df6",
   "metadata": {},
   "outputs": [
    {
     "data": {
      "text/plain": [
       "0.22615740095822898"
      ]
     },
     "execution_count": 505,
     "metadata": {},
     "output_type": "execute_result"
    }
   ],
   "source": [
    "mae_xgb_tuned = mean_absolute_error(y_test, y_pred_xgb_tuned)\n",
    "mae_xgb_tuned"
   ]
  },
  {
   "cell_type": "code",
   "execution_count": 506,
   "id": "f0f26151",
   "metadata": {},
   "outputs": [
    {
     "data": {
      "text/plain": [
       "17.43566764684997"
      ]
     },
     "execution_count": 506,
     "metadata": {},
     "output_type": "execute_result"
    }
   ],
   "source": [
    "100 * (mae_xgb- mae_xgb_tuned)/ mae_xgb  # about 17% improvement in MAE score "
   ]
  },
  {
   "cell_type": "code",
   "execution_count": 507,
   "id": "eadeba73",
   "metadata": {},
   "outputs": [
    {
     "data": {
      "text/plain": [
       "0.051643808897249024"
      ]
     },
     "execution_count": 507,
     "metadata": {},
     "output_type": "execute_result"
    }
   ],
   "source": [
    "mape_xgb_tuned = mean_absolute_percentage_error(y_test, y_pred_xgb_tuned)\n",
    "mape_xgb_tuned"
   ]
  },
  {
   "cell_type": "code",
   "execution_count": 508,
   "id": "dedb6d16",
   "metadata": {},
   "outputs": [
    {
     "data": {
      "text/plain": [
       "17.54328476603767"
      ]
     },
     "execution_count": 508,
     "metadata": {},
     "output_type": "execute_result"
    }
   ],
   "source": [
    "100 * (mape_xgb-mape_xgb_tuned)/ mape_xgb # about 17.5% improvement in MAPE score"
   ]
  },
  {
   "cell_type": "markdown",
   "id": "415a38c1",
   "metadata": {},
   "source": [
    "# Automating model evaluations"
   ]
  },
  {
   "cell_type": "code",
   "execution_count": 516,
   "id": "ec316455",
   "metadata": {},
   "outputs": [],
   "source": [
    "def evaluate_model(X, y, model):\n",
    "    # define model evaluation method\n",
    "    cv = RepeatedKFold(n_splits= 5, n_repeats=2, random_state=42)\n",
    "    # evaluate model\n",
    "    scores = cross_val_score(model, X, y, cv=cv, n_jobs=-1)\n",
    "    \n",
    "    return scores, print(\"%0.2f accuracy with a standard deviation of %0.2f\" % (scores.mean(), scores.std()))"
   ]
  },
  {
   "cell_type": "markdown",
   "id": "f49d6529",
   "metadata": {},
   "source": [
    "# 1) Base Models"
   ]
  },
  {
   "cell_type": "markdown",
   "id": "0859649f",
   "metadata": {},
   "source": [
    "# 1.1) Linear Model "
   ]
  },
  {
   "cell_type": "code",
   "execution_count": 512,
   "id": "58440e69",
   "metadata": {},
   "outputs": [
    {
     "name": "stdout",
     "output_type": "stream",
     "text": [
      "0.27 accuracy with a standard deviation of 0.01\n"
     ]
    },
    {
     "data": {
      "text/plain": [
       "(array([0.28180132, 0.25301526, 0.28296876, 0.26880273, 0.27461642,\n",
       "        0.28669887, 0.27032389, 0.27894175, 0.27024226, 0.24936074,\n",
       "        0.27526097, 0.24667275, 0.2764245 , 0.29031137, 0.26927849]),\n",
       " None)"
      ]
     },
     "execution_count": 512,
     "metadata": {},
     "output_type": "execute_result"
    }
   ],
   "source": [
    "evaluate_model(X,y,lm)"
   ]
  },
  {
   "cell_type": "markdown",
   "id": "3e677215",
   "metadata": {},
   "source": [
    "# 1.2) GB"
   ]
  },
  {
   "cell_type": "code",
   "execution_count": 514,
   "id": "232d8472",
   "metadata": {
    "scrolled": true
   },
   "outputs": [
    {
     "name": "stdout",
     "output_type": "stream",
     "text": [
      "0.39 accuracy with a standard deviation of 0.01\n"
     ]
    },
    {
     "data": {
      "text/plain": [
       "(array([0.38286818, 0.36837088, 0.39354046, 0.39232934, 0.39337339,\n",
       "        0.39751842, 0.38786357, 0.38837896, 0.37574353, 0.37833358,\n",
       "        0.37857152, 0.37821221, 0.38609229, 0.40076218, 0.38720613]),\n",
       " None)"
      ]
     },
     "execution_count": 514,
     "metadata": {},
     "output_type": "execute_result"
    }
   ],
   "source": [
    "evaluate_model(X,y,gb)"
   ]
  },
  {
   "cell_type": "markdown",
   "id": "35d15d59",
   "metadata": {},
   "source": [
    "# 1.3) XGB"
   ]
  },
  {
   "cell_type": "code",
   "execution_count": 515,
   "id": "cd69b55e",
   "metadata": {},
   "outputs": [
    {
     "name": "stdout",
     "output_type": "stream",
     "text": [
      "0.63 accuracy with a standard deviation of 0.01\n"
     ]
    },
    {
     "data": {
      "text/plain": [
       "(array([0.62620962, 0.61838339, 0.63462242, 0.64296189, 0.63255087,\n",
       "        0.63810689, 0.63050645, 0.63208468, 0.60428864, 0.6314323 ,\n",
       "        0.63890478, 0.62472988, 0.63933831, 0.63798251, 0.62277011]),\n",
       " None)"
      ]
     },
     "execution_count": 515,
     "metadata": {},
     "output_type": "execute_result"
    }
   ],
   "source": [
    "evaluate_model(X,y,xgb)"
   ]
  },
  {
   "cell_type": "markdown",
   "id": "e51298ce",
   "metadata": {},
   "source": [
    "# 1.4) RandomForest"
   ]
  },
  {
   "cell_type": "code",
   "execution_count": 513,
   "id": "81de7c1e",
   "metadata": {},
   "outputs": [
    {
     "name": "stdout",
     "output_type": "stream",
     "text": [
      "0.69 accuracy with a standard deviation of 0.01\n"
     ]
    },
    {
     "data": {
      "text/plain": [
       "(array([0.69281657, 0.66853299, 0.69042841, 0.69276411, 0.67378263,\n",
       "        0.69017259, 0.69228299, 0.69043374, 0.6654769 , 0.68569466,\n",
       "        0.68962252, 0.67522227, 0.69357547, 0.69514632, 0.68868573]),\n",
       " None)"
      ]
     },
     "execution_count": 513,
     "metadata": {},
     "output_type": "execute_result"
    }
   ],
   "source": [
    "evaluate_model(X,y,rf)"
   ]
  },
  {
   "cell_type": "markdown",
   "id": "d0f64959",
   "metadata": {},
   "source": [
    "# 2) Tuned Models Performances"
   ]
  },
  {
   "cell_type": "markdown",
   "id": "78f602f5",
   "metadata": {},
   "source": [
    "# 2.1) GB"
   ]
  },
  {
   "cell_type": "code",
   "execution_count": 517,
   "id": "784db1ee",
   "metadata": {
    "scrolled": true
   },
   "outputs": [
    {
     "name": "stdout",
     "output_type": "stream",
     "text": [
      "0.72 accuracy with a standard deviation of 0.01\n"
     ]
    },
    {
     "data": {
      "text/plain": [
       "(array([0.74448192, 0.70658206, 0.72572538, 0.72332648, 0.71650006,\n",
       "        0.72625958, 0.73040024, 0.72240527, 0.7058312 , 0.73550568]),\n",
       " None)"
      ]
     },
     "execution_count": 517,
     "metadata": {},
     "output_type": "execute_result"
    }
   ],
   "source": [
    "evaluate_model(X,y,gb_tuned)"
   ]
  },
  {
   "cell_type": "markdown",
   "id": "2de0d1ca",
   "metadata": {},
   "source": [
    "# 2.2) XGB"
   ]
  },
  {
   "cell_type": "code",
   "execution_count": 518,
   "id": "d7a76f06",
   "metadata": {},
   "outputs": [
    {
     "name": "stdout",
     "output_type": "stream",
     "text": [
      "0.74 accuracy with a standard deviation of 0.01\n"
     ]
    },
    {
     "data": {
      "text/plain": [
       "(array([0.75471367, 0.71945012, 0.74294935, 0.73858889, 0.72552161,\n",
       "        0.7428047 , 0.74644743, 0.73984911, 0.72993385, 0.7488089 ]),\n",
       " None)"
      ]
     },
     "execution_count": 518,
     "metadata": {},
     "output_type": "execute_result"
    }
   ],
   "source": [
    "evaluate_model(X,y,xgb_tuned)"
   ]
  },
  {
   "cell_type": "markdown",
   "id": "1018a60b",
   "metadata": {},
   "source": [
    "# 2.3) RandomForest"
   ]
  },
  {
   "cell_type": "code",
   "execution_count": 519,
   "id": "9eebe4bb",
   "metadata": {},
   "outputs": [
    {
     "name": "stdout",
     "output_type": "stream",
     "text": [
      "0.74 accuracy with a standard deviation of 0.01\n"
     ]
    },
    {
     "data": {
      "text/plain": [
       "(array([0.75413639, 0.71544234, 0.7396085 , 0.73269466, 0.72469311,\n",
       "        0.73967788, 0.73846763, 0.74124318, 0.72311331, 0.74236133]),\n",
       " None)"
      ]
     },
     "execution_count": 519,
     "metadata": {},
     "output_type": "execute_result"
    }
   ],
   "source": [
    "evaluate_model(X,y,rf_tuned)"
   ]
  },
  {
   "cell_type": "markdown",
   "id": "5e92e0a5",
   "metadata": {},
   "source": [
    "# Hyperparameter Tuning Using RandomizedSearchCV"
   ]
  },
  {
   "cell_type": "code",
   "execution_count": 129,
   "id": "6896aa10",
   "metadata": {},
   "outputs": [],
   "source": [
    "from sklearn.model_selection import GridSearchCV\n",
    "from sklearn.model_selection import RandomizedSearchCV"
   ]
  },
  {
   "cell_type": "markdown",
   "id": "3c0ebada",
   "metadata": {},
   "source": [
    "## 1) RandomForest"
   ]
  },
  {
   "cell_type": "code",
   "execution_count": 234,
   "id": "5c0f1ee7",
   "metadata": {},
   "outputs": [],
   "source": [
    "# parameter grid \n",
    "# Number of trees in random forest\n",
    "n_estimators = [int(x) for x in np.linspace(start = 200, stop = 2000, num = 10)]\n",
    "# Number of features to consider at every split\n",
    "max_features = ['auto', 'sqrt']\n",
    "# Maximum number of levels in tree\n",
    "max_depth = [int(x) for x in np.linspace(10, 110, num = 11)]\n",
    "max_depth.append(None)\n",
    "# Minimum number of samples required to split a node\n",
    "min_samples_split = [2, 5, 10]\n",
    "# Minimum number of samples required at each leaf node\n",
    "min_samples_leaf = [1, 2, 4]\n",
    "# Method of selecting samples for training each tree\n",
    "bootstrap = [True, False]"
   ]
  },
  {
   "cell_type": "code",
   "execution_count": 236,
   "id": "edb84e65",
   "metadata": {},
   "outputs": [
    {
     "name": "stdout",
     "output_type": "stream",
     "text": [
      "{'n_estimators': [200, 400, 600, 800, 1000, 1200, 1400, 1600, 1800, 2000], 'max_features': ['auto', 'sqrt'], 'max_depth': [10, 20, 30, 40, 50, 60, 70, 80, 90, 100, 110, None], 'min_samples_split': [2, 5, 10], 'min_samples_leaf': [1, 2, 4], 'bootstrap': [True, False]}\n"
     ]
    }
   ],
   "source": [
    "random_grid = {'n_estimators': n_estimators,\n",
    "               'max_features': max_features,\n",
    "               'max_depth': max_depth,\n",
    "               'min_samples_split': min_samples_split,\n",
    "               'min_samples_leaf': min_samples_leaf,\n",
    "               'bootstrap': bootstrap}\n",
    "print(random_grid)"
   ]
  },
  {
   "cell_type": "code",
   "execution_count": 237,
   "id": "53783420",
   "metadata": {},
   "outputs": [],
   "source": [
    "# Use the random grid to search for best hyperparameters\n",
    "# First create the base model to tune\n",
    "rf = RandomForestRegressor(random_state=42)\n",
    "# Random search of parameters, using 3 fold cross validation, \n",
    "# search across 100 different combinations, and use all available cores\n",
    "cv = RepeatedKFold(n_splits= 3, n_repeats=1, random_state=42)\n",
    "rf_random = RandomizedSearchCV(estimator = rf, param_distributions = random_grid, n_iter = 100, cv = cv, verbose=2, random_state=42, n_jobs = -1)"
   ]
  },
  {
   "cell_type": "code",
   "execution_count": 310,
   "id": "7fa0eb98",
   "metadata": {},
   "outputs": [
    {
     "data": {
      "text/html": [
       "<div>\n",
       "<style scoped>\n",
       "    .dataframe tbody tr th:only-of-type {\n",
       "        vertical-align: middle;\n",
       "    }\n",
       "\n",
       "    .dataframe tbody tr th {\n",
       "        vertical-align: top;\n",
       "    }\n",
       "\n",
       "    .dataframe thead th {\n",
       "        text-align: right;\n",
       "    }\n",
       "</style>\n",
       "<table border=\"1\" class=\"dataframe\">\n",
       "  <thead>\n",
       "    <tr style=\"text-align: right;\">\n",
       "      <th></th>\n",
       "      <th>params</th>\n",
       "      <th>mean_test_score</th>\n",
       "    </tr>\n",
       "  </thead>\n",
       "  <tbody>\n",
       "    <tr>\n",
       "      <th>25</th>\n",
       "      <td>{'n_estimators': 400, 'min_samples_split': 2, ...</td>\n",
       "      <td>0.707338</td>\n",
       "    </tr>\n",
       "    <tr>\n",
       "      <th>21</th>\n",
       "      <td>{'n_estimators': 1600, 'min_samples_split': 5,...</td>\n",
       "      <td>0.703384</td>\n",
       "    </tr>\n",
       "    <tr>\n",
       "      <th>32</th>\n",
       "      <td>{'n_estimators': 800, 'min_samples_split': 5, ...</td>\n",
       "      <td>0.703380</td>\n",
       "    </tr>\n",
       "    <tr>\n",
       "      <th>11</th>\n",
       "      <td>{'n_estimators': 800, 'min_samples_split': 5, ...</td>\n",
       "      <td>0.703380</td>\n",
       "    </tr>\n",
       "    <tr>\n",
       "      <th>24</th>\n",
       "      <td>{'n_estimators': 1400, 'min_samples_split': 5,...</td>\n",
       "      <td>0.703349</td>\n",
       "    </tr>\n",
       "    <tr>\n",
       "      <th>...</th>\n",
       "      <td>...</td>\n",
       "      <td>...</td>\n",
       "    </tr>\n",
       "    <tr>\n",
       "      <th>26</th>\n",
       "      <td>{'n_estimators': 1400, 'min_samples_split': 2,...</td>\n",
       "      <td>0.430690</td>\n",
       "    </tr>\n",
       "    <tr>\n",
       "      <th>8</th>\n",
       "      <td>{'n_estimators': 1000, 'min_samples_split': 2,...</td>\n",
       "      <td>0.430486</td>\n",
       "    </tr>\n",
       "    <tr>\n",
       "      <th>66</th>\n",
       "      <td>{'n_estimators': 1800, 'min_samples_split': 2,...</td>\n",
       "      <td>0.381036</td>\n",
       "    </tr>\n",
       "    <tr>\n",
       "      <th>9</th>\n",
       "      <td>{'n_estimators': 1800, 'min_samples_split': 5,...</td>\n",
       "      <td>0.381036</td>\n",
       "    </tr>\n",
       "    <tr>\n",
       "      <th>96</th>\n",
       "      <td>{'n_estimators': 1000, 'min_samples_split': 2,...</td>\n",
       "      <td>0.374261</td>\n",
       "    </tr>\n",
       "  </tbody>\n",
       "</table>\n",
       "<p>100 rows × 2 columns</p>\n",
       "</div>"
      ],
      "text/plain": [
       "                                               params  mean_test_score\n",
       "25  {'n_estimators': 400, 'min_samples_split': 2, ...         0.707338\n",
       "21  {'n_estimators': 1600, 'min_samples_split': 5,...         0.703384\n",
       "32  {'n_estimators': 800, 'min_samples_split': 5, ...         0.703380\n",
       "11  {'n_estimators': 800, 'min_samples_split': 5, ...         0.703380\n",
       "24  {'n_estimators': 1400, 'min_samples_split': 5,...         0.703349\n",
       "..                                                ...              ...\n",
       "26  {'n_estimators': 1400, 'min_samples_split': 2,...         0.430690\n",
       "8   {'n_estimators': 1000, 'min_samples_split': 2,...         0.430486\n",
       "66  {'n_estimators': 1800, 'min_samples_split': 2,...         0.381036\n",
       "9   {'n_estimators': 1800, 'min_samples_split': 5,...         0.381036\n",
       "96  {'n_estimators': 1000, 'min_samples_split': 2,...         0.374261\n",
       "\n",
       "[100 rows x 2 columns]"
      ]
     },
     "execution_count": 310,
     "metadata": {},
     "output_type": "execute_result"
    }
   ],
   "source": [
    "rf_random_results = pd.DataFrame(rf_random.cv_results_)\n",
    "rf_random_results.sort_values(by = ['mean_test_score'], ascending = False)[['params', 'mean_test_score']]"
   ]
  },
  {
   "cell_type": "code",
   "execution_count": 238,
   "id": "9991cf22",
   "metadata": {},
   "outputs": [
    {
     "name": "stdout",
     "output_type": "stream",
     "text": [
      "Fitting 3 folds for each of 100 candidates, totalling 300 fits\n"
     ]
    },
    {
     "data": {
      "text/plain": [
       "RandomizedSearchCV(cv=RepeatedKFold(n_repeats=1, n_splits=3, random_state=42),\n",
       "                   estimator=RandomForestRegressor(random_state=42), n_iter=100,\n",
       "                   n_jobs=-1,\n",
       "                   param_distributions={'bootstrap': [True, False],\n",
       "                                        'max_depth': [10, 20, 30, 40, 50, 60,\n",
       "                                                      70, 80, 90, 100, 110,\n",
       "                                                      None],\n",
       "                                        'max_features': ['auto', 'sqrt'],\n",
       "                                        'min_samples_leaf': [1, 2, 4],\n",
       "                                        'min_samples_split': [2, 5, 10],\n",
       "                                        'n_estimators': [200, 400, 600, 800,\n",
       "                                                         1000, 1200, 1400, 1600,\n",
       "                                                         1800, 2000]},\n",
       "                   random_state=42, verbose=2)"
      ]
     },
     "execution_count": 238,
     "metadata": {},
     "output_type": "execute_result"
    }
   ],
   "source": [
    "rf_random.fit(X,y)"
   ]
  },
  {
   "cell_type": "code",
   "execution_count": 239,
   "id": "015caf8b",
   "metadata": {},
   "outputs": [
    {
     "data": {
      "text/plain": [
       "{'n_estimators': 400,\n",
       " 'min_samples_split': 2,\n",
       " 'min_samples_leaf': 1,\n",
       " 'max_features': 'sqrt',\n",
       " 'max_depth': None,\n",
       " 'bootstrap': False}"
      ]
     },
     "execution_count": 239,
     "metadata": {},
     "output_type": "execute_result"
    }
   ],
   "source": [
    "rf_random.best_params_"
   ]
  },
  {
   "cell_type": "code",
   "execution_count": 243,
   "id": "ce521359",
   "metadata": {},
   "outputs": [],
   "source": [
    "def evaluate(model, test_features, test_labels):\n",
    "    predictions = model.predict(test_features)\n",
    "    errors = abs(predictions - test_labels)\n",
    "    mape = 100 * np.mean(errors / test_labels)\n",
    "    accuracy = 100 - mape\n",
    "    print('Model Performance')\n",
    "    print('Average Error: {:0.4f} '.format(np.mean(errors)))\n",
    "    print('Accuracy = {:0.2f}%.'.format(accuracy))\n",
    "\n",
    "    return accuracy"
   ]
  },
  {
   "cell_type": "code",
   "execution_count": 323,
   "id": "7a3640d5",
   "metadata": {},
   "outputs": [
    {
     "name": "stdout",
     "output_type": "stream",
     "text": [
      "Model Performance\n",
      "Average Error: 0.2493 \n",
      "Accuracy = 94.32%.\n"
     ]
    }
   ],
   "source": [
    "rf_base_model = RandomForestRegressor(n_estimators = 100, random_state = 42)\n",
    "rf_base_model.fit(X_train_scaled, y_train)\n",
    "rf_base_accuracy = evaluate(rf_base_model, X_test_scaled, y_test)"
   ]
  },
  {
   "cell_type": "code",
   "execution_count": 324,
   "id": "314d07a7",
   "metadata": {},
   "outputs": [
    {
     "data": {
      "text/plain": [
       "0.056837075327868025"
      ]
     },
     "execution_count": 324,
     "metadata": {},
     "output_type": "execute_result"
    }
   ],
   "source": [
    "mean_absolute_percentage_error(y_test, rf_base_model.predict(X_test_scaled))"
   ]
  },
  {
   "cell_type": "code",
   "execution_count": 320,
   "id": "cf96415f",
   "metadata": {},
   "outputs": [
    {
     "name": "stdout",
     "output_type": "stream",
     "text": [
      "Model Performance\n",
      "Average Error: 0.2273 \n",
      "Accuracy = 94.80%.\n"
     ]
    }
   ],
   "source": [
    "best_random = rf_random.best_estimator_\n",
    "best_random.fit(X_train_scaled, y_train)\n",
    "random_accuracy = evaluate(best_random, X_test_scaled, y_test)"
   ]
  },
  {
   "cell_type": "code",
   "execution_count": 325,
   "id": "e35ee498",
   "metadata": {},
   "outputs": [
    {
     "data": {
      "text/plain": [
       "0.05204577750125181"
      ]
     },
     "execution_count": 325,
     "metadata": {},
     "output_type": "execute_result"
    }
   ],
   "source": [
    "mean_absolute_percentage_error(y_test, best_random.predict(X_test_scaled))"
   ]
  },
  {
   "cell_type": "code",
   "execution_count": 326,
   "id": "22b67854",
   "metadata": {},
   "outputs": [
    {
     "data": {
      "text/plain": [
       "0.7230441238499933"
      ]
     },
     "execution_count": 326,
     "metadata": {},
     "output_type": "execute_result"
    }
   ],
   "source": [
    "best_random.score(X_test_scaled, y_test)  # test set "
   ]
  },
  {
   "cell_type": "code",
   "execution_count": 327,
   "id": "12736490",
   "metadata": {},
   "outputs": [
    {
     "data": {
      "text/plain": [
       "1.0"
      ]
     },
     "execution_count": 327,
     "metadata": {},
     "output_type": "execute_result"
    }
   ],
   "source": [
    "best_random.score(X_train_scaled, y_train)  # trainin set"
   ]
  },
  {
   "cell_type": "markdown",
   "id": "9b2a4477",
   "metadata": {},
   "source": [
    "### 2) Gradient Boosting"
   ]
  },
  {
   "cell_type": "code",
   "execution_count": 13,
   "id": "29d6c069",
   "metadata": {},
   "outputs": [],
   "source": [
    "# parameter grid \n",
    "# Number of trees in GB\n",
    "n_estimators = [int(x) for x in np.linspace(start = 200, stop = 2000, num = 10)]\n",
    "# learning rate \n",
    "learning_rate = [0.1, 0.3, 0.5, 0.75]\n",
    "# Number of features to consider at every split\n",
    "max_features = ['auto', 'sqrt']\n",
    "# Maximum number of levels in tree\n",
    "max_depth = [int(x) for x in np.linspace(10, 110, num = 11)]\n",
    "max_depth.append(None)\n",
    "# Minimum number of samples required to split a node\n",
    "min_samples_split = [2, 5, 10]\n",
    "# Minimum number of samples required at each leaf node\n",
    "min_samples_leaf = [1, 2, 4]\n",
    "# Number of iterations before no change\n",
    "n_iter_no_change: [1,5,10]"
   ]
  },
  {
   "cell_type": "code",
   "execution_count": 269,
   "id": "3c1eefcd",
   "metadata": {},
   "outputs": [
    {
     "name": "stdout",
     "output_type": "stream",
     "text": [
      "{'n_estimators': [200, 400, 600, 800, 1000, 1200, 1400, 1600, 1800, 2000], 'max_features': ['auto', 'sqrt'], 'max_depth': [10, 20, 30, 40, 50, 60, 70, 80, 90, 100, 110, None], 'min_samples_split': [2, 5, 10], 'min_samples_leaf': [1, 2, 4], 'learning_rate': [0.1, 0.3, 0.5, 0.75]}\n"
     ]
    }
   ],
   "source": [
    "gb_grid = {'n_estimators': n_estimators,\n",
    "               'max_features': max_features,\n",
    "               'max_depth': max_depth,\n",
    "               'min_samples_split': min_samples_split,\n",
    "               'min_samples_leaf': min_samples_leaf, 'learning_rate': learning_rate\n",
    "               }\n",
    "print(gb_grid)"
   ]
  },
  {
   "cell_type": "code",
   "execution_count": 271,
   "id": "3b934661",
   "metadata": {},
   "outputs": [],
   "source": [
    "# Use the random grid to search for best hyperparameters\n",
    "# First create the base model to tune\n",
    "gb = GradientBoostingRegressor(random_state=42)\n",
    "# Random search of parameters, using 3 fold cross validation, \n",
    "# search across 100 different combinations, and use all available cores\n",
    "cv = RepeatedKFold(n_splits= 3, n_repeats=1, random_state=42)\n",
    "gb_random = RandomizedSearchCV(estimator = gb, param_distributions = gb_grid, n_iter = 100, cv = cv, verbose=2, random_state=42, n_jobs = -1)"
   ]
  },
  {
   "cell_type": "code",
   "execution_count": 272,
   "id": "686ac634",
   "metadata": {},
   "outputs": [
    {
     "name": "stdout",
     "output_type": "stream",
     "text": [
      "Fitting 3 folds for each of 100 candidates, totalling 300 fits\n"
     ]
    },
    {
     "data": {
      "text/plain": [
       "RandomizedSearchCV(cv=RepeatedKFold(n_repeats=1, n_splits=3, random_state=42),\n",
       "                   estimator=GradientBoostingRegressor(random_state=42),\n",
       "                   n_iter=100, n_jobs=-1,\n",
       "                   param_distributions={'learning_rate': [0.1, 0.3, 0.5, 0.75],\n",
       "                                        'max_depth': [10, 20, 30, 40, 50, 60,\n",
       "                                                      70, 80, 90, 100, 110,\n",
       "                                                      None],\n",
       "                                        'max_features': ['auto', 'sqrt'],\n",
       "                                        'min_samples_leaf': [1, 2, 4],\n",
       "                                        'min_samples_split': [2, 5, 10],\n",
       "                                        'n_estimators': [200, 400, 600, 800,\n",
       "                                                         1000, 1200, 1400, 1600,\n",
       "                                                         1800, 2000]},\n",
       "                   random_state=42, verbose=2)"
      ]
     },
     "execution_count": 272,
     "metadata": {},
     "output_type": "execute_result"
    }
   ],
   "source": [
    "gb_random.fit(X,y)"
   ]
  },
  {
   "cell_type": "code",
   "execution_count": 274,
   "id": "6365e91f",
   "metadata": {},
   "outputs": [
    {
     "data": {
      "text/plain": [
       "{'n_estimators': 1200,\n",
       " 'min_samples_split': 10,\n",
       " 'min_samples_leaf': 4,\n",
       " 'max_features': 'sqrt',\n",
       " 'max_depth': 60,\n",
       " 'learning_rate': 0.1}"
      ]
     },
     "execution_count": 274,
     "metadata": {},
     "output_type": "execute_result"
    }
   ],
   "source": [
    "gb_random.best_params_"
   ]
  },
  {
   "cell_type": "code",
   "execution_count": 298,
   "id": "fdcb4771",
   "metadata": {},
   "outputs": [],
   "source": [
    "def evaluate(model, test_features, test_labels):\n",
    "    predictions = model.predict(test_features)\n",
    "    errors = abs(predictions - test_labels)\n",
    "    mape = 100 * np.mean(errors / test_labels)\n",
    "    accuracy = 100 - mape\n",
    "    print('Model Performance')\n",
    "    print('Average Error: {:0.4f} '.format(np.mean(errors)))\n",
    "    print('Accuracy = {:0.2f}%.'.format(accuracy))\n",
    "\n",
    "    return accuracy"
   ]
  },
  {
   "cell_type": "code",
   "execution_count": 334,
   "id": "0b190a4a",
   "metadata": {},
   "outputs": [
    {
     "name": "stdout",
     "output_type": "stream",
     "text": [
      "Model Performance\n",
      "Average Error: 0.3596 \n",
      "Accuracy = 91.84%.\n"
     ]
    }
   ],
   "source": [
    "gb_base_model = GradientBoostingRegressor(n_estimators = 100, random_state = 42)\n",
    "gb_base_model.fit(X_train_scaled, y_train)\n",
    "gb_base_accuracy = evaluate(gb_base_model, X_test_scaled, y_test)"
   ]
  },
  {
   "cell_type": "code",
   "execution_count": 335,
   "id": "384f61c7",
   "metadata": {},
   "outputs": [
    {
     "name": "stdout",
     "output_type": "stream",
     "text": [
      "Model Performance\n",
      "Average Error: 0.2336 \n",
      "Accuracy = 94.65%.\n"
     ]
    }
   ],
   "source": [
    "best_gb = gb_random.best_estimator_\n",
    "best_gb.fit(X_train_scaled, y_train)\n",
    "gb_accuracy = evaluate(best_gb, X_test_scaled, y_test)"
   ]
  },
  {
   "cell_type": "code",
   "execution_count": 336,
   "id": "3fb6b1fd",
   "metadata": {},
   "outputs": [
    {
     "data": {
      "text/plain": [
       "0.08159473817188871"
      ]
     },
     "execution_count": 336,
     "metadata": {},
     "output_type": "execute_result"
    }
   ],
   "source": [
    "mean_absolute_percentage_error(y_test, gb_base_model.predict(X_test_scaled))"
   ]
  },
  {
   "cell_type": "code",
   "execution_count": 337,
   "id": "d817537e",
   "metadata": {},
   "outputs": [
    {
     "data": {
      "text/plain": [
       "0.05350434479542793"
      ]
     },
     "execution_count": 337,
     "metadata": {},
     "output_type": "execute_result"
    }
   ],
   "source": [
    "mean_absolute_percentage_error(y_test, best_gb.predict(X_test_scaled))"
   ]
  },
  {
   "cell_type": "code",
   "execution_count": 338,
   "id": "22a1bfda",
   "metadata": {},
   "outputs": [
    {
     "data": {
      "text/plain": [
       "0.720563280100552"
      ]
     },
     "execution_count": 338,
     "metadata": {},
     "output_type": "execute_result"
    }
   ],
   "source": [
    "best_gb.score(X_test_scaled, y_test)  # test set"
   ]
  },
  {
   "cell_type": "code",
   "execution_count": 339,
   "id": "19138544",
   "metadata": {},
   "outputs": [
    {
     "data": {
      "text/plain": [
       "0.9999999999999842"
      ]
     },
     "execution_count": 339,
     "metadata": {},
     "output_type": "execute_result"
    }
   ],
   "source": [
    "best_gb.score(X_train_scaled, y_train)  # training set"
   ]
  },
  {
   "cell_type": "markdown",
   "id": "4bf82290",
   "metadata": {},
   "source": [
    "### 3) Extreme Gradient Boosting"
   ]
  },
  {
   "cell_type": "code",
   "execution_count": 15,
   "id": "66a021bd",
   "metadata": {},
   "outputs": [],
   "source": [
    "xgb = XGBRegressor()"
   ]
  },
  {
   "cell_type": "code",
   "execution_count": 340,
   "id": "85556773",
   "metadata": {},
   "outputs": [],
   "source": [
    "xgb_grid = {'max_depth': [3, 5, 6, 10, 15, 20],\n",
    "           'learning_rate': [0.01, 0.1, 0.2, 0.3],\n",
    "           'subsample': np.arange(0.5, 1.0, 0.1),\n",
    "           'colsample_bytree': np.arange(0.4, 1.0, 0.1),\n",
    "           'colsample_bylevel': np.arange(0.4, 1.0, 0.1),\n",
    "           'n_estimators': n_estimators}"
   ]
  },
  {
   "cell_type": "code",
   "execution_count": 342,
   "id": "46146b8d",
   "metadata": {},
   "outputs": [
    {
     "name": "stdout",
     "output_type": "stream",
     "text": [
      "{'max_depth': [3, 5, 6, 10, 15, 20], 'learning_rate': [0.01, 0.1, 0.2, 0.3], 'subsample': array([0.5, 0.6, 0.7, 0.8, 0.9]), 'colsample_bytree': array([0.4, 0.5, 0.6, 0.7, 0.8, 0.9]), 'colsample_bylevel': array([0.4, 0.5, 0.6, 0.7, 0.8, 0.9]), 'n_estimators': [200, 400, 600, 800, 1000, 1200, 1400, 1600, 1800, 2000]}\n"
     ]
    }
   ],
   "source": [
    "print(xgb_grid)"
   ]
  },
  {
   "cell_type": "code",
   "execution_count": 343,
   "id": "5b33f2d0",
   "metadata": {},
   "outputs": [],
   "source": [
    "# Use the random grid to search for best hyperparameters\n",
    "# First create the base model to tune\n",
    "xgb = XGBRegressor(random_state=42)\n",
    "# Random search of parameters, using 3 fold cross validation, \n",
    "# search across 100 different combinations, and use all available cores\n",
    "cv = RepeatedKFold(n_splits= 3, n_repeats=1, random_state=42)\n",
    "xgb_random = RandomizedSearchCV(estimator = xgb, param_distributions = xgb_grid, n_iter = 100, cv = cv, verbose=2, random_state=42, n_jobs = -1)"
   ]
  },
  {
   "cell_type": "code",
   "execution_count": 344,
   "id": "5ad764f3",
   "metadata": {},
   "outputs": [
    {
     "name": "stdout",
     "output_type": "stream",
     "text": [
      "Fitting 3 folds for each of 100 candidates, totalling 300 fits\n"
     ]
    },
    {
     "data": {
      "text/plain": [
       "RandomizedSearchCV(cv=RepeatedKFold(n_repeats=1, n_splits=3, random_state=42),\n",
       "                   estimator=XGBRegressor(base_score=None, booster=None,\n",
       "                                          callbacks=None,\n",
       "                                          colsample_bylevel=None,\n",
       "                                          colsample_bynode=None,\n",
       "                                          colsample_bytree=None,\n",
       "                                          early_stopping_rounds=None,\n",
       "                                          enable_categorical=False,\n",
       "                                          eval_metric=None, gamma=None,\n",
       "                                          gpu_id=None, grow_policy=None,\n",
       "                                          importance_type=None,\n",
       "                                          interactio...\n",
       "                                          reg_alpha=None, reg_lambda=None, ...),\n",
       "                   n_iter=100, n_jobs=-1,\n",
       "                   param_distributions={'colsample_bylevel': array([0.4, 0.5, 0.6, 0.7, 0.8, 0.9]),\n",
       "                                        'colsample_bytree': array([0.4, 0.5, 0.6, 0.7, 0.8, 0.9]),\n",
       "                                        'learning_rate': [0.01, 0.1, 0.2, 0.3],\n",
       "                                        'max_depth': [3, 5, 6, 10, 15, 20],\n",
       "                                        'n_estimators': [200, 400, 600, 800,\n",
       "                                                         1000, 1200, 1400, 1600,\n",
       "                                                         1800, 2000],\n",
       "                                        'subsample': array([0.5, 0.6, 0.7, 0.8, 0.9])},\n",
       "                   random_state=42, verbose=2)"
      ]
     },
     "execution_count": 344,
     "metadata": {},
     "output_type": "execute_result"
    }
   ],
   "source": [
    "xgb_random.fit(X,y)"
   ]
  },
  {
   "cell_type": "code",
   "execution_count": 346,
   "id": "bf403c89",
   "metadata": {},
   "outputs": [
    {
     "data": {
      "text/plain": [
       "{'subsample': 0.5,\n",
       " 'n_estimators': 1800,\n",
       " 'max_depth': 20,\n",
       " 'learning_rate': 0.01,\n",
       " 'colsample_bytree': 0.7,\n",
       " 'colsample_bylevel': 0.4}"
      ]
     },
     "execution_count": 346,
     "metadata": {},
     "output_type": "execute_result"
    }
   ],
   "source": [
    "xgb_random.best_params_"
   ]
  },
  {
   "cell_type": "code",
   "execution_count": 348,
   "id": "fa8cf5f1",
   "metadata": {},
   "outputs": [],
   "source": [
    "def evaluate(model, test_features, test_labels):\n",
    "    predictions = model.predict(test_features)\n",
    "    errors = abs(predictions - test_labels)\n",
    "    mape = 100 * np.mean(errors / test_labels)\n",
    "    accuracy = 100 - mape\n",
    "    print('Model Performance')\n",
    "    print('Average Error: {:0.2f} '.format(np.mean(errors)))\n",
    "    print('Accuracy = {:0.2f}%.'.format(accuracy))\n",
    "\n",
    "    return accuracy"
   ]
  },
  {
   "cell_type": "code",
   "execution_count": 349,
   "id": "cff782e4",
   "metadata": {},
   "outputs": [
    {
     "name": "stdout",
     "output_type": "stream",
     "text": [
      "Model Performance\n",
      "Average Error: 0.27 \n",
      "Accuracy = 93.74%.\n"
     ]
    }
   ],
   "source": [
    "xgb_base_model = XGBRegressor(n_estimators = 100, random_state = 42)\n",
    "xgb_base_model.fit(X_train_scaled, y_train)\n",
    "xgb_base_accuracy = evaluate(xgb_base_model, X_test_scaled, y_test)"
   ]
  },
  {
   "cell_type": "code",
   "execution_count": 350,
   "id": "fc1afff2",
   "metadata": {},
   "outputs": [
    {
     "name": "stdout",
     "output_type": "stream",
     "text": [
      "Model Performance\n",
      "Average Error: 0.23 \n",
      "Accuracy = 94.82%.\n"
     ]
    }
   ],
   "source": [
    "best_xgb = xgb_random.best_estimator_\n",
    "best_xgb.fit(X_train_scaled, y_train)\n",
    "xgb_accuracy = evaluate(best_xgb, X_test_scaled, y_test)"
   ]
  },
  {
   "cell_type": "code",
   "execution_count": 351,
   "id": "43c2f148",
   "metadata": {},
   "outputs": [
    {
     "data": {
      "text/plain": [
       "0.06263141667808995"
      ]
     },
     "execution_count": 351,
     "metadata": {},
     "output_type": "execute_result"
    }
   ],
   "source": [
    "mean_absolute_percentage_error(y_test, xgb_base_model.predict(X_test_scaled))"
   ]
  },
  {
   "cell_type": "code",
   "execution_count": 352,
   "id": "499ea357",
   "metadata": {},
   "outputs": [
    {
     "data": {
      "text/plain": [
       "0.05183047837312046"
      ]
     },
     "execution_count": 352,
     "metadata": {},
     "output_type": "execute_result"
    }
   ],
   "source": [
    "mean_absolute_percentage_error(y_test, best_xgb.predict(X_test_scaled))"
   ]
  },
  {
   "cell_type": "code",
   "execution_count": 353,
   "id": "3ab796e3",
   "metadata": {},
   "outputs": [
    {
     "data": {
      "text/plain": [
       "0.7314057019772948"
      ]
     },
     "execution_count": 353,
     "metadata": {},
     "output_type": "execute_result"
    }
   ],
   "source": [
    "best_xgb.score(X_test_scaled, y_test)  "
   ]
  },
  {
   "cell_type": "code",
   "execution_count": 354,
   "id": "84f12834",
   "metadata": {},
   "outputs": [
    {
     "data": {
      "text/plain": [
       "0.9985770514715532"
      ]
     },
     "execution_count": 354,
     "metadata": {},
     "output_type": "execute_result"
    }
   ],
   "source": [
    "best_xgb.score(X_train_scaled, y_train)  "
   ]
  },
  {
   "cell_type": "markdown",
   "id": "4bc455e4",
   "metadata": {},
   "source": [
    "# Making Predictions "
   ]
  },
  {
   "cell_type": "markdown",
   "id": "b6217e72",
   "metadata": {},
   "source": [
    "## Case 1) High Humidity in House"
   ]
  },
  {
   "cell_type": "code",
   "execution_count": 34,
   "id": "1f8115d3",
   "metadata": {},
   "outputs": [
    {
     "data": {
      "text/plain": [
       "Lights_E_Wh           30.000000\n",
       "T_Kitchen             19.890000\n",
       "H_Kitchen             47.596667\n",
       "T_Living              19.200000\n",
       "H_Living              44.790000\n",
       "T_Laundry             19.790000\n",
       "H_Laundry             44.730000\n",
       "T_Office              19.000000\n",
       "H_Office              45.566667\n",
       "T_Bathroom            17.166667\n",
       "H_Bathroom            55.200000\n",
       "T_Building_out_NS      7.026667\n",
       "H_Building_out_NS     84.256667\n",
       "T_Ironning            17.200000\n",
       "H_Ironing             41.626667\n",
       "T_Teenager            18.200000\n",
       "H_Teenager            48.900000\n",
       "T_Parents             17.033333\n",
       "H_Parents             45.530000\n",
       "T_out                  6.600000\n",
       "Press_out            733.500000\n",
       "H_out                 92.000000\n",
       "Windspeed              7.000000\n",
       "Visibility            63.000000\n",
       "Tdewpoint              5.300000\n",
       "Name: 0, dtype: float64"
      ]
     },
     "execution_count": 34,
     "metadata": {},
     "output_type": "execute_result"
    }
   ],
   "source": [
    "X_pred_humd = X.loc[0,:]   \n",
    "X_pred_humd"
   ]
  },
  {
   "cell_type": "code",
   "execution_count": 96,
   "id": "6b8b858d",
   "metadata": {},
   "outputs": [
    {
     "name": "stderr",
     "output_type": "stream",
     "text": [
      "C:\\Users\\msale\\anaconda3\\lib\\site-packages\\pandas\\core\\series.py:1056: SettingWithCopyWarning: \n",
      "A value is trying to be set on a copy of a slice from a DataFrame\n",
      "\n",
      "See the caveats in the documentation: https://pandas.pydata.org/pandas-docs/stable/user_guide/indexing.html#returning-a-view-versus-a-copy\n",
      "  cacher_needs_updating = self._check_is_chained_assignment_possible()\n",
      "C:\\Users\\msale\\anaconda3\\lib\\site-packages\\pandas\\core\\indexing.py:1965: SettingWithCopyWarning: \n",
      "A value is trying to be set on a copy of a slice from a DataFrame\n",
      "\n",
      "See the caveats in the documentation: https://pandas.pydata.org/pandas-docs/stable/user_guide/indexing.html#returning-a-view-versus-a-copy\n",
      "  self.obj._check_is_chained_assignment_possible()\n",
      "C:\\Users\\msale\\anaconda3\\lib\\site-packages\\pandas\\core\\indexing.py:1732: SettingWithCopyWarning: \n",
      "A value is trying to be set on a copy of a slice from a DataFrame\n",
      "\n",
      "See the caveats in the documentation: https://pandas.pydata.org/pandas-docs/stable/user_guide/indexing.html#returning-a-view-versus-a-copy\n",
      "  self._setitem_single_block(indexer, value, name)\n"
     ]
    },
    {
     "data": {
      "text/plain": [
       "Lights_E_Wh           80.000000\n",
       "T_Kitchen             19.890000\n",
       "H_Kitchen             80.000000\n",
       "T_Living              19.200000\n",
       "H_Living              80.000000\n",
       "T_Laundry             19.790000\n",
       "H_Laundry             80.000000\n",
       "T_Office              19.000000\n",
       "H_Office              80.000000\n",
       "T_Bathroom            17.166667\n",
       "H_Bathroom            80.000000\n",
       "T_Building_out_NS      7.026667\n",
       "H_Building_out_NS     84.256667\n",
       "T_Ironning            17.200000\n",
       "H_Ironing             80.000000\n",
       "T_Teenager            18.200000\n",
       "H_Teenager            80.000000\n",
       "T_Parents             17.033333\n",
       "H_Parents             80.000000\n",
       "T_out                  6.600000\n",
       "Press_out            733.500000\n",
       "H_out                 92.000000\n",
       "Windspeed              7.000000\n",
       "Visibility            63.000000\n",
       "Tdewpoint              5.300000\n",
       "Name: 0, dtype: float64"
      ]
     },
     "execution_count": 96,
     "metadata": {},
     "output_type": "execute_result"
    }
   ],
   "source": [
    "X_pred_humd['H_Kitchen','H_Living', 'H_Laundry','H_Bathroom', 'H_Teenager','H_Office', 'H_Ironing', 'H_Parents'] = 80 # setting inside humedity to 80% \n",
    "X_pred_humd"
   ]
  },
  {
   "cell_type": "code",
   "execution_count": 97,
   "id": "d93d369b",
   "metadata": {},
   "outputs": [],
   "source": [
    "from sklearn.preprocessing import StandardScaler\n",
    "scaler = StandardScaler()\n",
    "X_scaled = scaler.fit_transform(X)\n",
    "X_pred_humd_scaled = scaler.transform(X_pred_humd.array.reshape(1,-1))"
   ]
  },
  {
   "cell_type": "code",
   "execution_count": 101,
   "id": "83e182b6",
   "metadata": {},
   "outputs": [
    {
     "data": {
      "text/plain": [
       "XGBRegressor(base_score=0.5, booster='gbtree', callbacks=None,\n",
       "             colsample_bylevel=0.4, colsample_bynode=1, colsample_bytree=0.7,\n",
       "             early_stopping_rounds=None, enable_categorical=False,\n",
       "             eval_metric=None, gamma=0, gpu_id=-1, grow_policy='depthwise',\n",
       "             importance_type=None, interaction_constraints='',\n",
       "             learning_rate=0.01, max_bin=256, max_cat_to_onehot=4,\n",
       "             max_delta_step=0, max_depth=20, max_leaves=0, min_child_weight=1,\n",
       "             missing=nan, monotone_constraints='()', n_estimators=1800,\n",
       "             n_jobs=0, num_parallel_tree=1, predictor='auto', random_state=0,\n",
       "             reg_alpha=0, reg_lambda=1, ...)"
      ]
     },
     "execution_count": 101,
     "metadata": {},
     "output_type": "execute_result"
    }
   ],
   "source": [
    "xgb_tuned.fit(X,y)"
   ]
  },
  {
   "cell_type": "code",
   "execution_count": 100,
   "id": "da5b7459",
   "metadata": {},
   "outputs": [
    {
     "data": {
      "text/plain": [
       "array([4.6990232], dtype=float32)"
      ]
     },
     "execution_count": 100,
     "metadata": {},
     "output_type": "execute_result"
    }
   ],
   "source": [
    "y_pred_humd = xgb_tuned.predict(X_pred_humd_scaled)\n",
    "y_pred_humd"
   ]
  }
 ],
 "metadata": {
  "kernelspec": {
   "display_name": "Python 3 (ipykernel)",
   "language": "python",
   "name": "python3"
  },
  "language_info": {
   "codemirror_mode": {
    "name": "ipython",
    "version": 3
   },
   "file_extension": ".py",
   "mimetype": "text/x-python",
   "name": "python",
   "nbconvert_exporter": "python",
   "pygments_lexer": "ipython3",
   "version": "3.9.7"
  }
 },
 "nbformat": 4,
 "nbformat_minor": 5
}
