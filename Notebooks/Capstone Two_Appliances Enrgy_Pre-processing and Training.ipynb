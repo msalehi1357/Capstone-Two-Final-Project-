{
 "cells": [
  {
   "cell_type": "markdown",
   "id": "2c9a9d00",
   "metadata": {},
   "source": [
    "# Preprocessing and Training Data Development"
   ]
  },
  {
   "cell_type": "markdown",
   "id": "bfa99da1",
   "metadata": {},
   "source": [
    "#### This step focuses on Pre-processing & Training Data Development.The goal of this step is to normalize and standardize all the features in your data, as well as create a validation set.\n"
   ]
  },
  {
   "cell_type": "markdown",
   "id": "15b2b333",
   "metadata": {},
   "source": [
    "# **_Importing libraries_**"
   ]
  },
  {
   "cell_type": "code",
   "execution_count": 1,
   "id": "353eee8a",
   "metadata": {},
   "outputs": [],
   "source": [
    "import os\n",
    "import numpy as np \n",
    "import pandas as pd \n",
    "import matplotlib.pyplot as plt \n",
    "import seaborn as sns # \n",
    "import statsmodels.api as sm \n",
    "from statsmodels.graphics.api import abline_plot \n",
    "from sklearn import linear_model, preprocessing \n",
    "import pickle\n",
    "from sklearn import __version__ as sklearn_version\n",
    "from sklearn.decomposition import PCA\n",
    "from sklearn.preprocessing import scale\n",
    "from sklearn.model_selection import train_test_split, cross_validate, GridSearchCV, learning_curve\n",
    "from sklearn.preprocessing import StandardScaler, MinMaxScaler\n",
    "from sklearn.dummy import DummyRegressor\n",
    "from sklearn.linear_model import LinearRegression\n",
    "from sklearn.ensemble import RandomForestRegressor\n",
    "from sklearn.metrics import r2_score, mean_squared_error, mean_absolute_error\n",
    "from sklearn.pipeline import make_pipeline\n",
    "from sklearn.impute import SimpleImputer\n",
    "from sklearn.feature_selection import SelectKBest, f_regression\n",
    "import datetime\n",
    "\n",
    "\n",
    "import warnings # For handling error messages.\n",
    "# Don't worry about the following two instructions: they just suppress warnings that could occur later. \n",
    "warnings.simplefilter(action=\"ignore\", category=FutureWarning)\n",
    "warnings.filterwarnings(action=\"ignore\", module=\"scipy\", message=\"^internal gelsd\")"
   ]
  },
  {
   "cell_type": "markdown",
   "id": "1d373e25",
   "metadata": {},
   "source": [
    "# Load Data "
   ]
  },
  {
   "cell_type": "markdown",
   "id": "79528196",
   "metadata": {},
   "source": [
    "**_Loading Appliances Energy Usage Data_**"
   ]
  },
  {
   "cell_type": "code",
   "execution_count": 2,
   "id": "4a974f12",
   "metadata": {},
   "outputs": [],
   "source": [
    "df= pd.read_csv('C:/Users/msale/Documents/Springboard Data Science Track_Jan 2022/Springboard-Capstone-Two/Data_Files/appliances_clean_df.csv')"
   ]
  },
  {
   "cell_type": "code",
   "execution_count": 3,
   "id": "26351036",
   "metadata": {},
   "outputs": [],
   "source": [
    "df['date'] = pd.to_datetime(df['date'])  # converting date column to date type"
   ]
  },
  {
   "cell_type": "code",
   "execution_count": 4,
   "id": "f82cef71",
   "metadata": {},
   "outputs": [
    {
     "data": {
      "text/html": [
       "<div>\n",
       "<style scoped>\n",
       "    .dataframe tbody tr th:only-of-type {\n",
       "        vertical-align: middle;\n",
       "    }\n",
       "\n",
       "    .dataframe tbody tr th {\n",
       "        vertical-align: top;\n",
       "    }\n",
       "\n",
       "    .dataframe thead th {\n",
       "        text-align: right;\n",
       "    }\n",
       "</style>\n",
       "<table border=\"1\" class=\"dataframe\">\n",
       "  <thead>\n",
       "    <tr style=\"text-align: right;\">\n",
       "      <th></th>\n",
       "      <th>date</th>\n",
       "      <th>Appliances_E_Wh</th>\n",
       "      <th>Lights_E_Wh</th>\n",
       "      <th>T_Kitchen</th>\n",
       "      <th>H_Kitchen</th>\n",
       "      <th>T_Living</th>\n",
       "      <th>H_Living</th>\n",
       "      <th>T_Laundry</th>\n",
       "      <th>H_Laundry</th>\n",
       "      <th>T_Office</th>\n",
       "      <th>...</th>\n",
       "      <th>T_Teenager</th>\n",
       "      <th>H_Teenager</th>\n",
       "      <th>T_Parents</th>\n",
       "      <th>H_Parents</th>\n",
       "      <th>T_out</th>\n",
       "      <th>Press_out</th>\n",
       "      <th>H_out</th>\n",
       "      <th>Windspeed</th>\n",
       "      <th>Visibility</th>\n",
       "      <th>Tdewpoint</th>\n",
       "    </tr>\n",
       "  </thead>\n",
       "  <tbody>\n",
       "    <tr>\n",
       "      <th>0</th>\n",
       "      <td>2016-01-11 17:00:00</td>\n",
       "      <td>4.094345</td>\n",
       "      <td>30</td>\n",
       "      <td>19.89</td>\n",
       "      <td>47.596667</td>\n",
       "      <td>19.2</td>\n",
       "      <td>44.790000</td>\n",
       "      <td>19.79</td>\n",
       "      <td>44.730000</td>\n",
       "      <td>19.000000</td>\n",
       "      <td>...</td>\n",
       "      <td>18.2</td>\n",
       "      <td>48.900000</td>\n",
       "      <td>17.033333</td>\n",
       "      <td>45.53</td>\n",
       "      <td>6.600000</td>\n",
       "      <td>733.5</td>\n",
       "      <td>92.0</td>\n",
       "      <td>7.000000</td>\n",
       "      <td>63.000000</td>\n",
       "      <td>5.3</td>\n",
       "    </tr>\n",
       "    <tr>\n",
       "      <th>1</th>\n",
       "      <td>2016-01-11 17:10:00</td>\n",
       "      <td>4.094345</td>\n",
       "      <td>30</td>\n",
       "      <td>19.89</td>\n",
       "      <td>46.693333</td>\n",
       "      <td>19.2</td>\n",
       "      <td>44.722500</td>\n",
       "      <td>19.79</td>\n",
       "      <td>44.790000</td>\n",
       "      <td>19.000000</td>\n",
       "      <td>...</td>\n",
       "      <td>18.2</td>\n",
       "      <td>48.863333</td>\n",
       "      <td>17.066667</td>\n",
       "      <td>45.56</td>\n",
       "      <td>6.483333</td>\n",
       "      <td>733.6</td>\n",
       "      <td>92.0</td>\n",
       "      <td>6.666667</td>\n",
       "      <td>59.166667</td>\n",
       "      <td>5.2</td>\n",
       "    </tr>\n",
       "    <tr>\n",
       "      <th>2</th>\n",
       "      <td>2016-01-11 17:20:00</td>\n",
       "      <td>3.912023</td>\n",
       "      <td>30</td>\n",
       "      <td>19.89</td>\n",
       "      <td>46.300000</td>\n",
       "      <td>19.2</td>\n",
       "      <td>44.626667</td>\n",
       "      <td>19.79</td>\n",
       "      <td>44.933333</td>\n",
       "      <td>18.926667</td>\n",
       "      <td>...</td>\n",
       "      <td>18.2</td>\n",
       "      <td>48.730000</td>\n",
       "      <td>17.000000</td>\n",
       "      <td>45.50</td>\n",
       "      <td>6.366667</td>\n",
       "      <td>733.7</td>\n",
       "      <td>92.0</td>\n",
       "      <td>6.333333</td>\n",
       "      <td>55.333333</td>\n",
       "      <td>5.1</td>\n",
       "    </tr>\n",
       "    <tr>\n",
       "      <th>3</th>\n",
       "      <td>2016-01-11 17:30:00</td>\n",
       "      <td>3.912023</td>\n",
       "      <td>40</td>\n",
       "      <td>19.89</td>\n",
       "      <td>46.066667</td>\n",
       "      <td>19.2</td>\n",
       "      <td>44.590000</td>\n",
       "      <td>19.79</td>\n",
       "      <td>45.000000</td>\n",
       "      <td>18.890000</td>\n",
       "      <td>...</td>\n",
       "      <td>18.1</td>\n",
       "      <td>48.590000</td>\n",
       "      <td>17.000000</td>\n",
       "      <td>45.40</td>\n",
       "      <td>6.250000</td>\n",
       "      <td>733.8</td>\n",
       "      <td>92.0</td>\n",
       "      <td>6.000000</td>\n",
       "      <td>51.500000</td>\n",
       "      <td>5.0</td>\n",
       "    </tr>\n",
       "    <tr>\n",
       "      <th>4</th>\n",
       "      <td>2016-01-11 17:40:00</td>\n",
       "      <td>4.094345</td>\n",
       "      <td>40</td>\n",
       "      <td>19.89</td>\n",
       "      <td>46.333333</td>\n",
       "      <td>19.2</td>\n",
       "      <td>44.530000</td>\n",
       "      <td>19.79</td>\n",
       "      <td>45.000000</td>\n",
       "      <td>18.890000</td>\n",
       "      <td>...</td>\n",
       "      <td>18.1</td>\n",
       "      <td>48.590000</td>\n",
       "      <td>17.000000</td>\n",
       "      <td>45.40</td>\n",
       "      <td>6.133333</td>\n",
       "      <td>733.9</td>\n",
       "      <td>92.0</td>\n",
       "      <td>5.666667</td>\n",
       "      <td>47.666667</td>\n",
       "      <td>4.9</td>\n",
       "    </tr>\n",
       "  </tbody>\n",
       "</table>\n",
       "<p>5 rows × 27 columns</p>\n",
       "</div>"
      ],
      "text/plain": [
       "                 date  Appliances_E_Wh  Lights_E_Wh  T_Kitchen  H_Kitchen  \\\n",
       "0 2016-01-11 17:00:00         4.094345           30      19.89  47.596667   \n",
       "1 2016-01-11 17:10:00         4.094345           30      19.89  46.693333   \n",
       "2 2016-01-11 17:20:00         3.912023           30      19.89  46.300000   \n",
       "3 2016-01-11 17:30:00         3.912023           40      19.89  46.066667   \n",
       "4 2016-01-11 17:40:00         4.094345           40      19.89  46.333333   \n",
       "\n",
       "   T_Living   H_Living  T_Laundry  H_Laundry   T_Office  ...  T_Teenager  \\\n",
       "0      19.2  44.790000      19.79  44.730000  19.000000  ...        18.2   \n",
       "1      19.2  44.722500      19.79  44.790000  19.000000  ...        18.2   \n",
       "2      19.2  44.626667      19.79  44.933333  18.926667  ...        18.2   \n",
       "3      19.2  44.590000      19.79  45.000000  18.890000  ...        18.1   \n",
       "4      19.2  44.530000      19.79  45.000000  18.890000  ...        18.1   \n",
       "\n",
       "   H_Teenager  T_Parents  H_Parents     T_out  Press_out  H_out  Windspeed  \\\n",
       "0   48.900000  17.033333      45.53  6.600000      733.5   92.0   7.000000   \n",
       "1   48.863333  17.066667      45.56  6.483333      733.6   92.0   6.666667   \n",
       "2   48.730000  17.000000      45.50  6.366667      733.7   92.0   6.333333   \n",
       "3   48.590000  17.000000      45.40  6.250000      733.8   92.0   6.000000   \n",
       "4   48.590000  17.000000      45.40  6.133333      733.9   92.0   5.666667   \n",
       "\n",
       "   Visibility  Tdewpoint  \n",
       "0   63.000000        5.3  \n",
       "1   59.166667        5.2  \n",
       "2   55.333333        5.1  \n",
       "3   51.500000        5.0  \n",
       "4   47.666667        4.9  \n",
       "\n",
       "[5 rows x 27 columns]"
      ]
     },
     "execution_count": 4,
     "metadata": {},
     "output_type": "execute_result"
    }
   ],
   "source": [
    "df.head()"
   ]
  },
  {
   "cell_type": "markdown",
   "id": "c9c535a3",
   "metadata": {},
   "source": [
    "### Loading the data set with feature engineering"
   ]
  },
  {
   "cell_type": "code",
   "execution_count": 5,
   "id": "090eb6d3",
   "metadata": {},
   "outputs": [],
   "source": [
    "df_FE= pd.read_csv('C:/Users/msale/Documents/Springboard Data Science Track_Jan 2022/Springboard-Capstone-Two/Data_Files/Feature_Engineered_data.csv')"
   ]
  },
  {
   "cell_type": "code",
   "execution_count": 6,
   "id": "7d967d72",
   "metadata": {},
   "outputs": [],
   "source": [
    "df_FE['date'] = pd.to_datetime(df_FE['date'])"
   ]
  },
  {
   "cell_type": "code",
   "execution_count": 7,
   "id": "64907c49",
   "metadata": {},
   "outputs": [
    {
     "data": {
      "text/html": [
       "<div>\n",
       "<style scoped>\n",
       "    .dataframe tbody tr th:only-of-type {\n",
       "        vertical-align: middle;\n",
       "    }\n",
       "\n",
       "    .dataframe tbody tr th {\n",
       "        vertical-align: top;\n",
       "    }\n",
       "\n",
       "    .dataframe thead th {\n",
       "        text-align: right;\n",
       "    }\n",
       "</style>\n",
       "<table border=\"1\" class=\"dataframe\">\n",
       "  <thead>\n",
       "    <tr style=\"text-align: right;\">\n",
       "      <th></th>\n",
       "      <th>0</th>\n",
       "      <th>1</th>\n",
       "      <th>2</th>\n",
       "      <th>3</th>\n",
       "      <th>4</th>\n",
       "    </tr>\n",
       "  </thead>\n",
       "  <tbody>\n",
       "    <tr>\n",
       "      <th>date</th>\n",
       "      <td>2016-01-11 17:00:00</td>\n",
       "      <td>2016-01-11 17:10:00</td>\n",
       "      <td>2016-01-11 17:20:00</td>\n",
       "      <td>2016-01-11 17:30:00</td>\n",
       "      <td>2016-01-11 17:40:00</td>\n",
       "    </tr>\n",
       "    <tr>\n",
       "      <th>Appliances_E_Wh</th>\n",
       "      <td>4.094345</td>\n",
       "      <td>4.094345</td>\n",
       "      <td>3.912023</td>\n",
       "      <td>3.912023</td>\n",
       "      <td>4.094345</td>\n",
       "    </tr>\n",
       "    <tr>\n",
       "      <th>Lights_E_Wh</th>\n",
       "      <td>30</td>\n",
       "      <td>30</td>\n",
       "      <td>30</td>\n",
       "      <td>40</td>\n",
       "      <td>40</td>\n",
       "    </tr>\n",
       "    <tr>\n",
       "      <th>Avg_T_in</th>\n",
       "      <td>18.435</td>\n",
       "      <td>18.439167</td>\n",
       "      <td>18.421667</td>\n",
       "      <td>18.39625</td>\n",
       "      <td>18.40875</td>\n",
       "    </tr>\n",
       "    <tr>\n",
       "      <th>Avg_H_in</th>\n",
       "      <td>46.7425</td>\n",
       "      <td>46.672708</td>\n",
       "      <td>46.562917</td>\n",
       "      <td>46.46875</td>\n",
       "      <td>46.462917</td>\n",
       "    </tr>\n",
       "    <tr>\n",
       "      <th>Avg_T_out</th>\n",
       "      <td>6.308889</td>\n",
       "      <td>6.172222</td>\n",
       "      <td>6.008889</td>\n",
       "      <td>5.894444</td>\n",
       "      <td>5.8</td>\n",
       "    </tr>\n",
       "    <tr>\n",
       "      <th>Avg_H_out</th>\n",
       "      <td>60.518889</td>\n",
       "      <td>60.421111</td>\n",
       "      <td>60.085556</td>\n",
       "      <td>60.141111</td>\n",
       "      <td>60.597778</td>\n",
       "    </tr>\n",
       "    <tr>\n",
       "      <th>Press_out</th>\n",
       "      <td>733.5</td>\n",
       "      <td>733.6</td>\n",
       "      <td>733.7</td>\n",
       "      <td>733.8</td>\n",
       "      <td>733.9</td>\n",
       "    </tr>\n",
       "    <tr>\n",
       "      <th>Windspeed</th>\n",
       "      <td>7.0</td>\n",
       "      <td>6.666667</td>\n",
       "      <td>6.333333</td>\n",
       "      <td>6.0</td>\n",
       "      <td>5.666667</td>\n",
       "    </tr>\n",
       "    <tr>\n",
       "      <th>Visibility</th>\n",
       "      <td>63.0</td>\n",
       "      <td>59.166667</td>\n",
       "      <td>55.333333</td>\n",
       "      <td>51.5</td>\n",
       "      <td>47.666667</td>\n",
       "    </tr>\n",
       "  </tbody>\n",
       "</table>\n",
       "</div>"
      ],
      "text/plain": [
       "                                   0                    1  \\\n",
       "date             2016-01-11 17:00:00  2016-01-11 17:10:00   \n",
       "Appliances_E_Wh             4.094345             4.094345   \n",
       "Lights_E_Wh                       30                   30   \n",
       "Avg_T_in                      18.435            18.439167   \n",
       "Avg_H_in                     46.7425            46.672708   \n",
       "Avg_T_out                   6.308889             6.172222   \n",
       "Avg_H_out                  60.518889            60.421111   \n",
       "Press_out                      733.5                733.6   \n",
       "Windspeed                        7.0             6.666667   \n",
       "Visibility                      63.0            59.166667   \n",
       "\n",
       "                                   2                    3                    4  \n",
       "date             2016-01-11 17:20:00  2016-01-11 17:30:00  2016-01-11 17:40:00  \n",
       "Appliances_E_Wh             3.912023             3.912023             4.094345  \n",
       "Lights_E_Wh                       30                   40                   40  \n",
       "Avg_T_in                   18.421667             18.39625             18.40875  \n",
       "Avg_H_in                   46.562917             46.46875            46.462917  \n",
       "Avg_T_out                   6.008889             5.894444                  5.8  \n",
       "Avg_H_out                  60.085556            60.141111            60.597778  \n",
       "Press_out                      733.7                733.8                733.9  \n",
       "Windspeed                   6.333333                  6.0             5.666667  \n",
       "Visibility                 55.333333                 51.5            47.666667  "
      ]
     },
     "execution_count": 7,
     "metadata": {},
     "output_type": "execute_result"
    }
   ],
   "source": [
    "df_FE.head().T"
   ]
  },
  {
   "cell_type": "markdown",
   "id": "3b566a3d",
   "metadata": {},
   "source": [
    "### Define our X (features) and y (target variable)"
   ]
  },
  {
   "cell_type": "code",
   "execution_count": 8,
   "id": "6595fedd",
   "metadata": {},
   "outputs": [],
   "source": [
    "y = df['Appliances_E_Wh']\n",
    "\n",
    "X = df.drop([\"Appliances_E_Wh\", \"date\"],axis=1)  # considering all the variables except the date "
   ]
  },
  {
   "cell_type": "code",
   "execution_count": 9,
   "id": "97d00ba3",
   "metadata": {},
   "outputs": [
    {
     "data": {
      "text/plain": [
       "0    4.094345\n",
       "1    4.094345\n",
       "2    3.912023\n",
       "3    3.912023\n",
       "4    4.094345\n",
       "Name: Appliances_E_Wh, dtype: float64"
      ]
     },
     "execution_count": 9,
     "metadata": {},
     "output_type": "execute_result"
    }
   ],
   "source": [
    "y.head()"
   ]
  },
  {
   "cell_type": "code",
   "execution_count": 10,
   "id": "d0af1a7f",
   "metadata": {},
   "outputs": [
    {
     "data": {
      "text/html": [
       "<div>\n",
       "<style scoped>\n",
       "    .dataframe tbody tr th:only-of-type {\n",
       "        vertical-align: middle;\n",
       "    }\n",
       "\n",
       "    .dataframe tbody tr th {\n",
       "        vertical-align: top;\n",
       "    }\n",
       "\n",
       "    .dataframe thead th {\n",
       "        text-align: right;\n",
       "    }\n",
       "</style>\n",
       "<table border=\"1\" class=\"dataframe\">\n",
       "  <thead>\n",
       "    <tr style=\"text-align: right;\">\n",
       "      <th></th>\n",
       "      <th>0</th>\n",
       "      <th>1</th>\n",
       "      <th>2</th>\n",
       "      <th>3</th>\n",
       "      <th>4</th>\n",
       "    </tr>\n",
       "  </thead>\n",
       "  <tbody>\n",
       "    <tr>\n",
       "      <th>Lights_E_Wh</th>\n",
       "      <td>30.000000</td>\n",
       "      <td>30.000000</td>\n",
       "      <td>30.000000</td>\n",
       "      <td>40.000000</td>\n",
       "      <td>40.000000</td>\n",
       "    </tr>\n",
       "    <tr>\n",
       "      <th>T_Kitchen</th>\n",
       "      <td>19.890000</td>\n",
       "      <td>19.890000</td>\n",
       "      <td>19.890000</td>\n",
       "      <td>19.890000</td>\n",
       "      <td>19.890000</td>\n",
       "    </tr>\n",
       "    <tr>\n",
       "      <th>H_Kitchen</th>\n",
       "      <td>47.596667</td>\n",
       "      <td>46.693333</td>\n",
       "      <td>46.300000</td>\n",
       "      <td>46.066667</td>\n",
       "      <td>46.333333</td>\n",
       "    </tr>\n",
       "    <tr>\n",
       "      <th>T_Living</th>\n",
       "      <td>19.200000</td>\n",
       "      <td>19.200000</td>\n",
       "      <td>19.200000</td>\n",
       "      <td>19.200000</td>\n",
       "      <td>19.200000</td>\n",
       "    </tr>\n",
       "    <tr>\n",
       "      <th>H_Living</th>\n",
       "      <td>44.790000</td>\n",
       "      <td>44.722500</td>\n",
       "      <td>44.626667</td>\n",
       "      <td>44.590000</td>\n",
       "      <td>44.530000</td>\n",
       "    </tr>\n",
       "    <tr>\n",
       "      <th>T_Laundry</th>\n",
       "      <td>19.790000</td>\n",
       "      <td>19.790000</td>\n",
       "      <td>19.790000</td>\n",
       "      <td>19.790000</td>\n",
       "      <td>19.790000</td>\n",
       "    </tr>\n",
       "    <tr>\n",
       "      <th>H_Laundry</th>\n",
       "      <td>44.730000</td>\n",
       "      <td>44.790000</td>\n",
       "      <td>44.933333</td>\n",
       "      <td>45.000000</td>\n",
       "      <td>45.000000</td>\n",
       "    </tr>\n",
       "    <tr>\n",
       "      <th>T_Office</th>\n",
       "      <td>19.000000</td>\n",
       "      <td>19.000000</td>\n",
       "      <td>18.926667</td>\n",
       "      <td>18.890000</td>\n",
       "      <td>18.890000</td>\n",
       "    </tr>\n",
       "    <tr>\n",
       "      <th>H_Office</th>\n",
       "      <td>45.566667</td>\n",
       "      <td>45.992500</td>\n",
       "      <td>45.890000</td>\n",
       "      <td>45.723333</td>\n",
       "      <td>45.530000</td>\n",
       "    </tr>\n",
       "    <tr>\n",
       "      <th>T_Bathroom</th>\n",
       "      <td>17.166667</td>\n",
       "      <td>17.166667</td>\n",
       "      <td>17.166667</td>\n",
       "      <td>17.166667</td>\n",
       "      <td>17.200000</td>\n",
       "    </tr>\n",
       "    <tr>\n",
       "      <th>H_Bathroom</th>\n",
       "      <td>55.200000</td>\n",
       "      <td>55.200000</td>\n",
       "      <td>55.090000</td>\n",
       "      <td>55.090000</td>\n",
       "      <td>55.090000</td>\n",
       "    </tr>\n",
       "    <tr>\n",
       "      <th>T_Building_out_NS</th>\n",
       "      <td>7.026667</td>\n",
       "      <td>6.833333</td>\n",
       "      <td>6.560000</td>\n",
       "      <td>6.433333</td>\n",
       "      <td>6.366667</td>\n",
       "    </tr>\n",
       "    <tr>\n",
       "      <th>H_Building_out_NS</th>\n",
       "      <td>84.256667</td>\n",
       "      <td>84.063333</td>\n",
       "      <td>83.156667</td>\n",
       "      <td>83.423333</td>\n",
       "      <td>84.893333</td>\n",
       "    </tr>\n",
       "    <tr>\n",
       "      <th>T_Ironning</th>\n",
       "      <td>17.200000</td>\n",
       "      <td>17.200000</td>\n",
       "      <td>17.200000</td>\n",
       "      <td>17.133333</td>\n",
       "      <td>17.200000</td>\n",
       "    </tr>\n",
       "    <tr>\n",
       "      <th>H_Ironing</th>\n",
       "      <td>41.626667</td>\n",
       "      <td>41.560000</td>\n",
       "      <td>41.433333</td>\n",
       "      <td>41.290000</td>\n",
       "      <td>41.230000</td>\n",
       "    </tr>\n",
       "    <tr>\n",
       "      <th>T_Teenager</th>\n",
       "      <td>18.200000</td>\n",
       "      <td>18.200000</td>\n",
       "      <td>18.200000</td>\n",
       "      <td>18.100000</td>\n",
       "      <td>18.100000</td>\n",
       "    </tr>\n",
       "    <tr>\n",
       "      <th>H_Teenager</th>\n",
       "      <td>48.900000</td>\n",
       "      <td>48.863333</td>\n",
       "      <td>48.730000</td>\n",
       "      <td>48.590000</td>\n",
       "      <td>48.590000</td>\n",
       "    </tr>\n",
       "    <tr>\n",
       "      <th>T_Parents</th>\n",
       "      <td>17.033333</td>\n",
       "      <td>17.066667</td>\n",
       "      <td>17.000000</td>\n",
       "      <td>17.000000</td>\n",
       "      <td>17.000000</td>\n",
       "    </tr>\n",
       "    <tr>\n",
       "      <th>H_Parents</th>\n",
       "      <td>45.530000</td>\n",
       "      <td>45.560000</td>\n",
       "      <td>45.500000</td>\n",
       "      <td>45.400000</td>\n",
       "      <td>45.400000</td>\n",
       "    </tr>\n",
       "    <tr>\n",
       "      <th>T_out</th>\n",
       "      <td>6.600000</td>\n",
       "      <td>6.483333</td>\n",
       "      <td>6.366667</td>\n",
       "      <td>6.250000</td>\n",
       "      <td>6.133333</td>\n",
       "    </tr>\n",
       "    <tr>\n",
       "      <th>Press_out</th>\n",
       "      <td>733.500000</td>\n",
       "      <td>733.600000</td>\n",
       "      <td>733.700000</td>\n",
       "      <td>733.800000</td>\n",
       "      <td>733.900000</td>\n",
       "    </tr>\n",
       "    <tr>\n",
       "      <th>H_out</th>\n",
       "      <td>92.000000</td>\n",
       "      <td>92.000000</td>\n",
       "      <td>92.000000</td>\n",
       "      <td>92.000000</td>\n",
       "      <td>92.000000</td>\n",
       "    </tr>\n",
       "    <tr>\n",
       "      <th>Windspeed</th>\n",
       "      <td>7.000000</td>\n",
       "      <td>6.666667</td>\n",
       "      <td>6.333333</td>\n",
       "      <td>6.000000</td>\n",
       "      <td>5.666667</td>\n",
       "    </tr>\n",
       "    <tr>\n",
       "      <th>Visibility</th>\n",
       "      <td>63.000000</td>\n",
       "      <td>59.166667</td>\n",
       "      <td>55.333333</td>\n",
       "      <td>51.500000</td>\n",
       "      <td>47.666667</td>\n",
       "    </tr>\n",
       "    <tr>\n",
       "      <th>Tdewpoint</th>\n",
       "      <td>5.300000</td>\n",
       "      <td>5.200000</td>\n",
       "      <td>5.100000</td>\n",
       "      <td>5.000000</td>\n",
       "      <td>4.900000</td>\n",
       "    </tr>\n",
       "  </tbody>\n",
       "</table>\n",
       "</div>"
      ],
      "text/plain": [
       "                            0           1           2           3           4\n",
       "Lights_E_Wh         30.000000   30.000000   30.000000   40.000000   40.000000\n",
       "T_Kitchen           19.890000   19.890000   19.890000   19.890000   19.890000\n",
       "H_Kitchen           47.596667   46.693333   46.300000   46.066667   46.333333\n",
       "T_Living            19.200000   19.200000   19.200000   19.200000   19.200000\n",
       "H_Living            44.790000   44.722500   44.626667   44.590000   44.530000\n",
       "T_Laundry           19.790000   19.790000   19.790000   19.790000   19.790000\n",
       "H_Laundry           44.730000   44.790000   44.933333   45.000000   45.000000\n",
       "T_Office            19.000000   19.000000   18.926667   18.890000   18.890000\n",
       "H_Office            45.566667   45.992500   45.890000   45.723333   45.530000\n",
       "T_Bathroom          17.166667   17.166667   17.166667   17.166667   17.200000\n",
       "H_Bathroom          55.200000   55.200000   55.090000   55.090000   55.090000\n",
       "T_Building_out_NS    7.026667    6.833333    6.560000    6.433333    6.366667\n",
       "H_Building_out_NS   84.256667   84.063333   83.156667   83.423333   84.893333\n",
       "T_Ironning          17.200000   17.200000   17.200000   17.133333   17.200000\n",
       "H_Ironing           41.626667   41.560000   41.433333   41.290000   41.230000\n",
       "T_Teenager          18.200000   18.200000   18.200000   18.100000   18.100000\n",
       "H_Teenager          48.900000   48.863333   48.730000   48.590000   48.590000\n",
       "T_Parents           17.033333   17.066667   17.000000   17.000000   17.000000\n",
       "H_Parents           45.530000   45.560000   45.500000   45.400000   45.400000\n",
       "T_out                6.600000    6.483333    6.366667    6.250000    6.133333\n",
       "Press_out          733.500000  733.600000  733.700000  733.800000  733.900000\n",
       "H_out               92.000000   92.000000   92.000000   92.000000   92.000000\n",
       "Windspeed            7.000000    6.666667    6.333333    6.000000    5.666667\n",
       "Visibility          63.000000   59.166667   55.333333   51.500000   47.666667\n",
       "Tdewpoint            5.300000    5.200000    5.100000    5.000000    4.900000"
      ]
     },
     "execution_count": 10,
     "metadata": {},
     "output_type": "execute_result"
    }
   ],
   "source": [
    "X.head().T   # We have a total of 25 features"
   ]
  },
  {
   "cell_type": "markdown",
   "id": "860bcb21",
   "metadata": {},
   "source": [
    "### Train/Test Split  (Creating a 70/30 train and test split)"
   ]
  },
  {
   "cell_type": "code",
   "execution_count": 11,
   "id": "e5df7316",
   "metadata": {},
   "outputs": [],
   "source": [
    "X_train, X_test, y_train, y_test = train_test_split(X, y, test_size = 0.30, random_state = 42)"
   ]
  },
  {
   "cell_type": "code",
   "execution_count": 12,
   "id": "474817cd",
   "metadata": {},
   "outputs": [
    {
     "data": {
      "text/plain": [
       "(13814.5, 5920.5)"
      ]
     },
     "execution_count": 12,
     "metadata": {},
     "output_type": "execute_result"
    }
   ],
   "source": [
    "len(df) * .7, len(df) * .3"
   ]
  },
  {
   "cell_type": "code",
   "execution_count": 13,
   "id": "4848115a",
   "metadata": {},
   "outputs": [
    {
     "data": {
      "text/plain": [
       "((13814, 25), (5921, 25))"
      ]
     },
     "execution_count": 13,
     "metadata": {},
     "output_type": "execute_result"
    }
   ],
   "source": [
    "X_train.shape, X_test.shape # X are all the features "
   ]
  },
  {
   "cell_type": "code",
   "execution_count": 14,
   "id": "dfbc45c2",
   "metadata": {},
   "outputs": [
    {
     "data": {
      "text/plain": [
       "((13814,), (5921,))"
      ]
     },
     "execution_count": 14,
     "metadata": {},
     "output_type": "execute_result"
    }
   ],
   "source": [
    "y_train.shape, y_test.shape  # y is the appliances energy usage "
   ]
  },
  {
   "cell_type": "markdown",
   "id": "cb47be34",
   "metadata": {},
   "source": [
    "### we need both train and test sets to be numeric"
   ]
  },
  {
   "cell_type": "code",
   "execution_count": 15,
   "id": "d343e371",
   "metadata": {},
   "outputs": [
    {
     "name": "stdout",
     "output_type": "stream",
     "text": [
      "<class 'pandas.core.frame.DataFrame'>\n",
      "Int64Index: 13814 entries, 9129 to 15795\n",
      "Data columns (total 25 columns):\n",
      " #   Column             Non-Null Count  Dtype  \n",
      "---  ------             --------------  -----  \n",
      " 0   Lights_E_Wh        13814 non-null  int64  \n",
      " 1   T_Kitchen          13814 non-null  float64\n",
      " 2   H_Kitchen          13814 non-null  float64\n",
      " 3   T_Living           13814 non-null  float64\n",
      " 4   H_Living           13814 non-null  float64\n",
      " 5   T_Laundry          13814 non-null  float64\n",
      " 6   H_Laundry          13814 non-null  float64\n",
      " 7   T_Office           13814 non-null  float64\n",
      " 8   H_Office           13814 non-null  float64\n",
      " 9   T_Bathroom         13814 non-null  float64\n",
      " 10  H_Bathroom         13814 non-null  float64\n",
      " 11  T_Building_out_NS  13814 non-null  float64\n",
      " 12  H_Building_out_NS  13814 non-null  float64\n",
      " 13  T_Ironning         13814 non-null  float64\n",
      " 14  H_Ironing          13814 non-null  float64\n",
      " 15  T_Teenager         13814 non-null  float64\n",
      " 16  H_Teenager         13814 non-null  float64\n",
      " 17  T_Parents          13814 non-null  float64\n",
      " 18  H_Parents          13814 non-null  float64\n",
      " 19  T_out              13814 non-null  float64\n",
      " 20  Press_out          13814 non-null  float64\n",
      " 21  H_out              13814 non-null  float64\n",
      " 22  Windspeed          13814 non-null  float64\n",
      " 23  Visibility         13814 non-null  float64\n",
      " 24  Tdewpoint          13814 non-null  float64\n",
      "dtypes: float64(24), int64(1)\n",
      "memory usage: 2.7 MB\n"
     ]
    }
   ],
   "source": [
    "X_train.info()"
   ]
  },
  {
   "cell_type": "code",
   "execution_count": 16,
   "id": "84dd9517",
   "metadata": {},
   "outputs": [
    {
     "data": {
      "text/plain": [
       "dtype('float64')"
      ]
     },
     "execution_count": 16,
     "metadata": {},
     "output_type": "execute_result"
    }
   ],
   "source": [
    "y_train.dtypes"
   ]
  },
  {
   "cell_type": "markdown",
   "id": "3c44a90c",
   "metadata": {},
   "source": [
    "### Initial Not-Even-A-Model"
   ]
  },
  {
   "cell_type": "markdown",
   "id": "56fa89b2",
   "metadata": {},
   "source": [
    "###### A good place to start is to see how good the mean is as a predictor. In other words, what if you simply say your best guess is the average value?"
   ]
  },
  {
   "cell_type": "code",
   "execution_count": 17,
   "id": "0e320408",
   "metadata": {},
   "outputs": [],
   "source": [
    "train_mean = y_train.mean()"
   ]
  },
  {
   "cell_type": "code",
   "execution_count": 18,
   "id": "db71e799",
   "metadata": {},
   "outputs": [
    {
     "data": {
      "text/plain": [
       "4.304241074952732"
      ]
     },
     "execution_count": 18,
     "metadata": {},
     "output_type": "execute_result"
    }
   ],
   "source": [
    "train_mean"
   ]
  },
  {
   "cell_type": "code",
   "execution_count": 19,
   "id": "d8ba5a8d",
   "metadata": {},
   "outputs": [
    {
     "data": {
      "text/plain": [
       "array([[4.30424107]])"
      ]
     },
     "execution_count": 19,
     "metadata": {},
     "output_type": "execute_result"
    }
   ],
   "source": [
    "dumb_reg = DummyRegressor(strategy='mean')\n",
    "dumb_reg.fit(X_train, y_train)\n",
    "dumb_reg.constant_"
   ]
  },
  {
   "cell_type": "code",
   "execution_count": 20,
   "id": "98e30ce5",
   "metadata": {},
   "outputs": [],
   "source": [
    "y_tr_pred = dumb_reg.predict(X_train)"
   ]
  },
  {
   "cell_type": "code",
   "execution_count": 21,
   "id": "af412101",
   "metadata": {},
   "outputs": [
    {
     "data": {
      "text/plain": [
       "0.0"
      ]
     },
     "execution_count": 21,
     "metadata": {},
     "output_type": "execute_result"
    }
   ],
   "source": [
    "r2_score(y_train, y_tr_pred) # Exactly as expected, if you use the average value as your prediction, you get an  R2  of zero on our training set."
   ]
  },
  {
   "cell_type": "code",
   "execution_count": 22,
   "id": "7d6e20bf",
   "metadata": {},
   "outputs": [],
   "source": [
    "y_te_pred= dumb_reg.predict(X_test)"
   ]
  },
  {
   "cell_type": "code",
   "execution_count": 23,
   "id": "f051cc91",
   "metadata": {},
   "outputs": [
    {
     "data": {
      "text/plain": [
       "-7.248256477687676e-06"
      ]
     },
     "execution_count": 23,
     "metadata": {},
     "output_type": "execute_result"
    }
   ],
   "source": [
    "r2_score(y_test, y_te_pred) #Generally, you can expect performance on a test set to be slightly worse than on the training set. As you are getting an  𝑅2  of zero on the training set, there's nowhere to go but negative!"
   ]
  },
  {
   "cell_type": "code",
   "execution_count": 24,
   "id": "a437e2ec",
   "metadata": {},
   "outputs": [
    {
     "data": {
      "text/plain": [
       "(0.4282109172012716, 0.4891014668887801)"
      ]
     },
     "execution_count": 24,
     "metadata": {},
     "output_type": "execute_result"
    }
   ],
   "source": [
    "mean_squared_error(y_train, y_tr_pred), mean_absolute_error(y_train, y_tr_pred)  # training set error"
   ]
  },
  {
   "cell_type": "code",
   "execution_count": 25,
   "id": "89183342",
   "metadata": {},
   "outputs": [
    {
     "data": {
      "text/plain": [
       "(0.436564106186244, 0.49576469899686454)"
      ]
     },
     "execution_count": 25,
     "metadata": {},
     "output_type": "execute_result"
    }
   ],
   "source": [
    "mean_squared_error(y_test, y_te_pred), mean_absolute_error(y_test, y_te_pred) # test set error"
   ]
  },
  {
   "cell_type": "markdown",
   "id": "032e0ce6",
   "metadata": {},
   "source": [
    "## Standarizing the features"
   ]
  },
  {
   "cell_type": "markdown",
   "id": "c70b42c4",
   "metadata": {},
   "source": [
    "Using Sklearn, standarizing the magnitude of the features by scaling the values.\n",
    "\n",
    "_Note: We need to fit() our scaler on X_train and then use that fitted scaler to transform() X_test. This is to avoid data leakage while we standardize our data_"
   ]
  },
  {
   "cell_type": "code",
   "execution_count": 26,
   "id": "61e515bc",
   "metadata": {},
   "outputs": [],
   "source": [
    "from sklearn.preprocessing import StandardScaler\n",
    "scaler = StandardScaler()\n",
    "X_train_scaled = scaler.fit_transform(X_train)\n",
    "X_test_scaled = scaler.transform(X_test)"
   ]
  },
  {
   "cell_type": "code",
   "execution_count": 27,
   "id": "67f26c7e",
   "metadata": {},
   "outputs": [
    {
     "data": {
      "text/plain": [
       "1.6068738283730658e-16"
      ]
     },
     "execution_count": 27,
     "metadata": {},
     "output_type": "execute_result"
    }
   ],
   "source": [
    "X_train_scaled.mean()   # should be close to 0 "
   ]
  },
  {
   "cell_type": "code",
   "execution_count": 28,
   "id": "fff7a744",
   "metadata": {},
   "outputs": [
    {
     "data": {
      "text/plain": [
       "1.0000000000000002"
      ]
     },
     "execution_count": 28,
     "metadata": {},
     "output_type": "execute_result"
    }
   ],
   "source": [
    "X_train_scaled.std() # should be close to 1"
   ]
  },
  {
   "cell_type": "markdown",
   "id": "44bb4c81",
   "metadata": {},
   "source": [
    "# Initial Models"
   ]
  },
  {
   "cell_type": "markdown",
   "id": "0056f856",
   "metadata": {},
   "source": [
    "### 1) Linear Regression with scaled data"
   ]
  },
  {
   "cell_type": "code",
   "execution_count": 29,
   "id": "c2fb3fbb",
   "metadata": {},
   "outputs": [],
   "source": [
    "lm = LinearRegression()"
   ]
  },
  {
   "cell_type": "code",
   "execution_count": 30,
   "id": "23b9b875",
   "metadata": {},
   "outputs": [
    {
     "data": {
      "text/plain": [
       "LinearRegression()"
      ]
     },
     "execution_count": 30,
     "metadata": {},
     "output_type": "execute_result"
    }
   ],
   "source": [
    "lm.fit(X_train_scaled, y_train)"
   ]
  },
  {
   "cell_type": "code",
   "execution_count": 31,
   "id": "0d550d2e",
   "metadata": {},
   "outputs": [],
   "source": [
    "# Make predictions using the model on both train and test splits\n",
    "y_train_pred_scaled = lm.predict(X_train_scaled)\n",
    "y_test_pred_scaled = lm.predict(X_test_scaled)"
   ]
  },
  {
   "cell_type": "code",
   "execution_count": 32,
   "id": "b1933c0a",
   "metadata": {},
   "outputs": [],
   "source": [
    "coef_scaled = lm.coef_  # coef of linear regression and sorting them based on their magnitude "
   ]
  },
  {
   "cell_type": "code",
   "execution_count": 33,
   "id": "4fd9ccbd",
   "metadata": {},
   "outputs": [
    {
     "data": {
      "text/plain": [
       "H_Kitchen            0.431165\n",
       "T_out                0.400742\n",
       "H_Living             0.336074\n",
       "T_Building_out_NS    0.320041\n",
       "T_Laundry            0.306837\n",
       "H_Teenager           0.235853\n",
       "T_Parents            0.221332\n",
       "T_Living             0.213112\n",
       "T_Teenager           0.197203\n",
       "Tdewpoint            0.176389\n",
       "H_out                0.131952\n",
       "Lights_E_Wh          0.130742\n",
       "H_Building_out_NS    0.086216\n",
       "H_Laundry            0.081408\n",
       "H_Parents            0.055290\n",
       "T_Ironning           0.052769\n",
       "T_Office             0.046510\n",
       "Windspeed            0.034862\n",
       "H_Ironing            0.028531\n",
       "H_Bathroom           0.026734\n",
       "T_Kitchen            0.026730\n",
       "H_Office             0.016224\n",
       "Visibility           0.011652\n",
       "T_Bathroom           0.007323\n",
       "Press_out            0.000765\n",
       "dtype: float64"
      ]
     },
     "execution_count": 33,
     "metadata": {},
     "output_type": "execute_result"
    }
   ],
   "source": [
    "pd.Series(coef_scaled, index = ['Lights_E_Wh', 'T_Kitchen', 'H_Kitchen', 'T_Living', 'H_Living',\n",
    "       'T_Laundry', 'H_Laundry', 'T_Office', 'H_Office', 'T_Bathroom',\n",
    "      'H_Bathroom', 'T_Building_out_NS', 'H_Building_out_NS', 'T_Ironning',\n",
    "       'H_Ironing', 'T_Teenager', 'H_Teenager', 'T_Parents', 'H_Parents',\n",
    "       'T_out', 'Press_out', 'H_out', 'Windspeed', 'Visibility', 'Tdewpoint']).abs().sort_values(ascending=False) "
   ]
  },
  {
   "cell_type": "markdown",
   "id": "3b7d6507",
   "metadata": {},
   "source": [
    "###### Top six features with large coef using scaled data are (in order): H_Kitchen, T_out , H_Living, T_Building_out_NS, T_Laundry, and            H_Teenager          "
   ]
  },
  {
   "cell_type": "code",
   "execution_count": 34,
   "id": "a2615714",
   "metadata": {},
   "outputs": [
    {
     "data": {
      "text/plain": [
       "4.304241074952765"
      ]
     },
     "execution_count": 34,
     "metadata": {},
     "output_type": "execute_result"
    }
   ],
   "source": [
    "lm.intercept_"
   ]
  },
  {
   "cell_type": "code",
   "execution_count": 35,
   "id": "1b0951cb",
   "metadata": {},
   "outputs": [
    {
     "data": {
      "text/plain": [
       "(0.27122441785249796, 0.28012300902707965)"
      ]
     },
     "execution_count": 35,
     "metadata": {},
     "output_type": "execute_result"
    }
   ],
   "source": [
    "#  Assess model performance  # training and test set accuracy \n",
    "r2_score(y_train, y_train_pred_scaled), r2_score(y_test, y_test_pred_scaled)"
   ]
  },
  {
   "cell_type": "markdown",
   "id": "555f5913",
   "metadata": {},
   "source": [
    "So here, we get a slightly better R2 on the test set than we did on the train set"
   ]
  },
  {
   "cell_type": "markdown",
   "id": "a7715a64",
   "metadata": {},
   "source": [
    "###### The above score is called R-Squared coefficient, or the \"coefficient of determination\". It's basically a measure of how successfully our model predicts the variations in the data away from the mean: 1 would mean a perfect model that explains 100% of the variation. At the moment, our model explains only about 28% of the variation from the mean. There's more work to do!"
   ]
  },
  {
   "cell_type": "code",
   "execution_count": 36,
   "id": "9acd9423",
   "metadata": {},
   "outputs": [
    {
     "data": {
      "text/plain": [
       "(0.3120696604652725, 0.39176279572418166)"
      ]
     },
     "execution_count": 36,
     "metadata": {},
     "output_type": "execute_result"
    }
   ],
   "source": [
    "mean_squared_error(y_train, y_train_pred_scaled), mean_absolute_error(y_train, y_train_pred_scaled)"
   ]
  },
  {
   "cell_type": "code",
   "execution_count": 37,
   "id": "8b522d73",
   "metadata": {},
   "outputs": [
    {
     "data": {
      "text/plain": [
       "(0.31427017721728806, 0.3953955328312127)"
      ]
     },
     "execution_count": 37,
     "metadata": {},
     "output_type": "execute_result"
    }
   ],
   "source": [
    "mean_squared_error(y_test, y_test_pred_scaled), mean_absolute_error(y_test, y_test_pred_scaled)"
   ]
  },
  {
   "cell_type": "markdown",
   "id": "0c308688",
   "metadata": {},
   "source": [
    "### Does it make a difference if we use nonscaled data? "
   ]
  },
  {
   "cell_type": "code",
   "execution_count": 38,
   "id": "247a1a6e",
   "metadata": {},
   "outputs": [],
   "source": [
    "lm_nonscaled= lm.fit(X_train, y_train)"
   ]
  },
  {
   "cell_type": "code",
   "execution_count": 39,
   "id": "40529671",
   "metadata": {},
   "outputs": [],
   "source": [
    "# Make predictions using the model on both train and test splits\n",
    "y_train_pred = lm_nonscaled.predict(X_train)\n",
    "y_test_pred = lm_nonscaled.predict(X_test)"
   ]
  },
  {
   "cell_type": "code",
   "execution_count": 40,
   "id": "aaaeb8cd",
   "metadata": {},
   "outputs": [],
   "source": [
    "coef_nonscaled= lm_nonscaled.coef_"
   ]
  },
  {
   "cell_type": "code",
   "execution_count": 41,
   "id": "2c31d4ec",
   "metadata": {},
   "outputs": [
    {
     "data": {
      "text/plain": [
       "T_Laundry            0.153113\n",
       "T_Parents            0.109617\n",
       "H_Kitchen            0.108669\n",
       "T_Teenager           0.100741\n",
       "T_Living             0.097113\n",
       "H_Living             0.082534\n",
       "T_out                0.075275\n",
       "T_Building_out_NS    0.052491\n",
       "H_Teenager           0.045131\n",
       "Tdewpoint            0.041988\n",
       "H_Laundry            0.025039\n",
       "T_Ironning           0.024972\n",
       "T_Office             0.022742\n",
       "T_Kitchen            0.016611\n",
       "Lights_E_Wh          0.016391\n",
       "Windspeed            0.014279\n",
       "H_Parents            0.013308\n",
       "H_out                0.008853\n",
       "H_Ironing            0.005583\n",
       "T_Bathroom           0.003964\n",
       "H_Office             0.003746\n",
       "H_Bathroom           0.002961\n",
       "H_Building_out_NS    0.002768\n",
       "Visibility           0.000984\n",
       "Press_out            0.000104\n",
       "dtype: float64"
      ]
     },
     "execution_count": 41,
     "metadata": {},
     "output_type": "execute_result"
    }
   ],
   "source": [
    "pd.Series(coef_nonscaled, index = ['Lights_E_Wh', 'T_Kitchen', 'H_Kitchen', 'T_Living', 'H_Living',\n",
    "       'T_Laundry', 'H_Laundry', 'T_Office', 'H_Office', 'T_Bathroom',\n",
    "      'H_Bathroom', 'T_Building_out_NS', 'H_Building_out_NS', 'T_Ironning',\n",
    "       'H_Ironing', 'T_Teenager', 'H_Teenager', 'T_Parents', 'H_Parents',\n",
    "       'T_out', 'Press_out', 'H_out', 'Windspeed', 'Visibility', 'Tdewpoint']).abs().sort_values(ascending=False) "
   ]
  },
  {
   "cell_type": "markdown",
   "id": "804e5cd1",
   "metadata": {},
   "source": [
    "###### Top six features with large coef using nonscaled data are (in order):   T_Laundry, T_Parents, H_Kitchen, T_Teenager, T_Living, and H_Living.  This is very different from the scaled data set.            "
   ]
  },
  {
   "cell_type": "code",
   "execution_count": 42,
   "id": "560ed7ae",
   "metadata": {},
   "outputs": [
    {
     "data": {
      "text/plain": [
       "(0.27122441785249796, 0.28012300902707965)"
      ]
     },
     "execution_count": 42,
     "metadata": {},
     "output_type": "execute_result"
    }
   ],
   "source": [
    "#  Assess model performance\n",
    "r2_score(y_train, y_train_pred), r2_score(y_test, y_test_pred)"
   ]
  },
  {
   "cell_type": "code",
   "execution_count": 43,
   "id": "f2feef2e",
   "metadata": {},
   "outputs": [
    {
     "data": {
      "text/plain": [
       "4.454188266781771"
      ]
     },
     "execution_count": 43,
     "metadata": {},
     "output_type": "execute_result"
    }
   ],
   "source": [
    "lm_nonscaled.intercept_"
   ]
  },
  {
   "cell_type": "markdown",
   "id": "37c7a264",
   "metadata": {},
   "source": [
    "###### Using scaled or nonscaled data makes no difference. Going forward, we will use scaled data.  "
   ]
  },
  {
   "cell_type": "code",
   "execution_count": 44,
   "id": "09f6b583",
   "metadata": {},
   "outputs": [
    {
     "data": {
      "text/plain": [
       "(0.3120696604652725, 0.39176279572418127)"
      ]
     },
     "execution_count": 44,
     "metadata": {},
     "output_type": "execute_result"
    }
   ],
   "source": [
    "mean_squared_error(y_train, y_train_pred), mean_absolute_error(y_train, y_train_pred) # same error using scaled or non-scaled data"
   ]
  },
  {
   "cell_type": "code",
   "execution_count": 45,
   "id": "aeb01f3f",
   "metadata": {},
   "outputs": [
    {
     "data": {
      "text/plain": [
       "(0.31427017721728806, 0.3953955328312125)"
      ]
     },
     "execution_count": 45,
     "metadata": {},
     "output_type": "execute_result"
    }
   ],
   "source": [
    "mean_squared_error(y_test, y_test_pred), mean_absolute_error(y_test, y_test_pred)"
   ]
  },
  {
   "cell_type": "code",
   "execution_count": 46,
   "id": "fe1e3d0f",
   "metadata": {},
   "outputs": [
    {
     "data": {
      "image/png": "[encoded data removed]",
      "text/plain": [
       "<Figure size 432x288 with 1 Axes>"
      ]
     },
     "metadata": {
      "needs_background": "light"
     },
     "output_type": "display_data"
    }
   ],
   "source": [
    "plt.scatter(y_test,y_test_pred)\n",
    "plt.title(\"Linear Model predictions vs. the actual values\")\n",
    "plt.xlabel('Actual E Wh')\n",
    "plt.ylabel('Predicted E Wh');"
   ]
  },
  {
   "cell_type": "markdown",
   "id": "25a69940",
   "metadata": {},
   "source": [
    "###### The linear model is overestimating the smaller target variable values and underestimating the larger target variable values. "
   ]
  },
  {
   "cell_type": "code",
   "execution_count": 47,
   "id": "30a7923a",
   "metadata": {},
   "outputs": [
    {
     "data": {
      "text/plain": [
       "{'copy_X': True,\n",
       " 'fit_intercept': True,\n",
       " 'n_jobs': None,\n",
       " 'normalize': False,\n",
       " 'positive': False}"
      ]
     },
     "execution_count": 47,
     "metadata": {},
     "output_type": "execute_result"
    }
   ],
   "source": [
    "lm.get_params(deep=True)"
   ]
  },
  {
   "cell_type": "code",
   "execution_count": 48,
   "id": "7c126f3a",
   "metadata": {},
   "outputs": [],
   "source": [
    "from sklearn.metrics import mean_absolute_percentage_error"
   ]
  },
  {
   "cell_type": "code",
   "execution_count": 49,
   "id": "fbea063f",
   "metadata": {},
   "outputs": [
    {
     "data": {
      "text/plain": [
       "0.08983428057623835"
      ]
     },
     "execution_count": 49,
     "metadata": {},
     "output_type": "execute_result"
    }
   ],
   "source": [
    "mean_absolute_percentage_error(y_test, y_test_pred)   # 8.98 % error"
   ]
  },
  {
   "cell_type": "markdown",
   "id": "d239da4c",
   "metadata": {},
   "source": [
    "### 2) OLS  (Linear model from Statsmodel). \n",
    "\n",
    "We expect the results to be similar to linear model "
   ]
  },
  {
   "cell_type": "code",
   "execution_count": 50,
   "id": "a0aeab58",
   "metadata": {},
   "outputs": [],
   "source": [
    "X_ols = sm.add_constant(X)"
   ]
  },
  {
   "cell_type": "code",
   "execution_count": 51,
   "id": "00944644",
   "metadata": {},
   "outputs": [
    {
     "data": {
      "text/html": [
       "<div>\n",
       "<style scoped>\n",
       "    .dataframe tbody tr th:only-of-type {\n",
       "        vertical-align: middle;\n",
       "    }\n",
       "\n",
       "    .dataframe tbody tr th {\n",
       "        vertical-align: top;\n",
       "    }\n",
       "\n",
       "    .dataframe thead th {\n",
       "        text-align: right;\n",
       "    }\n",
       "</style>\n",
       "<table border=\"1\" class=\"dataframe\">\n",
       "  <thead>\n",
       "    <tr style=\"text-align: right;\">\n",
       "      <th></th>\n",
       "      <th>const</th>\n",
       "      <th>Lights_E_Wh</th>\n",
       "      <th>T_Kitchen</th>\n",
       "      <th>H_Kitchen</th>\n",
       "      <th>T_Living</th>\n",
       "      <th>H_Living</th>\n",
       "      <th>T_Laundry</th>\n",
       "      <th>H_Laundry</th>\n",
       "      <th>T_Office</th>\n",
       "      <th>H_Office</th>\n",
       "      <th>...</th>\n",
       "      <th>T_Teenager</th>\n",
       "      <th>H_Teenager</th>\n",
       "      <th>T_Parents</th>\n",
       "      <th>H_Parents</th>\n",
       "      <th>T_out</th>\n",
       "      <th>Press_out</th>\n",
       "      <th>H_out</th>\n",
       "      <th>Windspeed</th>\n",
       "      <th>Visibility</th>\n",
       "      <th>Tdewpoint</th>\n",
       "    </tr>\n",
       "  </thead>\n",
       "  <tbody>\n",
       "    <tr>\n",
       "      <th>0</th>\n",
       "      <td>1.0</td>\n",
       "      <td>30</td>\n",
       "      <td>19.89</td>\n",
       "      <td>47.596667</td>\n",
       "      <td>19.2</td>\n",
       "      <td>44.790000</td>\n",
       "      <td>19.79</td>\n",
       "      <td>44.730000</td>\n",
       "      <td>19.000000</td>\n",
       "      <td>45.566667</td>\n",
       "      <td>...</td>\n",
       "      <td>18.2</td>\n",
       "      <td>48.900000</td>\n",
       "      <td>17.033333</td>\n",
       "      <td>45.53</td>\n",
       "      <td>6.600000</td>\n",
       "      <td>733.5</td>\n",
       "      <td>92.0</td>\n",
       "      <td>7.000000</td>\n",
       "      <td>63.000000</td>\n",
       "      <td>5.3</td>\n",
       "    </tr>\n",
       "    <tr>\n",
       "      <th>1</th>\n",
       "      <td>1.0</td>\n",
       "      <td>30</td>\n",
       "      <td>19.89</td>\n",
       "      <td>46.693333</td>\n",
       "      <td>19.2</td>\n",
       "      <td>44.722500</td>\n",
       "      <td>19.79</td>\n",
       "      <td>44.790000</td>\n",
       "      <td>19.000000</td>\n",
       "      <td>45.992500</td>\n",
       "      <td>...</td>\n",
       "      <td>18.2</td>\n",
       "      <td>48.863333</td>\n",
       "      <td>17.066667</td>\n",
       "      <td>45.56</td>\n",
       "      <td>6.483333</td>\n",
       "      <td>733.6</td>\n",
       "      <td>92.0</td>\n",
       "      <td>6.666667</td>\n",
       "      <td>59.166667</td>\n",
       "      <td>5.2</td>\n",
       "    </tr>\n",
       "    <tr>\n",
       "      <th>2</th>\n",
       "      <td>1.0</td>\n",
       "      <td>30</td>\n",
       "      <td>19.89</td>\n",
       "      <td>46.300000</td>\n",
       "      <td>19.2</td>\n",
       "      <td>44.626667</td>\n",
       "      <td>19.79</td>\n",
       "      <td>44.933333</td>\n",
       "      <td>18.926667</td>\n",
       "      <td>45.890000</td>\n",
       "      <td>...</td>\n",
       "      <td>18.2</td>\n",
       "      <td>48.730000</td>\n",
       "      <td>17.000000</td>\n",
       "      <td>45.50</td>\n",
       "      <td>6.366667</td>\n",
       "      <td>733.7</td>\n",
       "      <td>92.0</td>\n",
       "      <td>6.333333</td>\n",
       "      <td>55.333333</td>\n",
       "      <td>5.1</td>\n",
       "    </tr>\n",
       "    <tr>\n",
       "      <th>3</th>\n",
       "      <td>1.0</td>\n",
       "      <td>40</td>\n",
       "      <td>19.89</td>\n",
       "      <td>46.066667</td>\n",
       "      <td>19.2</td>\n",
       "      <td>44.590000</td>\n",
       "      <td>19.79</td>\n",
       "      <td>45.000000</td>\n",
       "      <td>18.890000</td>\n",
       "      <td>45.723333</td>\n",
       "      <td>...</td>\n",
       "      <td>18.1</td>\n",
       "      <td>48.590000</td>\n",
       "      <td>17.000000</td>\n",
       "      <td>45.40</td>\n",
       "      <td>6.250000</td>\n",
       "      <td>733.8</td>\n",
       "      <td>92.0</td>\n",
       "      <td>6.000000</td>\n",
       "      <td>51.500000</td>\n",
       "      <td>5.0</td>\n",
       "    </tr>\n",
       "    <tr>\n",
       "      <th>4</th>\n",
       "      <td>1.0</td>\n",
       "      <td>40</td>\n",
       "      <td>19.89</td>\n",
       "      <td>46.333333</td>\n",
       "      <td>19.2</td>\n",
       "      <td>44.530000</td>\n",
       "      <td>19.79</td>\n",
       "      <td>45.000000</td>\n",
       "      <td>18.890000</td>\n",
       "      <td>45.530000</td>\n",
       "      <td>...</td>\n",
       "      <td>18.1</td>\n",
       "      <td>48.590000</td>\n",
       "      <td>17.000000</td>\n",
       "      <td>45.40</td>\n",
       "      <td>6.133333</td>\n",
       "      <td>733.9</td>\n",
       "      <td>92.0</td>\n",
       "      <td>5.666667</td>\n",
       "      <td>47.666667</td>\n",
       "      <td>4.9</td>\n",
       "    </tr>\n",
       "  </tbody>\n",
       "</table>\n",
       "<p>5 rows × 26 columns</p>\n",
       "</div>"
      ],
      "text/plain": [
       "   const  Lights_E_Wh  T_Kitchen  H_Kitchen  T_Living   H_Living  T_Laundry  \\\n",
       "0    1.0           30      19.89  47.596667      19.2  44.790000      19.79   \n",
       "1    1.0           30      19.89  46.693333      19.2  44.722500      19.79   \n",
       "2    1.0           30      19.89  46.300000      19.2  44.626667      19.79   \n",
       "3    1.0           40      19.89  46.066667      19.2  44.590000      19.79   \n",
       "4    1.0           40      19.89  46.333333      19.2  44.530000      19.79   \n",
       "\n",
       "   H_Laundry   T_Office   H_Office  ...  T_Teenager  H_Teenager  T_Parents  \\\n",
       "0  44.730000  19.000000  45.566667  ...        18.2   48.900000  17.033333   \n",
       "1  44.790000  19.000000  45.992500  ...        18.2   48.863333  17.066667   \n",
       "2  44.933333  18.926667  45.890000  ...        18.2   48.730000  17.000000   \n",
       "3  45.000000  18.890000  45.723333  ...        18.1   48.590000  17.000000   \n",
       "4  45.000000  18.890000  45.530000  ...        18.1   48.590000  17.000000   \n",
       "\n",
       "   H_Parents     T_out  Press_out  H_out  Windspeed  Visibility  Tdewpoint  \n",
       "0      45.53  6.600000      733.5   92.0   7.000000   63.000000        5.3  \n",
       "1      45.56  6.483333      733.6   92.0   6.666667   59.166667        5.2  \n",
       "2      45.50  6.366667      733.7   92.0   6.333333   55.333333        5.1  \n",
       "3      45.40  6.250000      733.8   92.0   6.000000   51.500000        5.0  \n",
       "4      45.40  6.133333      733.9   92.0   5.666667   47.666667        4.9  \n",
       "\n",
       "[5 rows x 26 columns]"
      ]
     },
     "execution_count": 51,
     "metadata": {},
     "output_type": "execute_result"
    }
   ],
   "source": [
    "X_ols.head()"
   ]
  },
  {
   "cell_type": "code",
   "execution_count": 52,
   "id": "822103c0",
   "metadata": {},
   "outputs": [],
   "source": [
    "X_train_ols, X_test_ols, y_train_ols, y_test_ols = train_test_split(X_ols, y, test_size = 0.30, random_state = 42)"
   ]
  },
  {
   "cell_type": "code",
   "execution_count": 53,
   "id": "db7e13ce",
   "metadata": {},
   "outputs": [],
   "source": [
    "olsModel = sm.OLS(y_train, X_train_ols)"
   ]
  },
  {
   "cell_type": "code",
   "execution_count": 54,
   "id": "3e993ab3",
   "metadata": {},
   "outputs": [],
   "source": [
    "olsResults = olsModel.fit()   "
   ]
  },
  {
   "cell_type": "code",
   "execution_count": 55,
   "id": "97318957",
   "metadata": {},
   "outputs": [
    {
     "data": {
      "text/html": [
       "<table class=\"simpletable\">\n",
       "<caption>OLS Regression Results</caption>\n",
       "<tr>\n",
       "  <th>Dep. Variable:</th>     <td>Appliances_E_Wh</td> <th>  R-squared:         </th> <td>   0.271</td> \n",
       "</tr>\n",
       "<tr>\n",
       "  <th>Model:</th>                   <td>OLS</td>       <th>  Adj. R-squared:    </th> <td>   0.270</td> \n",
       "</tr>\n",
       "<tr>\n",
       "  <th>Method:</th>             <td>Least Squares</td>  <th>  F-statistic:       </th> <td>   205.3</td> \n",
       "</tr>\n",
       "<tr>\n",
       "  <th>Date:</th>             <td>Sat, 07 May 2022</td> <th>  Prob (F-statistic):</th>  <td>  0.00</td>  \n",
       "</tr>\n",
       "<tr>\n",
       "  <th>Time:</th>                 <td>10:23:39</td>     <th>  Log-Likelihood:    </th> <td> -11558.</td> \n",
       "</tr>\n",
       "<tr>\n",
       "  <th>No. Observations:</th>      <td> 13814</td>      <th>  AIC:               </th> <td>2.317e+04</td>\n",
       "</tr>\n",
       "<tr>\n",
       "  <th>Df Residuals:</th>          <td> 13788</td>      <th>  BIC:               </th> <td>2.336e+04</td>\n",
       "</tr>\n",
       "<tr>\n",
       "  <th>Df Model:</th>              <td>    25</td>      <th>                     </th>     <td> </td>    \n",
       "</tr>\n",
       "<tr>\n",
       "  <th>Covariance Type:</th>      <td>nonrobust</td>    <th>                     </th>     <td> </td>    \n",
       "</tr>\n",
       "</table>\n",
       "<table class=\"simpletable\">\n",
       "<tr>\n",
       "          <td></td>             <th>coef</th>     <th>std err</th>      <th>t</th>      <th>P>|t|</th>  <th>[0.025</th>    <th>0.975]</th>  \n",
       "</tr>\n",
       "<tr>\n",
       "  <th>const</th>             <td>    4.4542</td> <td>    0.679</td> <td>    6.565</td> <td> 0.000</td> <td>    3.124</td> <td>    5.784</td>\n",
       "</tr>\n",
       "<tr>\n",
       "  <th>Lights_E_Wh</th>       <td>    0.0164</td> <td>    0.001</td> <td>   24.190</td> <td> 0.000</td> <td>    0.015</td> <td>    0.018</td>\n",
       "</tr>\n",
       "<tr>\n",
       "  <th>T_Kitchen</th>         <td>    0.0166</td> <td>    0.013</td> <td>    1.257</td> <td> 0.209</td> <td>   -0.009</td> <td>    0.043</td>\n",
       "</tr>\n",
       "<tr>\n",
       "  <th>H_Kitchen</th>         <td>    0.1087</td> <td>    0.005</td> <td>   22.468</td> <td> 0.000</td> <td>    0.099</td> <td>    0.118</td>\n",
       "</tr>\n",
       "<tr>\n",
       "  <th>T_Living</th>          <td>   -0.0971</td> <td>    0.012</td> <td>   -8.308</td> <td> 0.000</td> <td>   -0.120</td> <td>   -0.074</td>\n",
       "</tr>\n",
       "<tr>\n",
       "  <th>H_Living</th>          <td>   -0.0825</td> <td>    0.005</td> <td>  -15.031</td> <td> 0.000</td> <td>   -0.093</td> <td>   -0.072</td>\n",
       "</tr>\n",
       "<tr>\n",
       "  <th>T_Laundry</th>         <td>    0.1531</td> <td>    0.008</td> <td>   20.291</td> <td> 0.000</td> <td>    0.138</td> <td>    0.168</td>\n",
       "</tr>\n",
       "<tr>\n",
       "  <th>H_Laundry</th>         <td>    0.0250</td> <td>    0.005</td> <td>    5.183</td> <td> 0.000</td> <td>    0.016</td> <td>    0.035</td>\n",
       "</tr>\n",
       "<tr>\n",
       "  <th>T_Office</th>          <td>   -0.0227</td> <td>    0.007</td> <td>   -3.087</td> <td> 0.002</td> <td>   -0.037</td> <td>   -0.008</td>\n",
       "</tr>\n",
       "<tr>\n",
       "  <th>H_Office</th>          <td>   -0.0037</td> <td>    0.005</td> <td>   -0.828</td> <td> 0.408</td> <td>   -0.013</td> <td>    0.005</td>\n",
       "</tr>\n",
       "<tr>\n",
       "  <th>T_Bathroom</th>        <td>    0.0040</td> <td>    0.008</td> <td>    0.475</td> <td> 0.634</td> <td>   -0.012</td> <td>    0.020</td>\n",
       "</tr>\n",
       "<tr>\n",
       "  <th>H_Bathroom</th>        <td>    0.0030</td> <td>    0.001</td> <td>    4.792</td> <td> 0.000</td> <td>    0.002</td> <td>    0.004</td>\n",
       "</tr>\n",
       "<tr>\n",
       "  <th>T_Building_out_NS</th> <td>    0.0525</td> <td>    0.005</td> <td>   11.552</td> <td> 0.000</td> <td>    0.044</td> <td>    0.061</td>\n",
       "</tr>\n",
       "<tr>\n",
       "  <th>H_Building_out_NS</th> <td>    0.0028</td> <td>    0.000</td> <td>    5.744</td> <td> 0.000</td> <td>    0.002</td> <td>    0.004</td>\n",
       "</tr>\n",
       "<tr>\n",
       "  <th>T_Ironning</th>        <td>   -0.0250</td> <td>    0.009</td> <td>   -2.666</td> <td> 0.008</td> <td>   -0.043</td> <td>   -0.007</td>\n",
       "</tr>\n",
       "<tr>\n",
       "  <th>H_Ironing</th>         <td>   -0.0056</td> <td>    0.003</td> <td>   -1.832</td> <td> 0.067</td> <td>   -0.012</td> <td>    0.000</td>\n",
       "</tr>\n",
       "<tr>\n",
       "  <th>T_Teenager</th>        <td>    0.1007</td> <td>    0.007</td> <td>   14.473</td> <td> 0.000</td> <td>    0.087</td> <td>    0.114</td>\n",
       "</tr>\n",
       "<tr>\n",
       "  <th>H_Teenager</th>        <td>   -0.0451</td> <td>    0.003</td> <td>  -16.999</td> <td> 0.000</td> <td>   -0.050</td> <td>   -0.040</td>\n",
       "</tr>\n",
       "<tr>\n",
       "  <th>T_Parents</th>         <td>   -0.1096</td> <td>    0.013</td> <td>   -8.733</td> <td> 0.000</td> <td>   -0.134</td> <td>   -0.085</td>\n",
       "</tr>\n",
       "<tr>\n",
       "  <th>H_Parents</th>         <td>   -0.0133</td> <td>    0.003</td> <td>   -4.570</td> <td> 0.000</td> <td>   -0.019</td> <td>   -0.008</td>\n",
       "</tr>\n",
       "<tr>\n",
       "  <th>T_out</th>             <td>   -0.0753</td> <td>    0.011</td> <td>   -6.888</td> <td> 0.000</td> <td>   -0.097</td> <td>   -0.054</td>\n",
       "</tr>\n",
       "<tr>\n",
       "  <th>Press_out</th>         <td>   -0.0001</td> <td>    0.001</td> <td>   -0.135</td> <td> 0.892</td> <td>   -0.002</td> <td>    0.001</td>\n",
       "</tr>\n",
       "<tr>\n",
       "  <th>H_out</th>             <td>   -0.0089</td> <td>    0.002</td> <td>   -3.932</td> <td> 0.000</td> <td>   -0.013</td> <td>   -0.004</td>\n",
       "</tr>\n",
       "<tr>\n",
       "  <th>Windspeed</th>         <td>    0.0143</td> <td>    0.002</td> <td>    5.791</td> <td> 0.000</td> <td>    0.009</td> <td>    0.019</td>\n",
       "</tr>\n",
       "<tr>\n",
       "  <th>Visibility</th>        <td>    0.0010</td> <td>    0.000</td> <td>    2.403</td> <td> 0.016</td> <td>    0.000</td> <td>    0.002</td>\n",
       "</tr>\n",
       "<tr>\n",
       "  <th>Tdewpoint</th>         <td>    0.0420</td> <td>    0.011</td> <td>    3.959</td> <td> 0.000</td> <td>    0.021</td> <td>    0.063</td>\n",
       "</tr>\n",
       "</table>\n",
       "<table class=\"simpletable\">\n",
       "<tr>\n",
       "  <th>Omnibus:</th>       <td>3248.039</td> <th>  Durbin-Watson:     </th> <td>   2.027</td>\n",
       "</tr>\n",
       "<tr>\n",
       "  <th>Prob(Omnibus):</th>  <td> 0.000</td>  <th>  Jarque-Bera (JB):  </th> <td>8046.581</td>\n",
       "</tr>\n",
       "<tr>\n",
       "  <th>Skew:</th>           <td> 1.294</td>  <th>  Prob(JB):          </th> <td>    0.00</td>\n",
       "</tr>\n",
       "<tr>\n",
       "  <th>Kurtosis:</th>       <td> 5.699</td>  <th>  Cond. No.          </th> <td>1.10e+05</td>\n",
       "</tr>\n",
       "</table><br/><br/>Notes:<br/>[1] Standard Errors assume that the covariance matrix of the errors is correctly specified.<br/>[2] The condition number is large, 1.1e+05. This might indicate that there are<br/>strong multicollinearity or other numerical problems."
      ],
      "text/plain": [
       "<class 'statsmodels.iolib.summary.Summary'>\n",
       "\"\"\"\n",
       "                            OLS Regression Results                            \n",
       "==============================================================================\n",
       "Dep. Variable:        Appliances_E_Wh   R-squared:                       0.271\n",
       "Model:                            OLS   Adj. R-squared:                  0.270\n",
       "Method:                 Least Squares   F-statistic:                     205.3\n",
       "Date:                Sat, 07 May 2022   Prob (F-statistic):               0.00\n",
       "Time:                        10:23:39   Log-Likelihood:                -11558.\n",
       "No. Observations:               13814   AIC:                         2.317e+04\n",
       "Df Residuals:                   13788   BIC:                         2.336e+04\n",
       "Df Model:                          25                                         \n",
       "Covariance Type:            nonrobust                                         \n",
       "=====================================================================================\n",
       "                        coef    std err          t      P>|t|      [0.025      0.975]\n",
       "-------------------------------------------------------------------------------------\n",
       "const                 4.4542      0.679      6.565      0.000       3.124       5.784\n",
       "Lights_E_Wh           0.0164      0.001     24.190      0.000       0.015       0.018\n",
       "T_Kitchen             0.0166      0.013      1.257      0.209      -0.009       0.043\n",
       "H_Kitchen             0.1087      0.005     22.468      0.000       0.099       0.118\n",
       "T_Living             -0.0971      0.012     -8.308      0.000      -0.120      -0.074\n",
       "H_Living             -0.0825      0.005    -15.031      0.000      -0.093      -0.072\n",
       "T_Laundry             0.1531      0.008     20.291      0.000       0.138       0.168\n",
       "H_Laundry             0.0250      0.005      5.183      0.000       0.016       0.035\n",
       "T_Office             -0.0227      0.007     -3.087      0.002      -0.037      -0.008\n",
       "H_Office             -0.0037      0.005     -0.828      0.408      -0.013       0.005\n",
       "T_Bathroom            0.0040      0.008      0.475      0.634      -0.012       0.020\n",
       "H_Bathroom            0.0030      0.001      4.792      0.000       0.002       0.004\n",
       "T_Building_out_NS     0.0525      0.005     11.552      0.000       0.044       0.061\n",
       "H_Building_out_NS     0.0028      0.000      5.744      0.000       0.002       0.004\n",
       "T_Ironning           -0.0250      0.009     -2.666      0.008      -0.043      -0.007\n",
       "H_Ironing            -0.0056      0.003     -1.832      0.067      -0.012       0.000\n",
       "T_Teenager            0.1007      0.007     14.473      0.000       0.087       0.114\n",
       "H_Teenager           -0.0451      0.003    -16.999      0.000      -0.050      -0.040\n",
       "T_Parents            -0.1096      0.013     -8.733      0.000      -0.134      -0.085\n",
       "H_Parents            -0.0133      0.003     -4.570      0.000      -0.019      -0.008\n",
       "T_out                -0.0753      0.011     -6.888      0.000      -0.097      -0.054\n",
       "Press_out            -0.0001      0.001     -0.135      0.892      -0.002       0.001\n",
       "H_out                -0.0089      0.002     -3.932      0.000      -0.013      -0.004\n",
       "Windspeed             0.0143      0.002      5.791      0.000       0.009       0.019\n",
       "Visibility            0.0010      0.000      2.403      0.016       0.000       0.002\n",
       "Tdewpoint             0.0420      0.011      3.959      0.000       0.021       0.063\n",
       "==============================================================================\n",
       "Omnibus:                     3248.039   Durbin-Watson:                   2.027\n",
       "Prob(Omnibus):                  0.000   Jarque-Bera (JB):             8046.581\n",
       "Skew:                           1.294   Prob(JB):                         0.00\n",
       "Kurtosis:                       5.699   Cond. No.                     1.10e+05\n",
       "==============================================================================\n",
       "\n",
       "Notes:\n",
       "[1] Standard Errors assume that the covariance matrix of the errors is correctly specified.\n",
       "[2] The condition number is large, 1.1e+05. This might indicate that there are\n",
       "strong multicollinearity or other numerical problems.\n",
       "\"\"\""
      ]
     },
     "execution_count": 55,
     "metadata": {},
     "output_type": "execute_result"
    }
   ],
   "source": [
    "olsResults.summary()    "
   ]
  },
  {
   "cell_type": "code",
   "execution_count": 56,
   "id": "22278596",
   "metadata": {},
   "outputs": [],
   "source": [
    "# Make predictions using the model on both train and test splits\n",
    "y_train_pred_ols = olsResults.predict(X_train_ols)\n",
    "y_test_pred_ols = olsResults.predict(X_test_ols)"
   ]
  },
  {
   "cell_type": "code",
   "execution_count": 57,
   "id": "a427b9aa",
   "metadata": {},
   "outputs": [
    {
     "data": {
      "text/plain": [
       "(0.27122441785249796, 0.28012300902707943)"
      ]
     },
     "execution_count": 57,
     "metadata": {},
     "output_type": "execute_result"
    }
   ],
   "source": [
    "#  Assess model performance\n",
    "r2_score(y_train_ols, y_train_pred_ols), r2_score(y_test_ols, y_test_pred_ols)"
   ]
  },
  {
   "cell_type": "markdown",
   "id": "c56404a4",
   "metadata": {},
   "source": [
    "#### We get the exact same results we got from the linear model "
   ]
  },
  {
   "cell_type": "code",
   "execution_count": 58,
   "id": "a727cb72",
   "metadata": {},
   "outputs": [
    {
     "data": {
      "text/plain": [
       "(0.3120696604652725, 0.3917627957241821)"
      ]
     },
     "execution_count": 58,
     "metadata": {},
     "output_type": "execute_result"
    }
   ],
   "source": [
    "mean_squared_error(y_train_ols, y_train_pred_ols), mean_absolute_error(y_train_ols, y_train_pred_ols)"
   ]
  },
  {
   "cell_type": "code",
   "execution_count": 59,
   "id": "c0fbbc51",
   "metadata": {},
   "outputs": [
    {
     "data": {
      "text/plain": [
       "(0.31427017721728817, 0.39539553283121337)"
      ]
     },
     "execution_count": 59,
     "metadata": {},
     "output_type": "execute_result"
    }
   ],
   "source": [
    "mean_squared_error(y_test_ols, y_test_pred_ols), mean_absolute_error(y_test_ols, y_test_pred_ols)"
   ]
  },
  {
   "cell_type": "code",
   "execution_count": 60,
   "id": "ccf4af3b",
   "metadata": {},
   "outputs": [
    {
     "data": {
      "image/png": "[encoded data removed]",
      "text/plain": [
       "<Figure size 432x288 with 1 Axes>"
      ]
     },
     "metadata": {
      "needs_background": "light"
     },
     "output_type": "display_data"
    }
   ],
   "source": [
    "plt.scatter(y_test_ols,y_test_pred_ols)\n",
    "plt.title(\"OLS predictions vs. the actual values\")\n",
    "plt.xlabel('Actual  E Wh')\n",
    "plt.ylabel('Predicted E Wh');"
   ]
  },
  {
   "cell_type": "code",
   "execution_count": 61,
   "id": "ec3f0607",
   "metadata": {},
   "outputs": [
    {
     "data": {
      "text/plain": [
       "0.08983428057623864"
      ]
     },
     "execution_count": 61,
     "metadata": {},
     "output_type": "execute_result"
    }
   ],
   "source": [
    "mean_absolute_percentage_error(y_test_ols, y_test_pred_ols)"
   ]
  },
  {
   "cell_type": "markdown",
   "id": "f78b6bea",
   "metadata": {},
   "source": [
    "### 3) OLS Removing the variables with large p_values"
   ]
  },
  {
   "cell_type": "code",
   "execution_count": 62,
   "id": "715ff016",
   "metadata": {},
   "outputs": [],
   "source": [
    "X_ols2 = df.drop([\"Appliances_E_Wh\", \"date\", \"T_Kitchen\", \"H_Office\", \"T_Bathroom\", \"Press_out\"],axis=1)  # Removing the variables with large p_values"
   ]
  },
  {
   "cell_type": "code",
   "execution_count": 63,
   "id": "7c20be19",
   "metadata": {},
   "outputs": [],
   "source": [
    "X_ols2 = sm.add_constant(X_ols2)"
   ]
  },
  {
   "cell_type": "code",
   "execution_count": 64,
   "id": "b0c0c629",
   "metadata": {},
   "outputs": [],
   "source": [
    "X_train_ols2, X_test_ols2, y_train_ols2, y_test_ols2 = train_test_split(X_ols2, y, test_size = 0.30, random_state = 42)"
   ]
  },
  {
   "cell_type": "code",
   "execution_count": 65,
   "id": "380dee7a",
   "metadata": {},
   "outputs": [],
   "source": [
    "olsModel2 = sm.OLS(y_train_ols2, X_train_ols2)"
   ]
  },
  {
   "cell_type": "code",
   "execution_count": 66,
   "id": "6dea358c",
   "metadata": {},
   "outputs": [],
   "source": [
    "olsResults2 = olsModel2.fit()   "
   ]
  },
  {
   "cell_type": "code",
   "execution_count": 67,
   "id": "9de9f5c5",
   "metadata": {},
   "outputs": [
    {
     "data": {
      "text/html": [
       "<table class=\"simpletable\">\n",
       "<caption>OLS Regression Results</caption>\n",
       "<tr>\n",
       "  <th>Dep. Variable:</th>     <td>Appliances_E_Wh</td> <th>  R-squared:         </th> <td>   0.271</td> \n",
       "</tr>\n",
       "<tr>\n",
       "  <th>Model:</th>                   <td>OLS</td>       <th>  Adj. R-squared:    </th> <td>   0.270</td> \n",
       "</tr>\n",
       "<tr>\n",
       "  <th>Method:</th>             <td>Least Squares</td>  <th>  F-statistic:       </th> <td>   244.3</td> \n",
       "</tr>\n",
       "<tr>\n",
       "  <th>Date:</th>             <td>Sat, 07 May 2022</td> <th>  Prob (F-statistic):</th>  <td>  0.00</td>  \n",
       "</tr>\n",
       "<tr>\n",
       "  <th>Time:</th>                 <td>10:23:40</td>     <th>  Log-Likelihood:    </th> <td> -11559.</td> \n",
       "</tr>\n",
       "<tr>\n",
       "  <th>No. Observations:</th>      <td> 13814</td>      <th>  AIC:               </th> <td>2.316e+04</td>\n",
       "</tr>\n",
       "<tr>\n",
       "  <th>Df Residuals:</th>          <td> 13792</td>      <th>  BIC:               </th> <td>2.333e+04</td>\n",
       "</tr>\n",
       "<tr>\n",
       "  <th>Df Model:</th>              <td>    21</td>      <th>                     </th>     <td> </td>    \n",
       "</tr>\n",
       "<tr>\n",
       "  <th>Covariance Type:</th>      <td>nonrobust</td>    <th>                     </th>     <td> </td>    \n",
       "</tr>\n",
       "</table>\n",
       "<table class=\"simpletable\">\n",
       "<tr>\n",
       "          <td></td>             <th>coef</th>     <th>std err</th>      <th>t</th>      <th>P>|t|</th>  <th>[0.025</th>    <th>0.975]</th>  \n",
       "</tr>\n",
       "<tr>\n",
       "  <th>const</th>             <td>    4.3379</td> <td>    0.249</td> <td>   17.398</td> <td> 0.000</td> <td>    3.849</td> <td>    4.827</td>\n",
       "</tr>\n",
       "<tr>\n",
       "  <th>Lights_E_Wh</th>       <td>    0.0163</td> <td>    0.001</td> <td>   24.434</td> <td> 0.000</td> <td>    0.015</td> <td>    0.018</td>\n",
       "</tr>\n",
       "<tr>\n",
       "  <th>H_Kitchen</th>         <td>    0.1053</td> <td>    0.004</td> <td>   24.982</td> <td> 0.000</td> <td>    0.097</td> <td>    0.114</td>\n",
       "</tr>\n",
       "<tr>\n",
       "  <th>T_Living</th>          <td>   -0.0892</td> <td>    0.008</td> <td>  -10.960</td> <td> 0.000</td> <td>   -0.105</td> <td>   -0.073</td>\n",
       "</tr>\n",
       "<tr>\n",
       "  <th>H_Living</th>          <td>   -0.0801</td> <td>    0.005</td> <td>  -17.246</td> <td> 0.000</td> <td>   -0.089</td> <td>   -0.071</td>\n",
       "</tr>\n",
       "<tr>\n",
       "  <th>T_Laundry</th>         <td>    0.1580</td> <td>    0.007</td> <td>   23.237</td> <td> 0.000</td> <td>    0.145</td> <td>    0.171</td>\n",
       "</tr>\n",
       "<tr>\n",
       "  <th>H_Laundry</th>         <td>    0.0241</td> <td>    0.005</td> <td>    5.101</td> <td> 0.000</td> <td>    0.015</td> <td>    0.033</td>\n",
       "</tr>\n",
       "<tr>\n",
       "  <th>T_Office</th>          <td>   -0.0189</td> <td>    0.007</td> <td>   -2.817</td> <td> 0.005</td> <td>   -0.032</td> <td>   -0.006</td>\n",
       "</tr>\n",
       "<tr>\n",
       "  <th>H_Bathroom</th>        <td>    0.0030</td> <td>    0.001</td> <td>    5.041</td> <td> 0.000</td> <td>    0.002</td> <td>    0.004</td>\n",
       "</tr>\n",
       "<tr>\n",
       "  <th>T_Building_out_NS</th> <td>    0.0506</td> <td>    0.004</td> <td>   11.743</td> <td> 0.000</td> <td>    0.042</td> <td>    0.059</td>\n",
       "</tr>\n",
       "<tr>\n",
       "  <th>H_Building_out_NS</th> <td>    0.0028</td> <td>    0.000</td> <td>    5.882</td> <td> 0.000</td> <td>    0.002</td> <td>    0.004</td>\n",
       "</tr>\n",
       "<tr>\n",
       "  <th>T_Ironning</th>        <td>   -0.0235</td> <td>    0.009</td> <td>   -2.542</td> <td> 0.011</td> <td>   -0.042</td> <td>   -0.005</td>\n",
       "</tr>\n",
       "<tr>\n",
       "  <th>H_Ironing</th>         <td>   -0.0060</td> <td>    0.003</td> <td>   -2.052</td> <td> 0.040</td> <td>   -0.012</td> <td>   -0.000</td>\n",
       "</tr>\n",
       "<tr>\n",
       "  <th>T_Teenager</th>        <td>    0.1039</td> <td>    0.006</td> <td>   16.171</td> <td> 0.000</td> <td>    0.091</td> <td>    0.116</td>\n",
       "</tr>\n",
       "<tr>\n",
       "  <th>H_Teenager</th>        <td>   -0.0455</td> <td>    0.003</td> <td>  -17.256</td> <td> 0.000</td> <td>   -0.051</td> <td>   -0.040</td>\n",
       "</tr>\n",
       "<tr>\n",
       "  <th>T_Parents</th>         <td>   -0.1103</td> <td>    0.011</td> <td>   -9.726</td> <td> 0.000</td> <td>   -0.133</td> <td>   -0.088</td>\n",
       "</tr>\n",
       "<tr>\n",
       "  <th>H_Parents</th>         <td>   -0.0141</td> <td>    0.003</td> <td>   -5.060</td> <td> 0.000</td> <td>   -0.020</td> <td>   -0.009</td>\n",
       "</tr>\n",
       "<tr>\n",
       "  <th>T_out</th>             <td>   -0.0723</td> <td>    0.011</td> <td>   -6.768</td> <td> 0.000</td> <td>   -0.093</td> <td>   -0.051</td>\n",
       "</tr>\n",
       "<tr>\n",
       "  <th>H_out</th>             <td>   -0.0085</td> <td>    0.002</td> <td>   -3.812</td> <td> 0.000</td> <td>   -0.013</td> <td>   -0.004</td>\n",
       "</tr>\n",
       "<tr>\n",
       "  <th>Windspeed</th>         <td>    0.0145</td> <td>    0.002</td> <td>    6.173</td> <td> 0.000</td> <td>    0.010</td> <td>    0.019</td>\n",
       "</tr>\n",
       "<tr>\n",
       "  <th>Visibility</th>        <td>    0.0010</td> <td>    0.000</td> <td>    2.459</td> <td> 0.014</td> <td>    0.000</td> <td>    0.002</td>\n",
       "</tr>\n",
       "<tr>\n",
       "  <th>Tdewpoint</th>         <td>    0.0399</td> <td>    0.010</td> <td>    3.832</td> <td> 0.000</td> <td>    0.019</td> <td>    0.060</td>\n",
       "</tr>\n",
       "</table>\n",
       "<table class=\"simpletable\">\n",
       "<tr>\n",
       "  <th>Omnibus:</th>       <td>3237.743</td> <th>  Durbin-Watson:     </th> <td>   2.027</td>\n",
       "</tr>\n",
       "<tr>\n",
       "  <th>Prob(Omnibus):</th>  <td> 0.000</td>  <th>  Jarque-Bera (JB):  </th> <td>7994.004</td>\n",
       "</tr>\n",
       "<tr>\n",
       "  <th>Skew:</th>           <td> 1.291</td>  <th>  Prob(JB):          </th> <td>    0.00</td>\n",
       "</tr>\n",
       "<tr>\n",
       "  <th>Kurtosis:</th>       <td> 5.687</td>  <th>  Cond. No.          </th> <td>8.51e+03</td>\n",
       "</tr>\n",
       "</table><br/><br/>Notes:<br/>[1] Standard Errors assume that the covariance matrix of the errors is correctly specified.<br/>[2] The condition number is large, 8.51e+03. This might indicate that there are<br/>strong multicollinearity or other numerical problems."
      ],
      "text/plain": [
       "<class 'statsmodels.iolib.summary.Summary'>\n",
       "\"\"\"\n",
       "                            OLS Regression Results                            \n",
       "==============================================================================\n",
       "Dep. Variable:        Appliances_E_Wh   R-squared:                       0.271\n",
       "Model:                            OLS   Adj. R-squared:                  0.270\n",
       "Method:                 Least Squares   F-statistic:                     244.3\n",
       "Date:                Sat, 07 May 2022   Prob (F-statistic):               0.00\n",
       "Time:                        10:23:40   Log-Likelihood:                -11559.\n",
       "No. Observations:               13814   AIC:                         2.316e+04\n",
       "Df Residuals:                   13792   BIC:                         2.333e+04\n",
       "Df Model:                          21                                         \n",
       "Covariance Type:            nonrobust                                         \n",
       "=====================================================================================\n",
       "                        coef    std err          t      P>|t|      [0.025      0.975]\n",
       "-------------------------------------------------------------------------------------\n",
       "const                 4.3379      0.249     17.398      0.000       3.849       4.827\n",
       "Lights_E_Wh           0.0163      0.001     24.434      0.000       0.015       0.018\n",
       "H_Kitchen             0.1053      0.004     24.982      0.000       0.097       0.114\n",
       "T_Living             -0.0892      0.008    -10.960      0.000      -0.105      -0.073\n",
       "H_Living             -0.0801      0.005    -17.246      0.000      -0.089      -0.071\n",
       "T_Laundry             0.1580      0.007     23.237      0.000       0.145       0.171\n",
       "H_Laundry             0.0241      0.005      5.101      0.000       0.015       0.033\n",
       "T_Office             -0.0189      0.007     -2.817      0.005      -0.032      -0.006\n",
       "H_Bathroom            0.0030      0.001      5.041      0.000       0.002       0.004\n",
       "T_Building_out_NS     0.0506      0.004     11.743      0.000       0.042       0.059\n",
       "H_Building_out_NS     0.0028      0.000      5.882      0.000       0.002       0.004\n",
       "T_Ironning           -0.0235      0.009     -2.542      0.011      -0.042      -0.005\n",
       "H_Ironing            -0.0060      0.003     -2.052      0.040      -0.012      -0.000\n",
       "T_Teenager            0.1039      0.006     16.171      0.000       0.091       0.116\n",
       "H_Teenager           -0.0455      0.003    -17.256      0.000      -0.051      -0.040\n",
       "T_Parents            -0.1103      0.011     -9.726      0.000      -0.133      -0.088\n",
       "H_Parents            -0.0141      0.003     -5.060      0.000      -0.020      -0.009\n",
       "T_out                -0.0723      0.011     -6.768      0.000      -0.093      -0.051\n",
       "H_out                -0.0085      0.002     -3.812      0.000      -0.013      -0.004\n",
       "Windspeed             0.0145      0.002      6.173      0.000       0.010       0.019\n",
       "Visibility            0.0010      0.000      2.459      0.014       0.000       0.002\n",
       "Tdewpoint             0.0399      0.010      3.832      0.000       0.019       0.060\n",
       "==============================================================================\n",
       "Omnibus:                     3237.743   Durbin-Watson:                   2.027\n",
       "Prob(Omnibus):                  0.000   Jarque-Bera (JB):             7994.004\n",
       "Skew:                           1.291   Prob(JB):                         0.00\n",
       "Kurtosis:                       5.687   Cond. No.                     8.51e+03\n",
       "==============================================================================\n",
       "\n",
       "Notes:\n",
       "[1] Standard Errors assume that the covariance matrix of the errors is correctly specified.\n",
       "[2] The condition number is large, 8.51e+03. This might indicate that there are\n",
       "strong multicollinearity or other numerical problems.\n",
       "\"\"\""
      ]
     },
     "execution_count": 67,
     "metadata": {},
     "output_type": "execute_result"
    }
   ],
   "source": [
    "olsResults2.summary()    "
   ]
  },
  {
   "cell_type": "markdown",
   "id": "41dd9d39",
   "metadata": {},
   "source": [
    "##### No improvement was observed. Smaller Cond. No was obtained. \n"
   ]
  },
  {
   "cell_type": "code",
   "execution_count": 68,
   "id": "5563651e",
   "metadata": {},
   "outputs": [],
   "source": [
    "# Make predictions using the model on both train and test splits\n",
    "y_train_pred_ols2 = olsResults2.predict(X_train_ols2)\n",
    "y_test_pred_ols2 = olsResults2.predict(X_test_ols2)"
   ]
  },
  {
   "cell_type": "code",
   "execution_count": 69,
   "id": "183f4c51",
   "metadata": {},
   "outputs": [
    {
     "data": {
      "text/plain": [
       "(0.2710894226396282, 0.2801303117797105)"
      ]
     },
     "execution_count": 69,
     "metadata": {},
     "output_type": "execute_result"
    }
   ],
   "source": [
    "#  Assess model performance\n",
    "r2_score(y_train_ols2, y_train_pred_ols2), r2_score(y_test_ols2, y_test_pred_ols2)"
   ]
  },
  {
   "cell_type": "code",
   "execution_count": 70,
   "id": "6d27d6a9",
   "metadata": {},
   "outputs": [
    {
     "data": {
      "text/plain": [
       "(0.3121274668891932, 0.39208236813631736)"
      ]
     },
     "execution_count": 70,
     "metadata": {},
     "output_type": "execute_result"
    }
   ],
   "source": [
    "mean_squared_error(y_train_ols2, y_train_pred_ols2), mean_absolute_error(y_train_ols2, y_train_pred_ols2)"
   ]
  },
  {
   "cell_type": "code",
   "execution_count": 71,
   "id": "6cdb250c",
   "metadata": {},
   "outputs": [
    {
     "data": {
      "text/plain": [
       "(0.3142669891207212, 0.3955430728551369)"
      ]
     },
     "execution_count": 71,
     "metadata": {},
     "output_type": "execute_result"
    }
   ],
   "source": [
    "mean_squared_error(y_test_ols2, y_test_pred_ols2), mean_absolute_error(y_test_ols2, y_test_pred_ols2)"
   ]
  },
  {
   "cell_type": "code",
   "execution_count": 72,
   "id": "bdd64dc3",
   "metadata": {},
   "outputs": [
    {
     "data": {
      "image/png": "[encoded data removed]",
      "text/plain": [
       "<Figure size 432x288 with 1 Axes>"
      ]
     },
     "metadata": {
      "needs_background": "light"
     },
     "output_type": "display_data"
    }
   ],
   "source": [
    "plt.scatter(y_test_ols2,y_test_pred_ols2)\n",
    "plt.title(\"OLS 2 predictions vs. the actual values\")\n",
    "plt.xlabel('Actual  E Wh')\n",
    "plt.ylabel('Predicted E Wh');"
   ]
  },
  {
   "cell_type": "code",
   "execution_count": 73,
   "id": "cb1a6481",
   "metadata": {},
   "outputs": [
    {
     "data": {
      "text/plain": [
       "0.08988183242063194"
      ]
     },
     "execution_count": 73,
     "metadata": {},
     "output_type": "execute_result"
    }
   ],
   "source": [
    "mean_absolute_percentage_error(y_test_ols2, y_test_pred_ols2)"
   ]
  },
  {
   "cell_type": "markdown",
   "id": "4a5bc860",
   "metadata": {},
   "source": [
    "### Investigating the optimum number of features using the Linear model"
   ]
  },
  {
   "cell_type": "markdown",
   "id": "344d88f1",
   "metadata": {},
   "source": [
    "#### Define the pipeline"
   ]
  },
  {
   "cell_type": "code",
   "execution_count": 74,
   "id": "34d2b85a",
   "metadata": {},
   "outputs": [],
   "source": [
    "lm_pipe = make_pipeline(StandardScaler(), SelectKBest(f_regression), \n",
    "    LinearRegression())   # We will look into the number of features and how the k value affect the R2"
   ]
  },
  {
   "cell_type": "markdown",
   "id": "bd6452a3",
   "metadata": {},
   "source": [
    "###### Looking at how number of features will affect R2 score using the linear model "
   ]
  },
  {
   "cell_type": "code",
   "execution_count": 75,
   "id": "75be156e",
   "metadata": {},
   "outputs": [],
   "source": [
    "lm_r2_scores={}\n",
    "for k in range(1,26):\n",
    "    lm_pipe = make_pipeline(StandardScaler(), SelectKBest(f_regression, k = k), \n",
    "    LinearRegression()) \n",
    "    lm_pipe.fit(X_train, y_train)\n",
    "    y_te_pred =lm_pipe.predict(X_test)\n",
    "    lm_r2_scores[k]= r2_score(y_test, y_te_pred)"
   ]
  },
  {
   "cell_type": "code",
   "execution_count": 76,
   "id": "203ae12a",
   "metadata": {
    "scrolled": false
   },
   "outputs": [
    {
     "data": {
      "text/plain": [
       "{1: 0.0687883074984117,\n",
       " 2: 0.1289511403284258,\n",
       " 3: 0.13952661149957346,\n",
       " 4: 0.14021476546706968,\n",
       " 5: 0.14982899771482827,\n",
       " 6: 0.1493231896307784,\n",
       " 7: 0.16585274202169153,\n",
       " 8: 0.1826907916714623,\n",
       " 9: 0.1881405953249019,\n",
       " 10: 0.1916816738660314,\n",
       " 11: 0.2064447177056783,\n",
       " 12: 0.2074369086885045,\n",
       " 13: 0.21800642560160166,\n",
       " 14: 0.21818639553561814,\n",
       " 15: 0.22116896824886723,\n",
       " 16: 0.22669504975646004,\n",
       " 17: 0.24050379908630948,\n",
       " 18: 0.24275566918934266,\n",
       " 19: 0.2758557102863186,\n",
       " 20: 0.27590332970191755,\n",
       " 21: 0.27645494963483264,\n",
       " 22: 0.27782126811033625,\n",
       " 23: 0.27779338225123773,\n",
       " 24: 0.28037839897889705,\n",
       " 25: 0.28012300902707965}"
      ]
     },
     "execution_count": 76,
     "metadata": {},
     "output_type": "execute_result"
    }
   ],
   "source": [
    "lm_r2_scores"
   ]
  },
  {
   "cell_type": "code",
   "execution_count": 77,
   "id": "070eb98d",
   "metadata": {},
   "outputs": [
    {
     "data": {
      "image/png": "[encoded data removed]",
      "text/plain": [
       "<Figure size 432x288 with 1 Axes>"
      ]
     },
     "metadata": {
      "needs_background": "light"
     },
     "output_type": "display_data"
    }
   ],
   "source": [
    "plt.plot(*zip(*sorted(lm_r2_scores.items())))\n",
    "plt.xlabel('k number of features')\n",
    "plt.ylabel('R2 Score')       \n",
    "plt.show()"
   ]
  },
  {
   "cell_type": "markdown",
   "id": "6095eb15",
   "metadata": {},
   "source": [
    "Selecting lower number of features has made things worse! Clearly selecting a subset of features has an impact on performance. "
   ]
  },
  {
   "cell_type": "markdown",
   "id": "b29a5d18",
   "metadata": {},
   "source": [
    "###### This shows that with the linear model we need all the features. "
   ]
  },
  {
   "cell_type": "code",
   "execution_count": 78,
   "id": "81587bc2",
   "metadata": {},
   "outputs": [
    {
     "data": {
      "text/plain": [
       "Pipeline(steps=[('standardscaler', StandardScaler()),\n",
       "                ('selectkbest',\n",
       "                 SelectKBest(k=25,\n",
       "                             score_func=<function f_regression at 0x000002426CA45430>)),\n",
       "                ('linearregression', LinearRegression())])"
      ]
     },
     "execution_count": 78,
     "metadata": {},
     "output_type": "execute_result"
    }
   ],
   "source": [
    "lm_pipe.fit(X_train, y_train)"
   ]
  },
  {
   "cell_type": "code",
   "execution_count": 79,
   "id": "57e55046",
   "metadata": {},
   "outputs": [],
   "source": [
    "y_tr_pred = lm_pipe.predict(X_train)\n",
    "y_te_pred = lm_pipe.predict(X_test)"
   ]
  },
  {
   "cell_type": "code",
   "execution_count": 80,
   "id": "be4e3cec",
   "metadata": {},
   "outputs": [
    {
     "data": {
      "text/plain": [
       "(0.27122441785249796, 0.28012300902707965)"
      ]
     },
     "execution_count": 80,
     "metadata": {},
     "output_type": "execute_result"
    }
   ],
   "source": [
    "r2_score(y_train, y_tr_pred), r2_score(y_test, y_te_pred)"
   ]
  },
  {
   "cell_type": "markdown",
   "id": "692fda47",
   "metadata": {},
   "source": [
    "###### Using all the 25 features within the pipeline resulted in the same performance as linear model "
   ]
  },
  {
   "cell_type": "markdown",
   "id": "56e39ccb",
   "metadata": {},
   "source": [
    "### Assessing performance using cross-validation¶"
   ]
  },
  {
   "cell_type": "code",
   "execution_count": 81,
   "id": "95661637",
   "metadata": {},
   "outputs": [],
   "source": [
    "cv_results = cross_validate(lm_pipe, X_train, y_train, cv=5)"
   ]
  },
  {
   "cell_type": "code",
   "execution_count": 82,
   "id": "a0126c07",
   "metadata": {},
   "outputs": [
    {
     "data": {
      "text/plain": [
       "array([0.23487158, 0.29356567, 0.27117085, 0.26709365, 0.27187707])"
      ]
     },
     "execution_count": 82,
     "metadata": {},
     "output_type": "execute_result"
    }
   ],
   "source": [
    "cv_scores = cv_results['test_score']\n",
    "cv_scores"
   ]
  },
  {
   "cell_type": "code",
   "execution_count": 83,
   "id": "7a0924a4",
   "metadata": {},
   "outputs": [
    {
     "data": {
      "text/plain": [
       "(0.26771576455040813, 0.01884992944334577)"
      ]
     },
     "execution_count": 83,
     "metadata": {},
     "output_type": "execute_result"
    }
   ],
   "source": [
    "np.mean(cv_scores), np.std(cv_scores)"
   ]
  },
  {
   "cell_type": "markdown",
   "id": "22b1dc5d",
   "metadata": {},
   "source": [
    "#### 95% confidence interval for the linear model R2 on the training set "
   ]
  },
  {
   "cell_type": "code",
   "execution_count": 84,
   "id": "21e4d79f",
   "metadata": {},
   "outputs": [
    {
     "data": {
      "text/plain": [
       "array([0.23, 0.31])"
      ]
     },
     "execution_count": 84,
     "metadata": {},
     "output_type": "execute_result"
    }
   ],
   "source": [
    "np.round((np.mean(cv_scores) - 2 * np.std(cv_scores), np.mean(cv_scores) + 2 * np.std(cv_scores)), 2)"
   ]
  },
  {
   "cell_type": "code",
   "execution_count": 85,
   "id": "45488343",
   "metadata": {},
   "outputs": [
    {
     "data": {
      "text/plain": [
       "dict_keys(['memory', 'steps', 'verbose', 'standardscaler', 'selectkbest', 'linearregression', 'standardscaler__copy', 'standardscaler__with_mean', 'standardscaler__with_std', 'selectkbest__k', 'selectkbest__score_func', 'linearregression__copy_X', 'linearregression__fit_intercept', 'linearregression__n_jobs', 'linearregression__normalize', 'linearregression__positive'])"
      ]
     },
     "execution_count": 85,
     "metadata": {},
     "output_type": "execute_result"
    }
   ],
   "source": [
    "lm_pipe.get_params().keys()"
   ]
  },
  {
   "cell_type": "code",
   "execution_count": 86,
   "id": "ea4e8432",
   "metadata": {},
   "outputs": [
    {
     "data": {
      "text/plain": [
       "{'selectkbest__k': [1,\n",
       "  2,\n",
       "  3,\n",
       "  4,\n",
       "  5,\n",
       "  6,\n",
       "  7,\n",
       "  8,\n",
       "  9,\n",
       "  10,\n",
       "  11,\n",
       "  12,\n",
       "  13,\n",
       "  14,\n",
       "  15,\n",
       "  16,\n",
       "  17,\n",
       "  18,\n",
       "  19,\n",
       "  20,\n",
       "  21,\n",
       "  22,\n",
       "  23,\n",
       "  24,\n",
       "  25]}"
      ]
     },
     "execution_count": 86,
     "metadata": {},
     "output_type": "execute_result"
    }
   ],
   "source": [
    "k = [k+1 for k in range(len(X_train.columns))]\n",
    "grid_params = {'selectkbest__k': k}\n",
    "grid_params"
   ]
  },
  {
   "cell_type": "code",
   "execution_count": 87,
   "id": "16ea168e",
   "metadata": {},
   "outputs": [],
   "source": [
    "lm_grid_cv = GridSearchCV(lm_pipe, param_grid=grid_params, cv=5, n_jobs=-1)"
   ]
  },
  {
   "cell_type": "code",
   "execution_count": 88,
   "id": "34bb1861",
   "metadata": {},
   "outputs": [
    {
     "data": {
      "text/plain": [
       "GridSearchCV(cv=5,\n",
       "             estimator=Pipeline(steps=[('standardscaler', StandardScaler()),\n",
       "                                       ('selectkbest',\n",
       "                                        SelectKBest(k=25,\n",
       "                                                    score_func=<function f_regression at 0x000002426CA45430>)),\n",
       "                                       ('linearregression',\n",
       "                                        LinearRegression())]),\n",
       "             n_jobs=-1,\n",
       "             param_grid={'selectkbest__k': [1, 2, 3, 4, 5, 6, 7, 8, 9, 10, 11,\n",
       "                                            12, 13, 14, 15, 16, 17, 18, 19, 20,\n",
       "                                            21, 22, 23, 24, 25]})"
      ]
     },
     "execution_count": 88,
     "metadata": {},
     "output_type": "execute_result"
    }
   ],
   "source": [
    "lm_grid_cv.fit(X_train, y_train)"
   ]
  },
  {
   "cell_type": "code",
   "execution_count": 89,
   "id": "1ddbaf5f",
   "metadata": {
    "scrolled": true
   },
   "outputs": [
    {
     "data": {
      "text/html": [
       "<div>\n",
       "<style scoped>\n",
       "    .dataframe tbody tr th:only-of-type {\n",
       "        vertical-align: middle;\n",
       "    }\n",
       "\n",
       "    .dataframe tbody tr th {\n",
       "        vertical-align: top;\n",
       "    }\n",
       "\n",
       "    .dataframe thead th {\n",
       "        text-align: right;\n",
       "    }\n",
       "</style>\n",
       "<table border=\"1\" class=\"dataframe\">\n",
       "  <thead>\n",
       "    <tr style=\"text-align: right;\">\n",
       "      <th></th>\n",
       "      <th>param_selectkbest__k</th>\n",
       "      <th>mean_test_score</th>\n",
       "      <th>rank_test_score</th>\n",
       "    </tr>\n",
       "  </thead>\n",
       "  <tbody>\n",
       "    <tr>\n",
       "      <th>0</th>\n",
       "      <td>1</td>\n",
       "      <td>0.067233</td>\n",
       "      <td>25</td>\n",
       "    </tr>\n",
       "    <tr>\n",
       "      <th>1</th>\n",
       "      <td>2</td>\n",
       "      <td>0.127100</td>\n",
       "      <td>24</td>\n",
       "    </tr>\n",
       "    <tr>\n",
       "      <th>2</th>\n",
       "      <td>3</td>\n",
       "      <td>0.138926</td>\n",
       "      <td>23</td>\n",
       "    </tr>\n",
       "    <tr>\n",
       "      <th>3</th>\n",
       "      <td>4</td>\n",
       "      <td>0.139481</td>\n",
       "      <td>22</td>\n",
       "    </tr>\n",
       "    <tr>\n",
       "      <th>4</th>\n",
       "      <td>5</td>\n",
       "      <td>0.147400</td>\n",
       "      <td>21</td>\n",
       "    </tr>\n",
       "    <tr>\n",
       "      <th>5</th>\n",
       "      <td>6</td>\n",
       "      <td>0.147432</td>\n",
       "      <td>20</td>\n",
       "    </tr>\n",
       "    <tr>\n",
       "      <th>6</th>\n",
       "      <td>7</td>\n",
       "      <td>0.160277</td>\n",
       "      <td>19</td>\n",
       "    </tr>\n",
       "    <tr>\n",
       "      <th>7</th>\n",
       "      <td>8</td>\n",
       "      <td>0.176557</td>\n",
       "      <td>18</td>\n",
       "    </tr>\n",
       "    <tr>\n",
       "      <th>8</th>\n",
       "      <td>9</td>\n",
       "      <td>0.184239</td>\n",
       "      <td>17</td>\n",
       "    </tr>\n",
       "    <tr>\n",
       "      <th>9</th>\n",
       "      <td>10</td>\n",
       "      <td>0.188229</td>\n",
       "      <td>16</td>\n",
       "    </tr>\n",
       "    <tr>\n",
       "      <th>10</th>\n",
       "      <td>11</td>\n",
       "      <td>0.200439</td>\n",
       "      <td>15</td>\n",
       "    </tr>\n",
       "    <tr>\n",
       "      <th>11</th>\n",
       "      <td>12</td>\n",
       "      <td>0.201470</td>\n",
       "      <td>14</td>\n",
       "    </tr>\n",
       "    <tr>\n",
       "      <th>12</th>\n",
       "      <td>13</td>\n",
       "      <td>0.209248</td>\n",
       "      <td>13</td>\n",
       "    </tr>\n",
       "    <tr>\n",
       "      <th>13</th>\n",
       "      <td>14</td>\n",
       "      <td>0.209412</td>\n",
       "      <td>12</td>\n",
       "    </tr>\n",
       "    <tr>\n",
       "      <th>14</th>\n",
       "      <td>15</td>\n",
       "      <td>0.212788</td>\n",
       "      <td>11</td>\n",
       "    </tr>\n",
       "    <tr>\n",
       "      <th>15</th>\n",
       "      <td>16</td>\n",
       "      <td>0.223503</td>\n",
       "      <td>10</td>\n",
       "    </tr>\n",
       "    <tr>\n",
       "      <th>16</th>\n",
       "      <td>17</td>\n",
       "      <td>0.231033</td>\n",
       "      <td>9</td>\n",
       "    </tr>\n",
       "    <tr>\n",
       "      <th>17</th>\n",
       "      <td>18</td>\n",
       "      <td>0.247824</td>\n",
       "      <td>8</td>\n",
       "    </tr>\n",
       "    <tr>\n",
       "      <th>18</th>\n",
       "      <td>19</td>\n",
       "      <td>0.264870</td>\n",
       "      <td>6</td>\n",
       "    </tr>\n",
       "    <tr>\n",
       "      <th>19</th>\n",
       "      <td>20</td>\n",
       "      <td>0.264777</td>\n",
       "      <td>7</td>\n",
       "    </tr>\n",
       "    <tr>\n",
       "      <th>20</th>\n",
       "      <td>21</td>\n",
       "      <td>0.265389</td>\n",
       "      <td>5</td>\n",
       "    </tr>\n",
       "    <tr>\n",
       "      <th>21</th>\n",
       "      <td>22</td>\n",
       "      <td>0.266499</td>\n",
       "      <td>4</td>\n",
       "    </tr>\n",
       "    <tr>\n",
       "      <th>22</th>\n",
       "      <td>23</td>\n",
       "      <td>0.267091</td>\n",
       "      <td>3</td>\n",
       "    </tr>\n",
       "    <tr>\n",
       "      <th>23</th>\n",
       "      <td>24</td>\n",
       "      <td>0.267310</td>\n",
       "      <td>2</td>\n",
       "    </tr>\n",
       "    <tr>\n",
       "      <th>24</th>\n",
       "      <td>25</td>\n",
       "      <td>0.267716</td>\n",
       "      <td>1</td>\n",
       "    </tr>\n",
       "  </tbody>\n",
       "</table>\n",
       "</div>"
      ],
      "text/plain": [
       "   param_selectkbest__k  mean_test_score  rank_test_score\n",
       "0                     1         0.067233               25\n",
       "1                     2         0.127100               24\n",
       "2                     3         0.138926               23\n",
       "3                     4         0.139481               22\n",
       "4                     5         0.147400               21\n",
       "5                     6         0.147432               20\n",
       "6                     7         0.160277               19\n",
       "7                     8         0.176557               18\n",
       "8                     9         0.184239               17\n",
       "9                    10         0.188229               16\n",
       "10                   11         0.200439               15\n",
       "11                   12         0.201470               14\n",
       "12                   13         0.209248               13\n",
       "13                   14         0.209412               12\n",
       "14                   15         0.212788               11\n",
       "15                   16         0.223503               10\n",
       "16                   17         0.231033                9\n",
       "17                   18         0.247824                8\n",
       "18                   19         0.264870                6\n",
       "19                   20         0.264777                7\n",
       "20                   21         0.265389                5\n",
       "21                   22         0.266499                4\n",
       "22                   23         0.267091                3\n",
       "23                   24         0.267310                2\n",
       "24                   25         0.267716                1"
      ]
     },
     "execution_count": 89,
     "metadata": {},
     "output_type": "execute_result"
    }
   ],
   "source": [
    "pd.DataFrame(lm_grid_cv.cv_results_)[['param_selectkbest__k', 'mean_test_score','rank_test_score']]"
   ]
  },
  {
   "cell_type": "markdown",
   "id": "e239d7e9",
   "metadata": {},
   "source": [
    "##### All 25 features give the best perfroamce during the training "
   ]
  },
  {
   "cell_type": "code",
   "execution_count": 90,
   "id": "79e228c1",
   "metadata": {},
   "outputs": [],
   "source": [
    "score_mean = lm_grid_cv.cv_results_['mean_test_score']\n",
    "score_std = lm_grid_cv.cv_results_['std_test_score']\n",
    "cv_k = [k for k in lm_grid_cv.cv_results_['param_selectkbest__k']]"
   ]
  },
  {
   "cell_type": "code",
   "execution_count": 91,
   "id": "8f7c19ff",
   "metadata": {},
   "outputs": [
    {
     "data": {
      "text/plain": [
       "array([0.06723301, 0.12710014, 0.13892565, 0.13948063, 0.14739965,\n",
       "       0.14743156, 0.1602771 , 0.17655704, 0.18423921, 0.18822904,\n",
       "       0.20043867, 0.20146988, 0.20924761, 0.20941193, 0.2127878 ,\n",
       "       0.22350254, 0.23103297, 0.24782427, 0.26486978, 0.26477705,\n",
       "       0.26538928, 0.26649949, 0.26709116, 0.26730952, 0.26771576])"
      ]
     },
     "execution_count": 91,
     "metadata": {},
     "output_type": "execute_result"
    }
   ],
   "source": [
    "score_mean"
   ]
  },
  {
   "cell_type": "code",
   "execution_count": 92,
   "id": "a43e012a",
   "metadata": {},
   "outputs": [
    {
     "data": {
      "text/plain": [
       "(0.2030496303157326, 0.05404005039213768)"
      ]
     },
     "execution_count": 92,
     "metadata": {},
     "output_type": "execute_result"
    }
   ],
   "source": [
    "np.mean(score_mean), np.std(score_mean)"
   ]
  },
  {
   "cell_type": "code",
   "execution_count": 93,
   "id": "01a77056",
   "metadata": {},
   "outputs": [
    {
     "data": {
      "text/plain": [
       "{'selectkbest__k': 25}"
      ]
     },
     "execution_count": 93,
     "metadata": {},
     "output_type": "execute_result"
    }
   ],
   "source": [
    "lm_grid_cv.best_params_"
   ]
  },
  {
   "cell_type": "code",
   "execution_count": 94,
   "id": "7ca72761",
   "metadata": {},
   "outputs": [
    {
     "data": {
      "image/png": "[encoded data removed]",
      "text/plain": [
       "<Figure size 720x360 with 1 Axes>"
      ]
     },
     "metadata": {
      "needs_background": "light"
     },
     "output_type": "display_data"
    }
   ],
   "source": [
    "best_k = lm_grid_cv.best_params_['selectkbest__k']\n",
    "plt.subplots(figsize=(10, 5))\n",
    "plt.errorbar(cv_k, score_mean, yerr=score_std)\n",
    "plt.axvline(x=best_k, c='r', ls='--', alpha=.5)\n",
    "plt.xlabel('Number of features k')\n",
    "plt.ylabel('CV mean test score (r-squared)')\n",
    "plt.title('Linear Model Pipeline mean CV score (error bars +/- 1sd)');"
   ]
  },
  {
   "cell_type": "markdown",
   "id": "fa66787e",
   "metadata": {},
   "source": [
    "##### Again, we can visually see that all 25 features give the best performance during the training"
   ]
  },
  {
   "cell_type": "code",
   "execution_count": 99,
   "id": "74179383",
   "metadata": {},
   "outputs": [
    {
     "data": {
      "text/plain": [
       "array([ True,  True,  True,  True,  True,  True,  True,  True,  True,\n",
       "        True,  True,  True,  True,  True,  True,  True,  True,  True,\n",
       "        True,  True,  True,  True,  True,  True,  True])"
      ]
     },
     "execution_count": 99,
     "metadata": {},
     "output_type": "execute_result"
    }
   ],
   "source": [
    "selected = lm_grid_cv.best_estimator_.named_steps.selectkbest.get_support()\n",
    "selected"
   ]
  },
  {
   "cell_type": "code",
   "execution_count": 100,
   "id": "fedf6523",
   "metadata": {},
   "outputs": [
    {
     "data": {
      "text/plain": [
       "H_Kitchen            0.431165\n",
       "T_out                0.400742\n",
       "H_Living             0.336074\n",
       "T_Building_out_NS    0.320041\n",
       "T_Laundry            0.306837\n",
       "H_Teenager           0.235853\n",
       "T_Parents            0.221332\n",
       "T_Living             0.213112\n",
       "T_Teenager           0.197203\n",
       "Tdewpoint            0.176389\n",
       "H_out                0.131952\n",
       "Lights_E_Wh          0.130742\n",
       "H_Building_out_NS    0.086216\n",
       "H_Laundry            0.081408\n",
       "H_Parents            0.055290\n",
       "T_Ironning           0.052769\n",
       "T_Office             0.046510\n",
       "Windspeed            0.034862\n",
       "H_Ironing            0.028531\n",
       "H_Bathroom           0.026734\n",
       "T_Kitchen            0.026730\n",
       "H_Office             0.016224\n",
       "Visibility           0.011652\n",
       "T_Bathroom           0.007323\n",
       "Press_out            0.000765\n",
       "dtype: float64"
      ]
     },
     "execution_count": 100,
     "metadata": {},
     "output_type": "execute_result"
    }
   ],
   "source": [
    "coefs_lm = lm_grid_cv.best_estimator_.named_steps.linearregression.coef_\n",
    "features = X_train.columns[selected]\n",
    "pd.Series(coefs_lm, index=features).abs().sort_values(ascending= False)"
   ]
  },
  {
   "cell_type": "code",
   "execution_count": 101,
   "id": "07983808",
   "metadata": {},
   "outputs": [
    {
     "data": {
      "image/png": "[encoded data removed]",
      "text/plain": [
       "<Figure size 432x288 with 1 Axes>"
      ]
     },
     "metadata": {
      "needs_background": "light"
     },
     "output_type": "display_data"
    }
   ],
   "source": [
    "pd.Series(coefs_lm, index=features).abs().sort_values(ascending= False).plot(kind='bar')\n",
    "plt.xlabel('features')\n",
    "plt.ylabel('importance')\n",
    "plt.title('Linear regressor feature importances');"
   ]
  },
  {
   "cell_type": "markdown",
   "id": "cdd2878c",
   "metadata": {},
   "source": [
    "##### These results suggest that H_Kitchen is our feature with largest coef, followed by T_out, H_Living, T_Building_out_NS, T_Laundry, and H_Teenager. "
   ]
  },
  {
   "cell_type": "markdown",
   "id": "6bbbbe3e",
   "metadata": {},
   "source": [
    "###### We perfrom the same analyis (k sensetivity) using RF model "
   ]
  },
  {
   "cell_type": "markdown",
   "id": "00f67cd0",
   "metadata": {},
   "source": [
    "# RandomForest "
   ]
  },
  {
   "cell_type": "code",
   "execution_count": 102,
   "id": "5fdb0cf0",
   "metadata": {},
   "outputs": [],
   "source": [
    "r2_dict={}\n",
    "for k in range(1,26):\n",
    "    RF_pipe = make_pipeline(StandardScaler(), SelectKBest(f_regression, k = k), RandomForestRegressor())\n",
    "    RF_pipe.fit(X_train, y_train)\n",
    "    y_te_pred =RF_pipe.predict(X_test)\n",
    "    r2_dict[k]= r2_score(y_test, y_te_pred)"
   ]
  },
  {
   "cell_type": "code",
   "execution_count": 103,
   "id": "6f25d7d0",
   "metadata": {},
   "outputs": [
    {
     "data": {
      "text/plain": [
       "{1: 0.07376448991943496,\n",
       " 2: 0.0860017497928296,\n",
       " 3: 0.09919132936116848,\n",
       " 4: 0.4184311278534023,\n",
       " 5: 0.5080829915657723,\n",
       " 6: 0.5730829697199535,\n",
       " 7: 0.6079224023534147,\n",
       " 8: 0.6317884118188579,\n",
       " 9: 0.642689478642877,\n",
       " 10: 0.650993612379938,\n",
       " 11: 0.6539006976937904,\n",
       " 12: 0.6618929111382104,\n",
       " 13: 0.6648156846764778,\n",
       " 14: 0.6737877409133577,\n",
       " 15: 0.6724946381950294,\n",
       " 16: 0.6700017627613861,\n",
       " 17: 0.6714108883519057,\n",
       " 18: 0.6711540014426715,\n",
       " 19: 0.6679058820886703,\n",
       " 20: 0.6683523646169782,\n",
       " 21: 0.6699298854540702,\n",
       " 22: 0.6704640695987034,\n",
       " 23: 0.6720577844577083,\n",
       " 24: 0.6691750651746253,\n",
       " 25: 0.6708049573581362}"
      ]
     },
     "execution_count": 103,
     "metadata": {},
     "output_type": "execute_result"
    }
   ],
   "source": [
    "r2_dict"
   ]
  },
  {
   "cell_type": "markdown",
   "id": "6d7a87a9",
   "metadata": {},
   "source": [
    "###### It seems the best number of features is 14 in this case!"
   ]
  },
  {
   "cell_type": "code",
   "execution_count": 104,
   "id": "14db7d99",
   "metadata": {},
   "outputs": [
    {
     "data": {
      "image/png": "[encoded data removed]",
      "text/plain": [
       "<Figure size 432x288 with 1 Axes>"
      ]
     },
     "metadata": {
      "needs_background": "light"
     },
     "output_type": "display_data"
    }
   ],
   "source": [
    "plt.plot(*zip(*sorted(r2_dict.items())))\n",
    "plt.xlabel('k number of features')\n",
    "plt.ylabel('R2 Score')       \n",
    "plt.show()"
   ]
  },
  {
   "cell_type": "code",
   "execution_count": 105,
   "id": "ce296a81",
   "metadata": {},
   "outputs": [],
   "source": [
    "RF_pipe = make_pipeline(StandardScaler(), SelectKBest(f_regression), \n",
    "    RandomForestRegressor())  "
   ]
  },
  {
   "cell_type": "markdown",
   "id": "0725a1df",
   "metadata": {},
   "source": [
    "RF_pipe = make_pipeline(StandardScaler(), SelectKBest(f_regression, k = 25), \n",
    "    RandomForestRegressor(random_state=42))"
   ]
  },
  {
   "cell_type": "code",
   "execution_count": 106,
   "id": "7c0bae02",
   "metadata": {},
   "outputs": [
    {
     "data": {
      "text/plain": [
       "Pipeline(steps=[('standardscaler', StandardScaler()),\n",
       "                ('selectkbest',\n",
       "                 SelectKBest(score_func=<function f_regression at 0x000002426CA45430>)),\n",
       "                ('randomforestregressor', RandomForestRegressor())])"
      ]
     },
     "execution_count": 106,
     "metadata": {},
     "output_type": "execute_result"
    }
   ],
   "source": [
    "RF_pipe.fit(X_train, y_train)"
   ]
  },
  {
   "cell_type": "code",
   "execution_count": 107,
   "id": "22c3161e",
   "metadata": {},
   "outputs": [],
   "source": [
    "y_tr_pred = RF_pipe.predict(X_train)\n",
    "y_te_pred =RF_pipe.predict(X_test)"
   ]
  },
  {
   "cell_type": "code",
   "execution_count": 108,
   "id": "2414ba58",
   "metadata": {},
   "outputs": [
    {
     "data": {
      "text/plain": [
       "(0.9487040530137225, 0.6511376572215044)"
      ]
     },
     "execution_count": 108,
     "metadata": {},
     "output_type": "execute_result"
    }
   ],
   "source": [
    "r2_score(y_train, y_tr_pred), r2_score(y_test, y_te_pred)  # scores on training and test set"
   ]
  },
  {
   "cell_type": "markdown",
   "id": "dbcae82b",
   "metadata": {},
   "source": [
    "### Assessing performance using cross-validation¶"
   ]
  },
  {
   "cell_type": "code",
   "execution_count": 109,
   "id": "dd71303a",
   "metadata": {},
   "outputs": [],
   "source": [
    "cv_results = cross_validate(RF_pipe, X_train, y_train, cv=5)"
   ]
  },
  {
   "cell_type": "code",
   "execution_count": 110,
   "id": "e6550bed",
   "metadata": {},
   "outputs": [
    {
     "data": {
      "text/plain": [
       "array([0.56825713, 0.59799165, 0.61542851, 0.60028162, 0.60510584])"
      ]
     },
     "execution_count": 110,
     "metadata": {},
     "output_type": "execute_result"
    }
   ],
   "source": [
    "cv_scores = cv_results['test_score']\n",
    "cv_scores"
   ]
  },
  {
   "cell_type": "code",
   "execution_count": 111,
   "id": "df5d8109",
   "metadata": {},
   "outputs": [
    {
     "data": {
      "text/plain": [
       "(0.5974129492322537, 0.015763040660466163)"
      ]
     },
     "execution_count": 111,
     "metadata": {},
     "output_type": "execute_result"
    }
   ],
   "source": [
    "np.mean(cv_scores), np.std(cv_scores)"
   ]
  },
  {
   "cell_type": "markdown",
   "id": "6e097665",
   "metadata": {},
   "source": [
    "#### 95% confidence interval for the RF model R2 on the training set "
   ]
  },
  {
   "cell_type": "code",
   "execution_count": 112,
   "id": "476f787e",
   "metadata": {},
   "outputs": [
    {
     "data": {
      "text/plain": [
       "array([0.57, 0.63])"
      ]
     },
     "execution_count": 112,
     "metadata": {},
     "output_type": "execute_result"
    }
   ],
   "source": [
    "np.round((np.mean(cv_scores) - 2 * np.std(cv_scores), np.mean(cv_scores) + 2 * np.std(cv_scores)), 2)"
   ]
  },
  {
   "cell_type": "code",
   "execution_count": 113,
   "id": "202efb0a",
   "metadata": {},
   "outputs": [
    {
     "data": {
      "text/plain": [
       "dict_keys(['memory', 'steps', 'verbose', 'standardscaler', 'selectkbest', 'randomforestregressor', 'standardscaler__copy', 'standardscaler__with_mean', 'standardscaler__with_std', 'selectkbest__k', 'selectkbest__score_func', 'randomforestregressor__bootstrap', 'randomforestregressor__ccp_alpha', 'randomforestregressor__criterion', 'randomforestregressor__max_depth', 'randomforestregressor__max_features', 'randomforestregressor__max_leaf_nodes', 'randomforestregressor__max_samples', 'randomforestregressor__min_impurity_decrease', 'randomforestregressor__min_impurity_split', 'randomforestregressor__min_samples_leaf', 'randomforestregressor__min_samples_split', 'randomforestregressor__min_weight_fraction_leaf', 'randomforestregressor__n_estimators', 'randomforestregressor__n_jobs', 'randomforestregressor__oob_score', 'randomforestregressor__random_state', 'randomforestregressor__verbose', 'randomforestregressor__warm_start'])"
      ]
     },
     "execution_count": 113,
     "metadata": {},
     "output_type": "execute_result"
    }
   ],
   "source": [
    "RF_pipe.get_params().keys()"
   ]
  },
  {
   "cell_type": "code",
   "execution_count": 114,
   "id": "d7460bc9",
   "metadata": {},
   "outputs": [
    {
     "data": {
      "text/plain": [
       "{'selectkbest__k': [1,\n",
       "  2,\n",
       "  3,\n",
       "  4,\n",
       "  5,\n",
       "  6,\n",
       "  7,\n",
       "  8,\n",
       "  9,\n",
       "  10,\n",
       "  11,\n",
       "  12,\n",
       "  13,\n",
       "  14,\n",
       "  15,\n",
       "  16,\n",
       "  17,\n",
       "  18,\n",
       "  19,\n",
       "  20,\n",
       "  21,\n",
       "  22,\n",
       "  23,\n",
       "  24,\n",
       "  25]}"
      ]
     },
     "execution_count": 114,
     "metadata": {},
     "output_type": "execute_result"
    }
   ],
   "source": [
    "k = [k+1 for k in range(len(X_train.columns))]\n",
    "grid_params = {'selectkbest__k': k}\n",
    "grid_params"
   ]
  },
  {
   "cell_type": "code",
   "execution_count": 115,
   "id": "13935400",
   "metadata": {},
   "outputs": [],
   "source": [
    "RF_grid_cv = GridSearchCV(RF_pipe, param_grid=grid_params, cv=5, n_jobs=-1)"
   ]
  },
  {
   "cell_type": "code",
   "execution_count": 116,
   "id": "77a46dae",
   "metadata": {},
   "outputs": [
    {
     "data": {
      "text/plain": [
       "GridSearchCV(cv=5,\n",
       "             estimator=Pipeline(steps=[('standardscaler', StandardScaler()),\n",
       "                                       ('selectkbest',\n",
       "                                        SelectKBest(score_func=<function f_regression at 0x000002426CA45430>)),\n",
       "                                       ('randomforestregressor',\n",
       "                                        RandomForestRegressor())]),\n",
       "             n_jobs=-1,\n",
       "             param_grid={'selectkbest__k': [1, 2, 3, 4, 5, 6, 7, 8, 9, 10, 11,\n",
       "                                            12, 13, 14, 15, 16, 17, 18, 19, 20,\n",
       "                                            21, 22, 23, 24, 25]})"
      ]
     },
     "execution_count": 116,
     "metadata": {},
     "output_type": "execute_result"
    }
   ],
   "source": [
    "RF_grid_cv.fit(X_train, y_train)"
   ]
  },
  {
   "cell_type": "code",
   "execution_count": 117,
   "id": "18e8956a",
   "metadata": {
    "scrolled": true
   },
   "outputs": [
    {
     "data": {
      "text/html": [
       "<div>\n",
       "<style scoped>\n",
       "    .dataframe tbody tr th:only-of-type {\n",
       "        vertical-align: middle;\n",
       "    }\n",
       "\n",
       "    .dataframe tbody tr th {\n",
       "        vertical-align: top;\n",
       "    }\n",
       "\n",
       "    .dataframe thead th {\n",
       "        text-align: right;\n",
       "    }\n",
       "</style>\n",
       "<table border=\"1\" class=\"dataframe\">\n",
       "  <thead>\n",
       "    <tr style=\"text-align: right;\">\n",
       "      <th></th>\n",
       "      <th>param_selectkbest__k</th>\n",
       "      <th>mean_test_score</th>\n",
       "      <th>rank_test_score</th>\n",
       "    </tr>\n",
       "  </thead>\n",
       "  <tbody>\n",
       "    <tr>\n",
       "      <th>0</th>\n",
       "      <td>1</td>\n",
       "      <td>0.071082</td>\n",
       "      <td>24</td>\n",
       "    </tr>\n",
       "    <tr>\n",
       "      <th>1</th>\n",
       "      <td>2</td>\n",
       "      <td>0.068391</td>\n",
       "      <td>25</td>\n",
       "    </tr>\n",
       "    <tr>\n",
       "      <th>2</th>\n",
       "      <td>3</td>\n",
       "      <td>0.098485</td>\n",
       "      <td>23</td>\n",
       "    </tr>\n",
       "    <tr>\n",
       "      <th>3</th>\n",
       "      <td>4</td>\n",
       "      <td>0.365387</td>\n",
       "      <td>22</td>\n",
       "    </tr>\n",
       "    <tr>\n",
       "      <th>4</th>\n",
       "      <td>5</td>\n",
       "      <td>0.451528</td>\n",
       "      <td>21</td>\n",
       "    </tr>\n",
       "    <tr>\n",
       "      <th>5</th>\n",
       "      <td>6</td>\n",
       "      <td>0.513920</td>\n",
       "      <td>20</td>\n",
       "    </tr>\n",
       "    <tr>\n",
       "      <th>6</th>\n",
       "      <td>7</td>\n",
       "      <td>0.553388</td>\n",
       "      <td>19</td>\n",
       "    </tr>\n",
       "    <tr>\n",
       "      <th>7</th>\n",
       "      <td>8</td>\n",
       "      <td>0.574040</td>\n",
       "      <td>18</td>\n",
       "    </tr>\n",
       "    <tr>\n",
       "      <th>8</th>\n",
       "      <td>9</td>\n",
       "      <td>0.591239</td>\n",
       "      <td>17</td>\n",
       "    </tr>\n",
       "    <tr>\n",
       "      <th>9</th>\n",
       "      <td>10</td>\n",
       "      <td>0.597645</td>\n",
       "      <td>16</td>\n",
       "    </tr>\n",
       "    <tr>\n",
       "      <th>10</th>\n",
       "      <td>11</td>\n",
       "      <td>0.601426</td>\n",
       "      <td>15</td>\n",
       "    </tr>\n",
       "    <tr>\n",
       "      <th>11</th>\n",
       "      <td>12</td>\n",
       "      <td>0.608504</td>\n",
       "      <td>14</td>\n",
       "    </tr>\n",
       "    <tr>\n",
       "      <th>12</th>\n",
       "      <td>13</td>\n",
       "      <td>0.609928</td>\n",
       "      <td>13</td>\n",
       "    </tr>\n",
       "    <tr>\n",
       "      <th>13</th>\n",
       "      <td>14</td>\n",
       "      <td>0.612952</td>\n",
       "      <td>12</td>\n",
       "    </tr>\n",
       "    <tr>\n",
       "      <th>14</th>\n",
       "      <td>15</td>\n",
       "      <td>0.615529</td>\n",
       "      <td>11</td>\n",
       "    </tr>\n",
       "    <tr>\n",
       "      <th>15</th>\n",
       "      <td>16</td>\n",
       "      <td>0.615990</td>\n",
       "      <td>10</td>\n",
       "    </tr>\n",
       "    <tr>\n",
       "      <th>16</th>\n",
       "      <td>17</td>\n",
       "      <td>0.617968</td>\n",
       "      <td>9</td>\n",
       "    </tr>\n",
       "    <tr>\n",
       "      <th>17</th>\n",
       "      <td>18</td>\n",
       "      <td>0.618569</td>\n",
       "      <td>8</td>\n",
       "    </tr>\n",
       "    <tr>\n",
       "      <th>18</th>\n",
       "      <td>19</td>\n",
       "      <td>0.620411</td>\n",
       "      <td>7</td>\n",
       "    </tr>\n",
       "    <tr>\n",
       "      <th>19</th>\n",
       "      <td>20</td>\n",
       "      <td>0.622786</td>\n",
       "      <td>6</td>\n",
       "    </tr>\n",
       "    <tr>\n",
       "      <th>20</th>\n",
       "      <td>21</td>\n",
       "      <td>0.623613</td>\n",
       "      <td>5</td>\n",
       "    </tr>\n",
       "    <tr>\n",
       "      <th>21</th>\n",
       "      <td>22</td>\n",
       "      <td>0.628970</td>\n",
       "      <td>1</td>\n",
       "    </tr>\n",
       "    <tr>\n",
       "      <th>22</th>\n",
       "      <td>23</td>\n",
       "      <td>0.626619</td>\n",
       "      <td>3</td>\n",
       "    </tr>\n",
       "    <tr>\n",
       "      <th>23</th>\n",
       "      <td>24</td>\n",
       "      <td>0.624843</td>\n",
       "      <td>4</td>\n",
       "    </tr>\n",
       "    <tr>\n",
       "      <th>24</th>\n",
       "      <td>25</td>\n",
       "      <td>0.627114</td>\n",
       "      <td>2</td>\n",
       "    </tr>\n",
       "  </tbody>\n",
       "</table>\n",
       "</div>"
      ],
      "text/plain": [
       "   param_selectkbest__k  mean_test_score  rank_test_score\n",
       "0                     1         0.071082               24\n",
       "1                     2         0.068391               25\n",
       "2                     3         0.098485               23\n",
       "3                     4         0.365387               22\n",
       "4                     5         0.451528               21\n",
       "5                     6         0.513920               20\n",
       "6                     7         0.553388               19\n",
       "7                     8         0.574040               18\n",
       "8                     9         0.591239               17\n",
       "9                    10         0.597645               16\n",
       "10                   11         0.601426               15\n",
       "11                   12         0.608504               14\n",
       "12                   13         0.609928               13\n",
       "13                   14         0.612952               12\n",
       "14                   15         0.615529               11\n",
       "15                   16         0.615990               10\n",
       "16                   17         0.617968                9\n",
       "17                   18         0.618569                8\n",
       "18                   19         0.620411                7\n",
       "19                   20         0.622786                6\n",
       "20                   21         0.623613                5\n",
       "21                   22         0.628970                1\n",
       "22                   23         0.626619                3\n",
       "23                   24         0.624843                4\n",
       "24                   25         0.627114                2"
      ]
     },
     "execution_count": 117,
     "metadata": {},
     "output_type": "execute_result"
    }
   ],
   "source": [
    "pd.DataFrame(RF_grid_cv.cv_results_)[['param_selectkbest__k', 'mean_test_score','rank_test_score']]"
   ]
  },
  {
   "cell_type": "markdown",
   "id": "a940800c",
   "metadata": {},
   "source": [
    "##### Having 22 features out of 25 features give the best perfroamce (# 1 rank) during the training using RF model"
   ]
  },
  {
   "cell_type": "code",
   "execution_count": 118,
   "id": "a36110cd",
   "metadata": {},
   "outputs": [],
   "source": [
    "score_mean = RF_grid_cv.cv_results_['mean_test_score']\n",
    "score_std = RF_grid_cv.cv_results_['std_test_score']\n",
    "cv_k = [k for k in lm_grid_cv.cv_results_['param_selectkbest__k']]"
   ]
  },
  {
   "cell_type": "code",
   "execution_count": 119,
   "id": "789bb00b",
   "metadata": {},
   "outputs": [
    {
     "data": {
      "text/plain": [
       "array([0.07108214, 0.06839083, 0.09848525, 0.36538707, 0.45152811,\n",
       "       0.51392024, 0.55338757, 0.57403959, 0.59123893, 0.59764473,\n",
       "       0.60142648, 0.60850412, 0.60992754, 0.61295194, 0.6155291 ,\n",
       "       0.61599011, 0.61796838, 0.61856889, 0.62041128, 0.62278593,\n",
       "       0.62361315, 0.62897022, 0.62661946, 0.62484329, 0.62711382])"
      ]
     },
     "execution_count": 119,
     "metadata": {},
     "output_type": "execute_result"
    }
   ],
   "source": [
    "score_mean"
   ]
  },
  {
   "cell_type": "code",
   "execution_count": 120,
   "id": "7330b823",
   "metadata": {},
   "outputs": [
    {
     "data": {
      "text/plain": [
       "(0.5264131271242638, 0.17570752549315813)"
      ]
     },
     "execution_count": 120,
     "metadata": {},
     "output_type": "execute_result"
    }
   ],
   "source": [
    "np.mean(score_mean), np.std(score_mean)"
   ]
  },
  {
   "cell_type": "code",
   "execution_count": 121,
   "id": "ae7ec20c",
   "metadata": {},
   "outputs": [
    {
     "data": {
      "text/plain": [
       "{'selectkbest__k': 22}"
      ]
     },
     "execution_count": 121,
     "metadata": {},
     "output_type": "execute_result"
    }
   ],
   "source": [
    "RF_grid_cv.best_params_"
   ]
  },
  {
   "cell_type": "code",
   "execution_count": 122,
   "id": "9b26da68",
   "metadata": {},
   "outputs": [
    {
     "data": {
      "image/png": "[encoded data removed]",
      "text/plain": [
       "<Figure size 720x360 with 1 Axes>"
      ]
     },
     "metadata": {
      "needs_background": "light"
     },
     "output_type": "display_data"
    }
   ],
   "source": [
    "best_k = RF_grid_cv.best_params_['selectkbest__k']\n",
    "plt.subplots(figsize=(10, 5))\n",
    "plt.errorbar(cv_k, score_mean, yerr=score_std)\n",
    "plt.axvline(x=best_k, c='r', ls='--', alpha=.5)\n",
    "plt.xlabel('k')\n",
    "plt.ylabel('CV score (r-squared)')\n",
    "plt.title('RF Model Pipeline mean CV score (error bars +/- 1sd)');"
   ]
  },
  {
   "cell_type": "markdown",
   "id": "a78cb392",
   "metadata": {},
   "source": [
    "##### Again, we can visually see that having 22 features out of 25 features give the best perfroamce during the training "
   ]
  },
  {
   "cell_type": "code",
   "execution_count": 123,
   "id": "015a753a",
   "metadata": {},
   "outputs": [
    {
     "data": {
      "text/plain": [
       "array([ True,  True,  True,  True,  True,  True, False,  True, False,\n",
       "        True,  True,  True,  True,  True,  True,  True,  True,  True,\n",
       "        True,  True,  True,  True,  True, False,  True])"
      ]
     },
     "execution_count": 123,
     "metadata": {},
     "output_type": "execute_result"
    }
   ],
   "source": [
    "selected = RF_grid_cv.best_estimator_.named_steps.selectkbest.get_support()\n",
    "selected"
   ]
  },
  {
   "cell_type": "code",
   "execution_count": 124,
   "id": "943ad755",
   "metadata": {},
   "outputs": [
    {
     "data": {
      "text/plain": [
       "H_out                0.083707\n",
       "Lights_E_Wh          0.074437\n",
       "H_Kitchen            0.073573\n",
       "H_Teenager           0.067961\n",
       "Press_out            0.055724\n",
       "T_Living             0.048524\n",
       "T_Teenager           0.047794\n",
       "T_Laundry            0.046586\n",
       "H_Bathroom           0.045731\n",
       "H_Parents            0.043798\n",
       "H_Living             0.043660\n",
       "H_Building_out_NS    0.042465\n",
       "T_Bathroom           0.041172\n",
       "H_Ironing            0.037946\n",
       "Tdewpoint            0.036226\n",
       "T_Office             0.034383\n",
       "T_Building_out_NS    0.034163\n",
       "Windspeed            0.032256\n",
       "T_Parents            0.031052\n",
       "T_Ironning           0.026623\n",
       "T_Kitchen            0.026348\n",
       "T_out                0.025872\n",
       "dtype: float64"
      ]
     },
     "execution_count": 124,
     "metadata": {},
     "output_type": "execute_result"
    }
   ],
   "source": [
    "coefs_rf = RF_grid_cv.best_estimator_.named_steps.randomforestregressor.feature_importances_\n",
    "features = X_train.columns[selected]\n",
    "pd.Series(coefs_rf, index=features).sort_values(ascending= False)"
   ]
  },
  {
   "cell_type": "code",
   "execution_count": 125,
   "id": "56620fcd",
   "metadata": {},
   "outputs": [
    {
     "data": {
      "image/png": "[encoded data removed]",
      "text/plain": [
       "<Figure size 432x288 with 1 Axes>"
      ]
     },
     "metadata": {
      "needs_background": "light"
     },
     "output_type": "display_data"
    }
   ],
   "source": [
    "pd.Series(coefs_rf, index=features).sort_values(ascending= False).plot(kind='bar')\n",
    "plt.xlabel('features')\n",
    "plt.ylabel('importance')\n",
    "plt.title('RF regressor feature importances');"
   ]
  },
  {
   "cell_type": "markdown",
   "id": "e4408573",
   "metadata": {},
   "source": [
    "# Data quantity assessment"
   ]
  },
  {
   "cell_type": "markdown",
   "id": "4d3c1e92",
   "metadata": {},
   "source": [
    "We also need to know if we have enough data points or need to undertake further data collection. Would more data be useful? We're often led to believe more data is always good, but gathering data invariably has a cost associated with it. Assess this trade off by seeing how performance varies with differing data set sizes. The learning_curve function does this conveniently."
   ]
  },
  {
   "cell_type": "code",
   "execution_count": 126,
   "id": "9704ce45",
   "metadata": {},
   "outputs": [],
   "source": [
    "fractions = [.2, .25, .3, .35, .4, .45, .5, .6, .75, .8, 1.0]\n",
    "train_size, train_scores, test_scores = learning_curve(lm_pipe, X_train, y_train, train_sizes=fractions)\n",
    "train_scores_mean = np.mean(train_scores, axis=1)\n",
    "train_scores_std = np.std(train_scores, axis=1)\n",
    "test_scores_mean = np.mean(test_scores, axis=1)\n",
    "test_scores_std = np.std(test_scores, axis=1)"
   ]
  },
  {
   "cell_type": "code",
   "execution_count": 127,
   "id": "c8ed1220",
   "metadata": {},
   "outputs": [
    {
     "data": {
      "text/plain": [
       "array([0.26123079, 0.2615001 , 0.26330907, 0.26414664, 0.26473198,\n",
       "       0.26567536, 0.26637447, 0.26675347, 0.26716173, 0.26738893,\n",
       "       0.26771098])"
      ]
     },
     "execution_count": 127,
     "metadata": {},
     "output_type": "execute_result"
    }
   ],
   "source": [
    "test_scores_mean"
   ]
  },
  {
   "cell_type": "code",
   "execution_count": 135,
   "id": "d1358e3c",
   "metadata": {},
   "outputs": [
    {
     "data": {
      "text/plain": [
       "array([ 2210,  2762,  3315,  3867,  4420,  4972,  5525,  6630,  8288,\n",
       "        8840, 11051])"
      ]
     },
     "execution_count": 135,
     "metadata": {},
     "output_type": "execute_result"
    }
   ],
   "source": [
    "train_size"
   ]
  },
  {
   "cell_type": "code",
   "execution_count": 128,
   "id": "9d3456b8",
   "metadata": {},
   "outputs": [
    {
     "data": {
      "image/png": "[encoded data removed]",
      "text/plain": [
       "<Figure size 1080x720 with 1 Axes>"
      ]
     },
     "metadata": {
      "needs_background": "light"
     },
     "output_type": "display_data"
    }
   ],
   "source": [
    "plt.subplots(figsize=(15, 10))\n",
    "plt.errorbar(train_size, test_scores_mean, yerr=test_scores_std)\n",
    "plt.xlabel('Training set size')\n",
    "plt.ylabel('CV scores')\n",
    "plt.title('Cross-validation score as training set size increases');"
   ]
  },
  {
   "cell_type": "markdown",
   "id": "7e584282",
   "metadata": {},
   "source": [
    "#### This shows that we have plenty of data. There's an initial improvement in model scores as one would expect, but it's essentially levelled off by around a sample size of 8840."
   ]
  },
  {
   "cell_type": "markdown",
   "id": "e5e2a970",
   "metadata": {},
   "source": [
    "# Random Forest Model"
   ]
  },
  {
   "cell_type": "code",
   "execution_count": 129,
   "id": "e205fe9b",
   "metadata": {},
   "outputs": [],
   "source": [
    "rf_model= RandomForestRegressor(random_state=42)"
   ]
  },
  {
   "cell_type": "code",
   "execution_count": 130,
   "id": "fa2481bd",
   "metadata": {},
   "outputs": [
    {
     "data": {
      "text/plain": [
       "RandomForestRegressor(random_state=42)"
      ]
     },
     "execution_count": 130,
     "metadata": {},
     "output_type": "execute_result"
    }
   ],
   "source": [
    "rf_model.fit(X_train_scaled, y_train)"
   ]
  },
  {
   "cell_type": "code",
   "execution_count": 131,
   "id": "5cab4072",
   "metadata": {},
   "outputs": [],
   "source": [
    "y_te_pred_rf = rf_model.predict(X_test_scaled)"
   ]
  },
  {
   "cell_type": "code",
   "execution_count": 132,
   "id": "b12302a3",
   "metadata": {},
   "outputs": [],
   "source": [
    "y_tr_pred_rf = rf_model.predict(X_train_scaled)"
   ]
  },
  {
   "cell_type": "code",
   "execution_count": 133,
   "id": "bdb7f1e2",
   "metadata": {},
   "outputs": [
    {
     "data": {
      "text/plain": [
       "(0.9524085408005647, 0.6705514605411975)"
      ]
     },
     "execution_count": 133,
     "metadata": {},
     "output_type": "execute_result"
    }
   ],
   "source": [
    "#  Assess model performance\n",
    "r2_score(y_train, y_tr_pred_rf), r2_score(y_test, y_te_pred_rf)"
   ]
  },
  {
   "cell_type": "code",
   "execution_count": 134,
   "id": "48fe6f03",
   "metadata": {},
   "outputs": [
    {
     "data": {
      "text/plain": [
       "0.056918705750176296"
      ]
     },
     "execution_count": 134,
     "metadata": {},
     "output_type": "execute_result"
    }
   ],
   "source": [
    "mean_absolute_percentage_error(y_test, y_te_pred_rf)"
   ]
  },
  {
   "cell_type": "markdown",
   "id": "48719568",
   "metadata": {},
   "source": [
    "##### The RF model accuracy is more than double of the linear model. "
   ]
  }
 ],
 "metadata": {
  "kernelspec": {
   "display_name": "Python 3 (ipykernel)",
   "language": "python",
   "name": "python3"
  },
  "language_info": {
   "codemirror_mode": {
    "name": "ipython",
    "version": 3
   },
   "file_extension": ".py",
   "mimetype": "text/x-python",
   "name": "python",
   "nbconvert_exporter": "python",
   "pygments_lexer": "ipython3",
   "version": "3.9.7"
  }
 },
 "nbformat": 4,
 "nbformat_minor": 5
}
